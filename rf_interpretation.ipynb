{
 "cells": [
  {
   "cell_type": "markdown",
   "id": "a75b0479",
   "metadata": {},
   "source": [
    "plan:<br>\n",
    "1) train model <br>\n",
    "2) box importances - throw away useless features<br>\n",
    "3) permutation importances<br>\n",
    "4) feature analysis<br>\n",
    "5) error analysis<br>\n",
    "6) conclusions<br>"
   ]
  },
  {
   "cell_type": "markdown",
   "id": "63d6d5b4",
   "metadata": {},
   "source": [
    "# Imports"
   ]
  },
  {
   "cell_type": "code",
   "execution_count": 5,
   "id": "b1e414d9",
   "metadata": {
    "ExecuteTime": {
     "end_time": "2022-03-15T08:19:58.125191Z",
     "start_time": "2022-03-15T08:19:58.120941Z"
    }
   },
   "outputs": [],
   "source": [
    "import pandas as pd\n",
    "\n",
    "from sklearn.model_selection import train_test_split\n",
    "from sklearn.ensemble import RandomForestRegressor\n",
    "\n",
    "from utils import metrics\n",
    "from utils import preprocessing as pr"
   ]
  },
  {
   "cell_type": "markdown",
   "id": "724fb399",
   "metadata": {},
   "source": [
    "# Load data"
   ]
  },
  {
   "cell_type": "code",
   "execution_count": 6,
   "id": "f1b9ed0e",
   "metadata": {
    "ExecuteTime": {
     "end_time": "2022-03-15T08:19:58.176792Z",
     "start_time": "2022-03-15T08:19:58.128843Z"
    }
   },
   "outputs": [
    {
     "data": {
      "text/html": [
       "<div>\n",
       "<style scoped>\n",
       "    .dataframe tbody tr th:only-of-type {\n",
       "        vertical-align: middle;\n",
       "    }\n",
       "\n",
       "    .dataframe tbody tr th {\n",
       "        vertical-align: top;\n",
       "    }\n",
       "\n",
       "    .dataframe thead th {\n",
       "        text-align: right;\n",
       "    }\n",
       "</style>\n",
       "<table border=\"1\" class=\"dataframe\">\n",
       "  <thead>\n",
       "    <tr style=\"text-align: right;\">\n",
       "      <th></th>\n",
       "      <th>Id</th>\n",
       "      <th>MSSubClass</th>\n",
       "      <th>MSZoning</th>\n",
       "      <th>LotFrontage</th>\n",
       "      <th>LotArea</th>\n",
       "      <th>Street</th>\n",
       "      <th>Alley</th>\n",
       "      <th>LotShape</th>\n",
       "      <th>LandContour</th>\n",
       "      <th>Utilities</th>\n",
       "      <th>...</th>\n",
       "      <th>PoolArea</th>\n",
       "      <th>PoolQC</th>\n",
       "      <th>Fence</th>\n",
       "      <th>MiscFeature</th>\n",
       "      <th>MiscVal</th>\n",
       "      <th>MoSold</th>\n",
       "      <th>YrSold</th>\n",
       "      <th>SaleType</th>\n",
       "      <th>SaleCondition</th>\n",
       "      <th>SalePrice</th>\n",
       "    </tr>\n",
       "  </thead>\n",
       "  <tbody>\n",
       "    <tr>\n",
       "      <th>0</th>\n",
       "      <td>1</td>\n",
       "      <td>60</td>\n",
       "      <td>0</td>\n",
       "      <td>65.0</td>\n",
       "      <td>8450</td>\n",
       "      <td>0</td>\n",
       "      <td>0</td>\n",
       "      <td>0</td>\n",
       "      <td>0</td>\n",
       "      <td>0</td>\n",
       "      <td>...</td>\n",
       "      <td>0</td>\n",
       "      <td>0</td>\n",
       "      <td>0</td>\n",
       "      <td>0</td>\n",
       "      <td>0</td>\n",
       "      <td>2</td>\n",
       "      <td>2008</td>\n",
       "      <td>0</td>\n",
       "      <td>0</td>\n",
       "      <td>208500</td>\n",
       "    </tr>\n",
       "    <tr>\n",
       "      <th>1</th>\n",
       "      <td>2</td>\n",
       "      <td>20</td>\n",
       "      <td>0</td>\n",
       "      <td>80.0</td>\n",
       "      <td>9600</td>\n",
       "      <td>0</td>\n",
       "      <td>0</td>\n",
       "      <td>0</td>\n",
       "      <td>0</td>\n",
       "      <td>0</td>\n",
       "      <td>...</td>\n",
       "      <td>0</td>\n",
       "      <td>0</td>\n",
       "      <td>0</td>\n",
       "      <td>0</td>\n",
       "      <td>0</td>\n",
       "      <td>5</td>\n",
       "      <td>2007</td>\n",
       "      <td>0</td>\n",
       "      <td>0</td>\n",
       "      <td>181500</td>\n",
       "    </tr>\n",
       "    <tr>\n",
       "      <th>2</th>\n",
       "      <td>3</td>\n",
       "      <td>60</td>\n",
       "      <td>0</td>\n",
       "      <td>68.0</td>\n",
       "      <td>11250</td>\n",
       "      <td>0</td>\n",
       "      <td>0</td>\n",
       "      <td>1</td>\n",
       "      <td>0</td>\n",
       "      <td>0</td>\n",
       "      <td>...</td>\n",
       "      <td>0</td>\n",
       "      <td>0</td>\n",
       "      <td>0</td>\n",
       "      <td>0</td>\n",
       "      <td>0</td>\n",
       "      <td>9</td>\n",
       "      <td>2008</td>\n",
       "      <td>0</td>\n",
       "      <td>0</td>\n",
       "      <td>223500</td>\n",
       "    </tr>\n",
       "    <tr>\n",
       "      <th>3</th>\n",
       "      <td>4</td>\n",
       "      <td>70</td>\n",
       "      <td>0</td>\n",
       "      <td>60.0</td>\n",
       "      <td>9550</td>\n",
       "      <td>0</td>\n",
       "      <td>0</td>\n",
       "      <td>1</td>\n",
       "      <td>0</td>\n",
       "      <td>0</td>\n",
       "      <td>...</td>\n",
       "      <td>0</td>\n",
       "      <td>0</td>\n",
       "      <td>0</td>\n",
       "      <td>0</td>\n",
       "      <td>0</td>\n",
       "      <td>2</td>\n",
       "      <td>2006</td>\n",
       "      <td>0</td>\n",
       "      <td>1</td>\n",
       "      <td>140000</td>\n",
       "    </tr>\n",
       "    <tr>\n",
       "      <th>4</th>\n",
       "      <td>5</td>\n",
       "      <td>60</td>\n",
       "      <td>0</td>\n",
       "      <td>84.0</td>\n",
       "      <td>14260</td>\n",
       "      <td>0</td>\n",
       "      <td>0</td>\n",
       "      <td>1</td>\n",
       "      <td>0</td>\n",
       "      <td>0</td>\n",
       "      <td>...</td>\n",
       "      <td>0</td>\n",
       "      <td>0</td>\n",
       "      <td>0</td>\n",
       "      <td>0</td>\n",
       "      <td>0</td>\n",
       "      <td>12</td>\n",
       "      <td>2008</td>\n",
       "      <td>0</td>\n",
       "      <td>0</td>\n",
       "      <td>250000</td>\n",
       "    </tr>\n",
       "    <tr>\n",
       "      <th>...</th>\n",
       "      <td>...</td>\n",
       "      <td>...</td>\n",
       "      <td>...</td>\n",
       "      <td>...</td>\n",
       "      <td>...</td>\n",
       "      <td>...</td>\n",
       "      <td>...</td>\n",
       "      <td>...</td>\n",
       "      <td>...</td>\n",
       "      <td>...</td>\n",
       "      <td>...</td>\n",
       "      <td>...</td>\n",
       "      <td>...</td>\n",
       "      <td>...</td>\n",
       "      <td>...</td>\n",
       "      <td>...</td>\n",
       "      <td>...</td>\n",
       "      <td>...</td>\n",
       "      <td>...</td>\n",
       "      <td>...</td>\n",
       "      <td>...</td>\n",
       "    </tr>\n",
       "    <tr>\n",
       "      <th>1455</th>\n",
       "      <td>1456</td>\n",
       "      <td>60</td>\n",
       "      <td>0</td>\n",
       "      <td>62.0</td>\n",
       "      <td>7917</td>\n",
       "      <td>0</td>\n",
       "      <td>0</td>\n",
       "      <td>0</td>\n",
       "      <td>0</td>\n",
       "      <td>0</td>\n",
       "      <td>...</td>\n",
       "      <td>0</td>\n",
       "      <td>0</td>\n",
       "      <td>0</td>\n",
       "      <td>0</td>\n",
       "      <td>0</td>\n",
       "      <td>8</td>\n",
       "      <td>2007</td>\n",
       "      <td>0</td>\n",
       "      <td>0</td>\n",
       "      <td>175000</td>\n",
       "    </tr>\n",
       "    <tr>\n",
       "      <th>1456</th>\n",
       "      <td>1457</td>\n",
       "      <td>20</td>\n",
       "      <td>0</td>\n",
       "      <td>85.0</td>\n",
       "      <td>13175</td>\n",
       "      <td>0</td>\n",
       "      <td>0</td>\n",
       "      <td>0</td>\n",
       "      <td>0</td>\n",
       "      <td>0</td>\n",
       "      <td>...</td>\n",
       "      <td>0</td>\n",
       "      <td>0</td>\n",
       "      <td>1</td>\n",
       "      <td>0</td>\n",
       "      <td>0</td>\n",
       "      <td>2</td>\n",
       "      <td>2010</td>\n",
       "      <td>0</td>\n",
       "      <td>0</td>\n",
       "      <td>210000</td>\n",
       "    </tr>\n",
       "    <tr>\n",
       "      <th>1457</th>\n",
       "      <td>1458</td>\n",
       "      <td>70</td>\n",
       "      <td>0</td>\n",
       "      <td>66.0</td>\n",
       "      <td>9042</td>\n",
       "      <td>0</td>\n",
       "      <td>0</td>\n",
       "      <td>0</td>\n",
       "      <td>0</td>\n",
       "      <td>0</td>\n",
       "      <td>...</td>\n",
       "      <td>0</td>\n",
       "      <td>0</td>\n",
       "      <td>3</td>\n",
       "      <td>1</td>\n",
       "      <td>2500</td>\n",
       "      <td>5</td>\n",
       "      <td>2010</td>\n",
       "      <td>0</td>\n",
       "      <td>0</td>\n",
       "      <td>266500</td>\n",
       "    </tr>\n",
       "    <tr>\n",
       "      <th>1458</th>\n",
       "      <td>1459</td>\n",
       "      <td>20</td>\n",
       "      <td>0</td>\n",
       "      <td>68.0</td>\n",
       "      <td>9717</td>\n",
       "      <td>0</td>\n",
       "      <td>0</td>\n",
       "      <td>0</td>\n",
       "      <td>0</td>\n",
       "      <td>0</td>\n",
       "      <td>...</td>\n",
       "      <td>0</td>\n",
       "      <td>0</td>\n",
       "      <td>0</td>\n",
       "      <td>0</td>\n",
       "      <td>0</td>\n",
       "      <td>4</td>\n",
       "      <td>2010</td>\n",
       "      <td>0</td>\n",
       "      <td>0</td>\n",
       "      <td>142125</td>\n",
       "    </tr>\n",
       "    <tr>\n",
       "      <th>1459</th>\n",
       "      <td>1460</td>\n",
       "      <td>20</td>\n",
       "      <td>0</td>\n",
       "      <td>75.0</td>\n",
       "      <td>9937</td>\n",
       "      <td>0</td>\n",
       "      <td>0</td>\n",
       "      <td>0</td>\n",
       "      <td>0</td>\n",
       "      <td>0</td>\n",
       "      <td>...</td>\n",
       "      <td>0</td>\n",
       "      <td>0</td>\n",
       "      <td>0</td>\n",
       "      <td>0</td>\n",
       "      <td>0</td>\n",
       "      <td>6</td>\n",
       "      <td>2008</td>\n",
       "      <td>0</td>\n",
       "      <td>0</td>\n",
       "      <td>147500</td>\n",
       "    </tr>\n",
       "  </tbody>\n",
       "</table>\n",
       "<p>1460 rows × 81 columns</p>\n",
       "</div>"
      ],
      "text/plain": [
       "        Id  MSSubClass  MSZoning  LotFrontage  LotArea  Street  Alley  \\\n",
       "0        1          60         0         65.0     8450       0      0   \n",
       "1        2          20         0         80.0     9600       0      0   \n",
       "2        3          60         0         68.0    11250       0      0   \n",
       "3        4          70         0         60.0     9550       0      0   \n",
       "4        5          60         0         84.0    14260       0      0   \n",
       "...    ...         ...       ...          ...      ...     ...    ...   \n",
       "1455  1456          60         0         62.0     7917       0      0   \n",
       "1456  1457          20         0         85.0    13175       0      0   \n",
       "1457  1458          70         0         66.0     9042       0      0   \n",
       "1458  1459          20         0         68.0     9717       0      0   \n",
       "1459  1460          20         0         75.0     9937       0      0   \n",
       "\n",
       "      LotShape  LandContour  Utilities  ...  PoolArea  PoolQC  Fence  \\\n",
       "0            0            0          0  ...         0       0      0   \n",
       "1            0            0          0  ...         0       0      0   \n",
       "2            1            0          0  ...         0       0      0   \n",
       "3            1            0          0  ...         0       0      0   \n",
       "4            1            0          0  ...         0       0      0   \n",
       "...        ...          ...        ...  ...       ...     ...    ...   \n",
       "1455         0            0          0  ...         0       0      0   \n",
       "1456         0            0          0  ...         0       0      1   \n",
       "1457         0            0          0  ...         0       0      3   \n",
       "1458         0            0          0  ...         0       0      0   \n",
       "1459         0            0          0  ...         0       0      0   \n",
       "\n",
       "      MiscFeature  MiscVal  MoSold  YrSold  SaleType  SaleCondition  SalePrice  \n",
       "0               0        0       2    2008         0              0     208500  \n",
       "1               0        0       5    2007         0              0     181500  \n",
       "2               0        0       9    2008         0              0     223500  \n",
       "3               0        0       2    2006         0              1     140000  \n",
       "4               0        0      12    2008         0              0     250000  \n",
       "...           ...      ...     ...     ...       ...            ...        ...  \n",
       "1455            0        0       8    2007         0              0     175000  \n",
       "1456            0        0       2    2010         0              0     210000  \n",
       "1457            1     2500       5    2010         0              0     266500  \n",
       "1458            0        0       4    2010         0              0     142125  \n",
       "1459            0        0       6    2008         0              0     147500  \n",
       "\n",
       "[1460 rows x 81 columns]"
      ]
     },
     "execution_count": 6,
     "metadata": {},
     "output_type": "execute_result"
    }
   ],
   "source": [
    "df = pd.read_csv('data/ready/train.csv')\n",
    "df"
   ]
  },
  {
   "cell_type": "markdown",
   "id": "46abbd24",
   "metadata": {},
   "source": [
    "# Train-val split"
   ]
  },
  {
   "cell_type": "code",
   "execution_count": 7,
   "id": "0b28104d",
   "metadata": {
    "ExecuteTime": {
     "end_time": "2022-03-15T08:19:58.184007Z",
     "start_time": "2022-03-15T08:19:58.178234Z"
    }
   },
   "outputs": [
    {
     "data": {
      "text/plain": [
       "((1168, 81), (292, 81))"
      ]
     },
     "execution_count": 7,
     "metadata": {},
     "output_type": "execute_result"
    }
   ],
   "source": [
    "df_train, df_val = train_test_split(df, test_size=0.2)\n",
    "df_train.shape, df_val.shape"
   ]
  },
  {
   "cell_type": "code",
   "execution_count": 8,
   "id": "f02e2ddb",
   "metadata": {
    "ExecuteTime": {
     "end_time": "2022-03-15T08:19:58.190135Z",
     "start_time": "2022-03-15T08:19:58.186277Z"
    }
   },
   "outputs": [],
   "source": [
    "cols_x = df_train.drop(columns=['Id', 'SalePrice']).columns\n",
    "cols_y = ['SalePrice']"
   ]
  },
  {
   "cell_type": "markdown",
   "id": "4fe1acb6",
   "metadata": {},
   "source": [
    "# Init model"
   ]
  },
  {
   "cell_type": "code",
   "execution_count": 9,
   "id": "80d77311",
   "metadata": {
    "ExecuteTime": {
     "end_time": "2022-03-15T08:19:59.629921Z",
     "start_time": "2022-03-15T08:19:59.614029Z"
    }
   },
   "outputs": [
    {
     "name": "stderr",
     "output_type": "stream",
     "text": [
      "/var/folders/yl/z922qgpd7wq35049r7_cn54m0000gn/T/ipykernel_4078/475865074.py:1: SettingWithCopyWarning: \n",
      "A value is trying to be set on a copy of a slice from a DataFrame.\n",
      "Try using .loc[row_indexer,col_indexer] = value instead\n",
      "\n",
      "See the caveats in the documentation: https://pandas.pydata.org/pandas-docs/stable/user_guide/indexing.html#returning-a-view-versus-a-copy\n",
      "  df_train['SalePrice'] = df_train['SalePrice'].apply(pr.one_plus_log)\n",
      "/var/folders/yl/z922qgpd7wq35049r7_cn54m0000gn/T/ipykernel_4078/475865074.py:2: SettingWithCopyWarning: \n",
      "A value is trying to be set on a copy of a slice from a DataFrame.\n",
      "Try using .loc[row_indexer,col_indexer] = value instead\n",
      "\n",
      "See the caveats in the documentation: https://pandas.pydata.org/pandas-docs/stable/user_guide/indexing.html#returning-a-view-versus-a-copy\n",
      "  df_val['SalePrice'] = df_val['SalePrice'].apply(pr.one_plus_log)\n"
     ]
    }
   ],
   "source": [
    "df_train['SalePrice'] = df_train['SalePrice'].apply(pr.one_plus_log)\n",
    "df_val['SalePrice'] = df_val['SalePrice'].apply(pr.one_plus_log)"
   ]
  },
  {
   "cell_type": "code",
   "execution_count": 12,
   "id": "d8a8a39d",
   "metadata": {
    "ExecuteTime": {
     "end_time": "2022-03-15T08:20:57.769425Z",
     "start_time": "2022-03-15T08:20:57.278954Z"
    }
   },
   "outputs": [
    {
     "name": "stderr",
     "output_type": "stream",
     "text": [
      "/var/folders/yl/z922qgpd7wq35049r7_cn54m0000gn/T/ipykernel_4078/1413278653.py:2: DataConversionWarning: A column-vector y was passed when a 1d array was expected. Please change the shape of y to (n_samples,), for example using ravel().\n",
      "  rf.fit(df_train[cols_x], df_train[cols_y])\n"
     ]
    },
    {
     "name": "stdout",
     "output_type": "stream",
     "text": [
      "Train RMSE 0.05271432185878563\n",
      "Val RMSE 0.12312560369245229\n"
     ]
    }
   ],
   "source": [
    "rf = RandomForestRegressor(n_jobs=-1, random_state=27, max_features=0.25, n_estimators=300)\n",
    "rf.fit(df_train[cols_x], df_train[cols_y])\n",
    "\n",
    "y_train_hat = rf.predict(df_train[cols_x])\n",
    "y_val_hat = rf.predict(df_val[cols_x])\n",
    "\n",
    "print('Train RMSE', metrics.rmse(y_train_hat, df_train[cols_y]))\n",
    "print('Val RMSE', metrics.rmse(y_val_hat, df_val[cols_y]))"
   ]
  },
  {
   "cell_type": "markdown",
   "id": "bf6d9525",
   "metadata": {},
   "source": [
    "# Importances"
   ]
  },
  {
   "cell_type": "markdown",
   "id": "32074b87",
   "metadata": {},
   "source": [
    "## Box importances"
   ]
  },
  {
   "cell_type": "markdown",
   "id": "3ade1926",
   "metadata": {},
   "source": [
    "1)"
   ]
  },
  {
   "cell_type": "code",
   "execution_count": 24,
   "id": "0eefcc70",
   "metadata": {
    "ExecuteTime": {
     "end_time": "2022-03-15T08:24:46.068103Z",
     "start_time": "2022-03-15T08:24:46.010688Z"
    }
   },
   "outputs": [
    {
     "data": {
      "text/plain": [
       "(2.2828070928518575e-06, 0.18167831137662052, 79)"
      ]
     },
     "execution_count": 24,
     "metadata": {},
     "output_type": "execute_result"
    }
   ],
   "source": [
    "imp = dict(zip(cols_x, rf.feature_importances_))\n",
    "min(imp.values()), max(imp.values()), len(imp.keys())"
   ]
  },
  {
   "cell_type": "code",
   "execution_count": 25,
   "id": "cbd653e5",
   "metadata": {
    "ExecuteTime": {
     "end_time": "2022-03-15T08:24:46.422661Z",
     "start_time": "2022-03-15T08:24:46.414045Z"
    }
   },
   "outputs": [
    {
     "data": {
      "text/plain": [
       "61"
      ]
     },
     "execution_count": 25,
     "metadata": {},
     "output_type": "execute_result"
    }
   ],
   "source": [
    "to_keep = [k for k in imp.keys() if imp[k] > 10**-3]\n",
    "len(to_keep)"
   ]
  },
  {
   "cell_type": "code",
   "execution_count": 26,
   "id": "eb397e39",
   "metadata": {
    "ExecuteTime": {
     "end_time": "2022-03-15T08:25:08.955993Z",
     "start_time": "2022-03-15T08:25:08.475871Z"
    }
   },
   "outputs": [
    {
     "name": "stderr",
     "output_type": "stream",
     "text": [
      "/var/folders/yl/z922qgpd7wq35049r7_cn54m0000gn/T/ipykernel_4078/1513299012.py:2: DataConversionWarning: A column-vector y was passed when a 1d array was expected. Please change the shape of y to (n_samples,), for example using ravel().\n",
      "  rf.fit(df_train[to_keep], df_train[cols_y])\n"
     ]
    },
    {
     "name": "stdout",
     "output_type": "stream",
     "text": [
      "Train RMSE 0.05270945642467727\n",
      "Val RMSE 0.12488553830423038\n"
     ]
    }
   ],
   "source": [
    "rf = RandomForestRegressor(n_jobs=-1, random_state=27, max_features=0.25, n_estimators=300)\n",
    "rf.fit(df_train[to_keep], df_train[cols_y])\n",
    "\n",
    "y_train_hat = rf.predict(df_train[to_keep])\n",
    "y_val_hat = rf.predict(df_val[to_keep])\n",
    "\n",
    "print('Train RMSE', metrics.rmse(y_train_hat, df_train[cols_y]))\n",
    "print('Val RMSE', metrics.rmse(y_val_hat, df_val[cols_y]))"
   ]
  },
  {
   "cell_type": "code",
   "execution_count": 38,
   "id": "e41ebbaa",
   "metadata": {
    "ExecuteTime": {
     "end_time": "2022-03-15T08:32:25.287345Z",
     "start_time": "2022-03-15T08:32:25.198306Z"
    }
   },
   "outputs": [],
   "source": [
    "df_test = pd.read_csv('data/ready/test.csv')\n",
    "df_test['SalePrice'] = rf.predict(df_test[to_keep])\n",
    "df_test['SalePrice'] = df_test['SalePrice'].apply(pr.one_plus_log_reverse)\n",
    "df_test[['Id', 'SalePrice']].to_csv('data/results/rf3.csv', index=False)"
   ]
  },
  {
   "cell_type": "markdown",
   "id": "91cc6f10",
   "metadata": {},
   "source": [
    "2)"
   ]
  },
  {
   "cell_type": "code",
   "execution_count": 27,
   "id": "67bff227",
   "metadata": {
    "ExecuteTime": {
     "end_time": "2022-03-15T08:27:10.462557Z",
     "start_time": "2022-03-15T08:27:10.402276Z"
    }
   },
   "outputs": [
    {
     "data": {
      "text/plain": [
       "(0.0008948898976000532, 0.18897546991261466, 61)"
      ]
     },
     "execution_count": 27,
     "metadata": {},
     "output_type": "execute_result"
    }
   ],
   "source": [
    "imp = dict(zip(cols_x, rf.feature_importances_))\n",
    "min(imp.values()), max(imp.values()), len(imp.keys())"
   ]
  },
  {
   "cell_type": "code",
   "execution_count": 35,
   "id": "5ff8b51d",
   "metadata": {
    "ExecuteTime": {
     "end_time": "2022-03-15T08:28:44.513268Z",
     "start_time": "2022-03-15T08:28:44.507308Z"
    }
   },
   "outputs": [
    {
     "data": {
      "text/plain": [
       "40"
      ]
     },
     "execution_count": 35,
     "metadata": {},
     "output_type": "execute_result"
    }
   ],
   "source": [
    "to_keep = [k for k in imp.keys() if imp[k] > 3 * 10**-3]\n",
    "len(to_keep)"
   ]
  },
  {
   "cell_type": "code",
   "execution_count": 36,
   "id": "1d05516f",
   "metadata": {
    "ExecuteTime": {
     "end_time": "2022-03-15T08:28:45.297017Z",
     "start_time": "2022-03-15T08:28:44.858607Z"
    }
   },
   "outputs": [
    {
     "name": "stderr",
     "output_type": "stream",
     "text": [
      "/var/folders/yl/z922qgpd7wq35049r7_cn54m0000gn/T/ipykernel_4078/1513299012.py:2: DataConversionWarning: A column-vector y was passed when a 1d array was expected. Please change the shape of y to (n_samples,), for example using ravel().\n",
      "  rf.fit(df_train[to_keep], df_train[cols_y])\n"
     ]
    },
    {
     "name": "stdout",
     "output_type": "stream",
     "text": [
      "Train RMSE 0.05430123381768714\n",
      "Val RMSE 0.132530900104504\n"
     ]
    }
   ],
   "source": [
    "rf = RandomForestRegressor(n_jobs=-1, random_state=27, max_features=0.25, n_estimators=300)\n",
    "rf.fit(df_train[to_keep], df_train[cols_y])\n",
    "\n",
    "y_train_hat = rf.predict(df_train[to_keep])\n",
    "y_val_hat = rf.predict(df_val[to_keep])\n",
    "\n",
    "print('Train RMSE', metrics.rmse(y_train_hat, df_train[cols_y]))\n",
    "print('Val RMSE', metrics.rmse(y_val_hat, df_val[cols_y]))"
   ]
  },
  {
   "cell_type": "code",
   "execution_count": null,
   "id": "a3f7272a",
   "metadata": {},
   "outputs": [],
   "source": []
  }
 ],
 "metadata": {
  "kernelspec": {
   "display_name": "Python 3 (ipykernel)",
   "language": "python",
   "name": "python3"
  },
  "language_info": {
   "codemirror_mode": {
    "name": "ipython",
    "version": 3
   },
   "file_extension": ".py",
   "mimetype": "text/x-python",
   "name": "python",
   "nbconvert_exporter": "python",
   "pygments_lexer": "ipython3",
   "version": "3.9.7"
  },
  "toc": {
   "base_numbering": 1,
   "nav_menu": {},
   "number_sections": true,
   "sideBar": true,
   "skip_h1_title": false,
   "title_cell": "Table of Contents",
   "title_sidebar": "Contents",
   "toc_cell": false,
   "toc_position": {},
   "toc_section_display": true,
   "toc_window_display": true
  },
  "varInspector": {
   "cols": {
    "lenName": 16,
    "lenType": 16,
    "lenVar": 40
   },
   "kernels_config": {
    "python": {
     "delete_cmd_postfix": "",
     "delete_cmd_prefix": "del ",
     "library": "var_list.py",
     "varRefreshCmd": "print(var_dic_list())"
    },
    "r": {
     "delete_cmd_postfix": ") ",
     "delete_cmd_prefix": "rm(",
     "library": "var_list.r",
     "varRefreshCmd": "cat(var_dic_list()) "
    }
   },
   "types_to_exclude": [
    "module",
    "function",
    "builtin_function_or_method",
    "instance",
    "_Feature"
   ],
   "window_display": false
  }
 },
 "nbformat": 4,
 "nbformat_minor": 5
}
