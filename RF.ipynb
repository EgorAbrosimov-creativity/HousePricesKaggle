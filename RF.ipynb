{
 "cells": [
  {
   "cell_type": "markdown",
   "id": "4671e167",
   "metadata": {},
   "source": [
    "## Links\n",
    "https://towardsdatascience.com/interpreting-random-forest-and-other-black-box-models-like-xgboost-80f9cc4a3c38"
   ]
  },
  {
   "cell_type": "markdown",
   "id": "ad012a38",
   "metadata": {},
   "source": [
    "# Imports"
   ]
  },
  {
   "cell_type": "code",
   "execution_count": 2,
   "id": "f1a5f069",
   "metadata": {
    "ExecuteTime": {
     "end_time": "2022-03-10T10:42:27.725126Z",
     "start_time": "2022-03-10T10:42:27.383951Z"
    }
   },
   "outputs": [],
   "source": [
    "import pandas as pd"
   ]
  },
  {
   "cell_type": "code",
   "execution_count": 3,
   "id": "5920632a",
   "metadata": {
    "ExecuteTime": {
     "end_time": "2022-03-10T10:42:28.494121Z",
     "start_time": "2022-03-10T10:42:27.726279Z"
    }
   },
   "outputs": [],
   "source": [
    "from sklearn.model_selection import train_test_split"
   ]
  },
  {
   "cell_type": "code",
   "execution_count": 4,
   "id": "0af9502d",
   "metadata": {
    "ExecuteTime": {
     "end_time": "2022-03-10T10:42:28.735476Z",
     "start_time": "2022-03-10T10:42:28.495053Z"
    }
   },
   "outputs": [],
   "source": [
    "from sklearn.ensemble import RandomForestRegressor\n",
    "from sklearn.metrics import mean_squared_error\n",
    "from sklearn.inspection import permutation_importance\n"
   ]
  },
  {
   "cell_type": "code",
   "execution_count": 5,
   "id": "3e1aad03",
   "metadata": {
    "ExecuteTime": {
     "end_time": "2022-03-10T10:42:28.900476Z",
     "start_time": "2022-03-10T10:42:28.736908Z"
    }
   },
   "outputs": [
    {
     "name": "stdout",
     "output_type": "stream",
     "text": [
      "3.5.1\n"
     ]
    }
   ],
   "source": [
    "import matplotlib\n",
    "print(matplotlib.__version__)"
   ]
  },
  {
   "cell_type": "code",
   "execution_count": 6,
   "id": "8f902915",
   "metadata": {
    "ExecuteTime": {
     "end_time": "2022-03-10T10:42:29.413136Z",
     "start_time": "2022-03-10T10:42:28.901247Z"
    }
   },
   "outputs": [],
   "source": [
    "import matplotlib.pyplot as plt\n",
    "from treeinterpreter import treeinterpreter as ti\n",
    "from pdpbox import pdp\n",
    "\n",
    "import waterfall_chart "
   ]
  },
  {
   "cell_type": "code",
   "execution_count": 7,
   "id": "7a5f69fb",
   "metadata": {
    "ExecuteTime": {
     "end_time": "2022-03-10T10:42:29.415592Z",
     "start_time": "2022-03-10T10:42:29.413898Z"
    }
   },
   "outputs": [],
   "source": [
    "#!pip install treeinterpreter"
   ]
  },
  {
   "cell_type": "code",
   "execution_count": 8,
   "id": "1b9a731f",
   "metadata": {
    "ExecuteTime": {
     "end_time": "2022-03-10T10:42:29.417589Z",
     "start_time": "2022-03-10T10:42:29.416273Z"
    }
   },
   "outputs": [],
   "source": [
    "#!pip install pdpbox"
   ]
  },
  {
   "cell_type": "code",
   "execution_count": 9,
   "id": "6c4c74fc",
   "metadata": {
    "ExecuteTime": {
     "end_time": "2022-03-10T10:42:29.419631Z",
     "start_time": "2022-03-10T10:42:29.418268Z"
    }
   },
   "outputs": [],
   "source": [
    "#!conda remove matplotlib\n",
    "#! conda install matplotlib==3.1.1"
   ]
  },
  {
   "cell_type": "markdown",
   "id": "2c414d78",
   "metadata": {},
   "source": [
    "# Load data"
   ]
  },
  {
   "cell_type": "code",
   "execution_count": 10,
   "id": "ca0631a1",
   "metadata": {
    "ExecuteTime": {
     "end_time": "2022-03-10T10:42:29.440288Z",
     "start_time": "2022-03-10T10:42:29.420252Z"
    }
   },
   "outputs": [],
   "source": [
    "df = pd.read_csv('data/ready/train.csv')"
   ]
  },
  {
   "cell_type": "markdown",
   "id": "328bd716",
   "metadata": {},
   "source": [
    "# Split data"
   ]
  },
  {
   "cell_type": "code",
   "execution_count": 11,
   "id": "0c80e248",
   "metadata": {
    "ExecuteTime": {
     "end_time": "2022-03-10T10:42:29.449654Z",
     "start_time": "2022-03-10T10:42:29.442723Z"
    }
   },
   "outputs": [
    {
     "data": {
      "text/plain": [
       "((1168, 81), (292, 81))"
      ]
     },
     "execution_count": 11,
     "metadata": {},
     "output_type": "execute_result"
    }
   ],
   "source": [
    "df_train, df_val = train_test_split(df, test_size=0.2)\n",
    "df_train.shape, df_val.shape"
   ]
  },
  {
   "cell_type": "code",
   "execution_count": 12,
   "id": "86b65cf9",
   "metadata": {
    "ExecuteTime": {
     "end_time": "2022-03-10T10:42:29.456440Z",
     "start_time": "2022-03-10T10:42:29.450558Z"
    }
   },
   "outputs": [],
   "source": [
    "x_train, y_train = df_train.drop('SalePrice', axis=1), df_train[['SalePrice', 'Id']]\n",
    "x_val, y_val = df_val.drop('SalePrice', axis=1), df_val[['SalePrice', 'Id']]"
   ]
  },
  {
   "cell_type": "code",
   "execution_count": 13,
   "id": "90d09bf9",
   "metadata": {
    "ExecuteTime": {
     "end_time": "2022-03-10T10:42:29.467794Z",
     "start_time": "2022-03-10T10:42:29.457393Z"
    }
   },
   "outputs": [
    {
     "data": {
      "text/html": [
       "<div>\n",
       "<style scoped>\n",
       "    .dataframe tbody tr th:only-of-type {\n",
       "        vertical-align: middle;\n",
       "    }\n",
       "\n",
       "    .dataframe tbody tr th {\n",
       "        vertical-align: top;\n",
       "    }\n",
       "\n",
       "    .dataframe thead th {\n",
       "        text-align: right;\n",
       "    }\n",
       "</style>\n",
       "<table border=\"1\" class=\"dataframe\">\n",
       "  <thead>\n",
       "    <tr style=\"text-align: right;\">\n",
       "      <th></th>\n",
       "      <th>Id</th>\n",
       "      <th>MSSubClass</th>\n",
       "      <th>MSZoning</th>\n",
       "      <th>LotFrontage</th>\n",
       "      <th>LotArea</th>\n",
       "      <th>Street</th>\n",
       "      <th>Alley</th>\n",
       "      <th>LotShape</th>\n",
       "      <th>LandContour</th>\n",
       "      <th>Utilities</th>\n",
       "      <th>...</th>\n",
       "      <th>ScreenPorch</th>\n",
       "      <th>PoolArea</th>\n",
       "      <th>PoolQC</th>\n",
       "      <th>Fence</th>\n",
       "      <th>MiscFeature</th>\n",
       "      <th>MiscVal</th>\n",
       "      <th>MoSold</th>\n",
       "      <th>YrSold</th>\n",
       "      <th>SaleType</th>\n",
       "      <th>SaleCondition</th>\n",
       "    </tr>\n",
       "  </thead>\n",
       "  <tbody>\n",
       "    <tr>\n",
       "      <th>986</th>\n",
       "      <td>987</td>\n",
       "      <td>50</td>\n",
       "      <td>1</td>\n",
       "      <td>59.0</td>\n",
       "      <td>5310</td>\n",
       "      <td>0</td>\n",
       "      <td>0</td>\n",
       "      <td>0</td>\n",
       "      <td>0</td>\n",
       "      <td>0</td>\n",
       "      <td>...</td>\n",
       "      <td>0</td>\n",
       "      <td>0</td>\n",
       "      <td>0</td>\n",
       "      <td>0</td>\n",
       "      <td>0</td>\n",
       "      <td>0</td>\n",
       "      <td>6</td>\n",
       "      <td>2006</td>\n",
       "      <td>0</td>\n",
       "      <td>0</td>\n",
       "    </tr>\n",
       "    <tr>\n",
       "      <th>980</th>\n",
       "      <td>981</td>\n",
       "      <td>85</td>\n",
       "      <td>0</td>\n",
       "      <td>-1.0</td>\n",
       "      <td>12122</td>\n",
       "      <td>0</td>\n",
       "      <td>0</td>\n",
       "      <td>1</td>\n",
       "      <td>0</td>\n",
       "      <td>0</td>\n",
       "      <td>...</td>\n",
       "      <td>0</td>\n",
       "      <td>0</td>\n",
       "      <td>0</td>\n",
       "      <td>0</td>\n",
       "      <td>0</td>\n",
       "      <td>0</td>\n",
       "      <td>7</td>\n",
       "      <td>2008</td>\n",
       "      <td>0</td>\n",
       "      <td>0</td>\n",
       "    </tr>\n",
       "    <tr>\n",
       "      <th>1253</th>\n",
       "      <td>1254</td>\n",
       "      <td>60</td>\n",
       "      <td>0</td>\n",
       "      <td>-1.0</td>\n",
       "      <td>17542</td>\n",
       "      <td>0</td>\n",
       "      <td>0</td>\n",
       "      <td>1</td>\n",
       "      <td>0</td>\n",
       "      <td>0</td>\n",
       "      <td>...</td>\n",
       "      <td>0</td>\n",
       "      <td>0</td>\n",
       "      <td>0</td>\n",
       "      <td>1</td>\n",
       "      <td>0</td>\n",
       "      <td>0</td>\n",
       "      <td>7</td>\n",
       "      <td>2007</td>\n",
       "      <td>0</td>\n",
       "      <td>0</td>\n",
       "    </tr>\n",
       "    <tr>\n",
       "      <th>808</th>\n",
       "      <td>809</td>\n",
       "      <td>80</td>\n",
       "      <td>0</td>\n",
       "      <td>85.0</td>\n",
       "      <td>13400</td>\n",
       "      <td>0</td>\n",
       "      <td>0</td>\n",
       "      <td>0</td>\n",
       "      <td>0</td>\n",
       "      <td>0</td>\n",
       "      <td>...</td>\n",
       "      <td>0</td>\n",
       "      <td>0</td>\n",
       "      <td>0</td>\n",
       "      <td>2</td>\n",
       "      <td>0</td>\n",
       "      <td>0</td>\n",
       "      <td>6</td>\n",
       "      <td>2006</td>\n",
       "      <td>0</td>\n",
       "      <td>0</td>\n",
       "    </tr>\n",
       "    <tr>\n",
       "      <th>567</th>\n",
       "      <td>568</td>\n",
       "      <td>20</td>\n",
       "      <td>0</td>\n",
       "      <td>70.0</td>\n",
       "      <td>10171</td>\n",
       "      <td>0</td>\n",
       "      <td>0</td>\n",
       "      <td>1</td>\n",
       "      <td>0</td>\n",
       "      <td>0</td>\n",
       "      <td>...</td>\n",
       "      <td>0</td>\n",
       "      <td>0</td>\n",
       "      <td>0</td>\n",
       "      <td>0</td>\n",
       "      <td>0</td>\n",
       "      <td>0</td>\n",
       "      <td>3</td>\n",
       "      <td>2010</td>\n",
       "      <td>0</td>\n",
       "      <td>0</td>\n",
       "    </tr>\n",
       "  </tbody>\n",
       "</table>\n",
       "<p>5 rows × 80 columns</p>\n",
       "</div>"
      ],
      "text/plain": [
       "        Id  MSSubClass  MSZoning  LotFrontage  LotArea  Street  Alley  \\\n",
       "986    987          50         1         59.0     5310       0      0   \n",
       "980    981          85         0         -1.0    12122       0      0   \n",
       "1253  1254          60         0         -1.0    17542       0      0   \n",
       "808    809          80         0         85.0    13400       0      0   \n",
       "567    568          20         0         70.0    10171       0      0   \n",
       "\n",
       "      LotShape  LandContour  Utilities  ...  ScreenPorch  PoolArea  PoolQC  \\\n",
       "986          0            0          0  ...            0         0       0   \n",
       "980          1            0          0  ...            0         0       0   \n",
       "1253         1            0          0  ...            0         0       0   \n",
       "808          0            0          0  ...            0         0       0   \n",
       "567          1            0          0  ...            0         0       0   \n",
       "\n",
       "      Fence  MiscFeature  MiscVal  MoSold  YrSold  SaleType  SaleCondition  \n",
       "986       0            0        0       6    2006         0              0  \n",
       "980       0            0        0       7    2008         0              0  \n",
       "1253      1            0        0       7    2007         0              0  \n",
       "808       2            0        0       6    2006         0              0  \n",
       "567       0            0        0       3    2010         0              0  \n",
       "\n",
       "[5 rows x 80 columns]"
      ]
     },
     "execution_count": 13,
     "metadata": {},
     "output_type": "execute_result"
    }
   ],
   "source": [
    "x_train.head()"
   ]
  },
  {
   "cell_type": "code",
   "execution_count": 14,
   "id": "f58a0d43",
   "metadata": {
    "ExecuteTime": {
     "end_time": "2022-03-10T10:42:29.480041Z",
     "start_time": "2022-03-10T10:42:29.468592Z"
    }
   },
   "outputs": [
    {
     "data": {
      "text/html": [
       "<div>\n",
       "<style scoped>\n",
       "    .dataframe tbody tr th:only-of-type {\n",
       "        vertical-align: middle;\n",
       "    }\n",
       "\n",
       "    .dataframe tbody tr th {\n",
       "        vertical-align: top;\n",
       "    }\n",
       "\n",
       "    .dataframe thead th {\n",
       "        text-align: right;\n",
       "    }\n",
       "</style>\n",
       "<table border=\"1\" class=\"dataframe\">\n",
       "  <thead>\n",
       "    <tr style=\"text-align: right;\">\n",
       "      <th></th>\n",
       "      <th>Id</th>\n",
       "      <th>MSSubClass</th>\n",
       "      <th>MSZoning</th>\n",
       "      <th>LotFrontage</th>\n",
       "      <th>LotArea</th>\n",
       "      <th>Street</th>\n",
       "      <th>Alley</th>\n",
       "      <th>LotShape</th>\n",
       "      <th>LandContour</th>\n",
       "      <th>Utilities</th>\n",
       "      <th>...</th>\n",
       "      <th>PoolArea</th>\n",
       "      <th>PoolQC</th>\n",
       "      <th>Fence</th>\n",
       "      <th>MiscFeature</th>\n",
       "      <th>MiscVal</th>\n",
       "      <th>MoSold</th>\n",
       "      <th>YrSold</th>\n",
       "      <th>SaleType</th>\n",
       "      <th>SaleCondition</th>\n",
       "      <th>SalePrice</th>\n",
       "    </tr>\n",
       "  </thead>\n",
       "  <tbody>\n",
       "    <tr>\n",
       "      <th>986</th>\n",
       "      <td>987</td>\n",
       "      <td>50</td>\n",
       "      <td>1</td>\n",
       "      <td>59.0</td>\n",
       "      <td>5310</td>\n",
       "      <td>0</td>\n",
       "      <td>0</td>\n",
       "      <td>0</td>\n",
       "      <td>0</td>\n",
       "      <td>0</td>\n",
       "      <td>...</td>\n",
       "      <td>0</td>\n",
       "      <td>0</td>\n",
       "      <td>0</td>\n",
       "      <td>0</td>\n",
       "      <td>0</td>\n",
       "      <td>6</td>\n",
       "      <td>2006</td>\n",
       "      <td>0</td>\n",
       "      <td>0</td>\n",
       "      <td>117000</td>\n",
       "    </tr>\n",
       "    <tr>\n",
       "      <th>980</th>\n",
       "      <td>981</td>\n",
       "      <td>85</td>\n",
       "      <td>0</td>\n",
       "      <td>-1.0</td>\n",
       "      <td>12122</td>\n",
       "      <td>0</td>\n",
       "      <td>0</td>\n",
       "      <td>1</td>\n",
       "      <td>0</td>\n",
       "      <td>0</td>\n",
       "      <td>...</td>\n",
       "      <td>0</td>\n",
       "      <td>0</td>\n",
       "      <td>0</td>\n",
       "      <td>0</td>\n",
       "      <td>0</td>\n",
       "      <td>7</td>\n",
       "      <td>2008</td>\n",
       "      <td>0</td>\n",
       "      <td>0</td>\n",
       "      <td>178400</td>\n",
       "    </tr>\n",
       "    <tr>\n",
       "      <th>1253</th>\n",
       "      <td>1254</td>\n",
       "      <td>60</td>\n",
       "      <td>0</td>\n",
       "      <td>-1.0</td>\n",
       "      <td>17542</td>\n",
       "      <td>0</td>\n",
       "      <td>0</td>\n",
       "      <td>1</td>\n",
       "      <td>0</td>\n",
       "      <td>0</td>\n",
       "      <td>...</td>\n",
       "      <td>0</td>\n",
       "      <td>0</td>\n",
       "      <td>1</td>\n",
       "      <td>0</td>\n",
       "      <td>0</td>\n",
       "      <td>7</td>\n",
       "      <td>2007</td>\n",
       "      <td>0</td>\n",
       "      <td>0</td>\n",
       "      <td>294000</td>\n",
       "    </tr>\n",
       "    <tr>\n",
       "      <th>808</th>\n",
       "      <td>809</td>\n",
       "      <td>80</td>\n",
       "      <td>0</td>\n",
       "      <td>85.0</td>\n",
       "      <td>13400</td>\n",
       "      <td>0</td>\n",
       "      <td>0</td>\n",
       "      <td>0</td>\n",
       "      <td>0</td>\n",
       "      <td>0</td>\n",
       "      <td>...</td>\n",
       "      <td>0</td>\n",
       "      <td>0</td>\n",
       "      <td>2</td>\n",
       "      <td>0</td>\n",
       "      <td>0</td>\n",
       "      <td>6</td>\n",
       "      <td>2006</td>\n",
       "      <td>0</td>\n",
       "      <td>0</td>\n",
       "      <td>159950</td>\n",
       "    </tr>\n",
       "    <tr>\n",
       "      <th>567</th>\n",
       "      <td>568</td>\n",
       "      <td>20</td>\n",
       "      <td>0</td>\n",
       "      <td>70.0</td>\n",
       "      <td>10171</td>\n",
       "      <td>0</td>\n",
       "      <td>0</td>\n",
       "      <td>1</td>\n",
       "      <td>0</td>\n",
       "      <td>0</td>\n",
       "      <td>...</td>\n",
       "      <td>0</td>\n",
       "      <td>0</td>\n",
       "      <td>0</td>\n",
       "      <td>0</td>\n",
       "      <td>0</td>\n",
       "      <td>3</td>\n",
       "      <td>2010</td>\n",
       "      <td>0</td>\n",
       "      <td>0</td>\n",
       "      <td>214000</td>\n",
       "    </tr>\n",
       "    <tr>\n",
       "      <th>...</th>\n",
       "      <td>...</td>\n",
       "      <td>...</td>\n",
       "      <td>...</td>\n",
       "      <td>...</td>\n",
       "      <td>...</td>\n",
       "      <td>...</td>\n",
       "      <td>...</td>\n",
       "      <td>...</td>\n",
       "      <td>...</td>\n",
       "      <td>...</td>\n",
       "      <td>...</td>\n",
       "      <td>...</td>\n",
       "      <td>...</td>\n",
       "      <td>...</td>\n",
       "      <td>...</td>\n",
       "      <td>...</td>\n",
       "      <td>...</td>\n",
       "      <td>...</td>\n",
       "      <td>...</td>\n",
       "      <td>...</td>\n",
       "      <td>...</td>\n",
       "    </tr>\n",
       "    <tr>\n",
       "      <th>943</th>\n",
       "      <td>944</td>\n",
       "      <td>90</td>\n",
       "      <td>0</td>\n",
       "      <td>100.0</td>\n",
       "      <td>25000</td>\n",
       "      <td>0</td>\n",
       "      <td>0</td>\n",
       "      <td>0</td>\n",
       "      <td>2</td>\n",
       "      <td>0</td>\n",
       "      <td>...</td>\n",
       "      <td>0</td>\n",
       "      <td>0</td>\n",
       "      <td>0</td>\n",
       "      <td>0</td>\n",
       "      <td>0</td>\n",
       "      <td>6</td>\n",
       "      <td>2007</td>\n",
       "      <td>0</td>\n",
       "      <td>0</td>\n",
       "      <td>143000</td>\n",
       "    </tr>\n",
       "    <tr>\n",
       "      <th>1039</th>\n",
       "      <td>1040</td>\n",
       "      <td>180</td>\n",
       "      <td>1</td>\n",
       "      <td>21.0</td>\n",
       "      <td>1477</td>\n",
       "      <td>0</td>\n",
       "      <td>0</td>\n",
       "      <td>0</td>\n",
       "      <td>0</td>\n",
       "      <td>0</td>\n",
       "      <td>...</td>\n",
       "      <td>0</td>\n",
       "      <td>0</td>\n",
       "      <td>0</td>\n",
       "      <td>0</td>\n",
       "      <td>0</td>\n",
       "      <td>4</td>\n",
       "      <td>2009</td>\n",
       "      <td>0</td>\n",
       "      <td>0</td>\n",
       "      <td>80000</td>\n",
       "    </tr>\n",
       "    <tr>\n",
       "      <th>1109</th>\n",
       "      <td>1110</td>\n",
       "      <td>20</td>\n",
       "      <td>0</td>\n",
       "      <td>107.0</td>\n",
       "      <td>11362</td>\n",
       "      <td>0</td>\n",
       "      <td>0</td>\n",
       "      <td>1</td>\n",
       "      <td>0</td>\n",
       "      <td>0</td>\n",
       "      <td>...</td>\n",
       "      <td>0</td>\n",
       "      <td>0</td>\n",
       "      <td>0</td>\n",
       "      <td>0</td>\n",
       "      <td>0</td>\n",
       "      <td>3</td>\n",
       "      <td>2009</td>\n",
       "      <td>0</td>\n",
       "      <td>0</td>\n",
       "      <td>280000</td>\n",
       "    </tr>\n",
       "    <tr>\n",
       "      <th>1104</th>\n",
       "      <td>1105</td>\n",
       "      <td>160</td>\n",
       "      <td>1</td>\n",
       "      <td>24.0</td>\n",
       "      <td>2016</td>\n",
       "      <td>0</td>\n",
       "      <td>0</td>\n",
       "      <td>0</td>\n",
       "      <td>0</td>\n",
       "      <td>0</td>\n",
       "      <td>...</td>\n",
       "      <td>0</td>\n",
       "      <td>0</td>\n",
       "      <td>0</td>\n",
       "      <td>0</td>\n",
       "      <td>0</td>\n",
       "      <td>4</td>\n",
       "      <td>2007</td>\n",
       "      <td>0</td>\n",
       "      <td>0</td>\n",
       "      <td>106000</td>\n",
       "    </tr>\n",
       "    <tr>\n",
       "      <th>424</th>\n",
       "      <td>425</td>\n",
       "      <td>20</td>\n",
       "      <td>0</td>\n",
       "      <td>72.0</td>\n",
       "      <td>9000</td>\n",
       "      <td>0</td>\n",
       "      <td>0</td>\n",
       "      <td>0</td>\n",
       "      <td>0</td>\n",
       "      <td>0</td>\n",
       "      <td>...</td>\n",
       "      <td>0</td>\n",
       "      <td>0</td>\n",
       "      <td>0</td>\n",
       "      <td>0</td>\n",
       "      <td>0</td>\n",
       "      <td>5</td>\n",
       "      <td>2008</td>\n",
       "      <td>0</td>\n",
       "      <td>0</td>\n",
       "      <td>139000</td>\n",
       "    </tr>\n",
       "  </tbody>\n",
       "</table>\n",
       "<p>1168 rows × 81 columns</p>\n",
       "</div>"
      ],
      "text/plain": [
       "        Id  MSSubClass  MSZoning  LotFrontage  LotArea  Street  Alley  \\\n",
       "986    987          50         1         59.0     5310       0      0   \n",
       "980    981          85         0         -1.0    12122       0      0   \n",
       "1253  1254          60         0         -1.0    17542       0      0   \n",
       "808    809          80         0         85.0    13400       0      0   \n",
       "567    568          20         0         70.0    10171       0      0   \n",
       "...    ...         ...       ...          ...      ...     ...    ...   \n",
       "943    944          90         0        100.0    25000       0      0   \n",
       "1039  1040         180         1         21.0     1477       0      0   \n",
       "1109  1110          20         0        107.0    11362       0      0   \n",
       "1104  1105         160         1         24.0     2016       0      0   \n",
       "424    425          20         0         72.0     9000       0      0   \n",
       "\n",
       "      LotShape  LandContour  Utilities  ...  PoolArea  PoolQC  Fence  \\\n",
       "986          0            0          0  ...         0       0      0   \n",
       "980          1            0          0  ...         0       0      0   \n",
       "1253         1            0          0  ...         0       0      1   \n",
       "808          0            0          0  ...         0       0      2   \n",
       "567          1            0          0  ...         0       0      0   \n",
       "...        ...          ...        ...  ...       ...     ...    ...   \n",
       "943          0            2          0  ...         0       0      0   \n",
       "1039         0            0          0  ...         0       0      0   \n",
       "1109         1            0          0  ...         0       0      0   \n",
       "1104         0            0          0  ...         0       0      0   \n",
       "424          0            0          0  ...         0       0      0   \n",
       "\n",
       "      MiscFeature  MiscVal  MoSold  YrSold  SaleType  SaleCondition  SalePrice  \n",
       "986             0        0       6    2006         0              0     117000  \n",
       "980             0        0       7    2008         0              0     178400  \n",
       "1253            0        0       7    2007         0              0     294000  \n",
       "808             0        0       6    2006         0              0     159950  \n",
       "567             0        0       3    2010         0              0     214000  \n",
       "...           ...      ...     ...     ...       ...            ...        ...  \n",
       "943             0        0       6    2007         0              0     143000  \n",
       "1039            0        0       4    2009         0              0      80000  \n",
       "1109            0        0       3    2009         0              0     280000  \n",
       "1104            0        0       4    2007         0              0     106000  \n",
       "424             0        0       5    2008         0              0     139000  \n",
       "\n",
       "[1168 rows x 81 columns]"
      ]
     },
     "execution_count": 14,
     "metadata": {},
     "output_type": "execute_result"
    }
   ],
   "source": [
    "df_train"
   ]
  },
  {
   "cell_type": "markdown",
   "id": "f3547c93",
   "metadata": {},
   "source": [
    "# Logit target"
   ]
  },
  {
   "cell_type": "code",
   "execution_count": 15,
   "id": "ecaf48ee",
   "metadata": {
    "ExecuteTime": {
     "end_time": "2022-03-10T10:42:29.482907Z",
     "start_time": "2022-03-10T10:42:29.480958Z"
    }
   },
   "outputs": [],
   "source": [
    "def one_plus_log(x):\n",
    "    return np.log(1 + x)\n",
    "\n",
    "def one_plus_log_reverse(x):\n",
    "    return np.exp(x) - 1"
   ]
  },
  {
   "cell_type": "code",
   "execution_count": 16,
   "id": "eb16ff26",
   "metadata": {
    "ExecuteTime": {
     "end_time": "2022-03-10T10:42:29.496116Z",
     "start_time": "2022-03-10T10:42:29.483731Z"
    }
   },
   "outputs": [
    {
     "data": {
      "text/html": [
       "<div>\n",
       "<style scoped>\n",
       "    .dataframe tbody tr th:only-of-type {\n",
       "        vertical-align: middle;\n",
       "    }\n",
       "\n",
       "    .dataframe tbody tr th {\n",
       "        vertical-align: top;\n",
       "    }\n",
       "\n",
       "    .dataframe thead th {\n",
       "        text-align: right;\n",
       "    }\n",
       "</style>\n",
       "<table border=\"1\" class=\"dataframe\">\n",
       "  <thead>\n",
       "    <tr style=\"text-align: right;\">\n",
       "      <th></th>\n",
       "      <th>Id</th>\n",
       "      <th>MSSubClass</th>\n",
       "      <th>MSZoning</th>\n",
       "      <th>LotFrontage</th>\n",
       "      <th>LotArea</th>\n",
       "      <th>Street</th>\n",
       "      <th>Alley</th>\n",
       "      <th>LotShape</th>\n",
       "      <th>LandContour</th>\n",
       "      <th>Utilities</th>\n",
       "      <th>...</th>\n",
       "      <th>PoolArea</th>\n",
       "      <th>PoolQC</th>\n",
       "      <th>Fence</th>\n",
       "      <th>MiscFeature</th>\n",
       "      <th>MiscVal</th>\n",
       "      <th>MoSold</th>\n",
       "      <th>YrSold</th>\n",
       "      <th>SaleType</th>\n",
       "      <th>SaleCondition</th>\n",
       "      <th>SalePrice</th>\n",
       "    </tr>\n",
       "  </thead>\n",
       "  <tbody>\n",
       "    <tr>\n",
       "      <th>420</th>\n",
       "      <td>421</td>\n",
       "      <td>90</td>\n",
       "      <td>1</td>\n",
       "      <td>78.0</td>\n",
       "      <td>7060</td>\n",
       "      <td>0</td>\n",
       "      <td>0</td>\n",
       "      <td>0</td>\n",
       "      <td>0</td>\n",
       "      <td>0</td>\n",
       "      <td>...</td>\n",
       "      <td>0</td>\n",
       "      <td>0</td>\n",
       "      <td>0</td>\n",
       "      <td>0</td>\n",
       "      <td>0</td>\n",
       "      <td>11</td>\n",
       "      <td>2008</td>\n",
       "      <td>0</td>\n",
       "      <td>4</td>\n",
       "      <td>12.237092</td>\n",
       "    </tr>\n",
       "    <tr>\n",
       "      <th>219</th>\n",
       "      <td>220</td>\n",
       "      <td>120</td>\n",
       "      <td>0</td>\n",
       "      <td>43.0</td>\n",
       "      <td>3010</td>\n",
       "      <td>0</td>\n",
       "      <td>0</td>\n",
       "      <td>0</td>\n",
       "      <td>0</td>\n",
       "      <td>0</td>\n",
       "      <td>...</td>\n",
       "      <td>0</td>\n",
       "      <td>0</td>\n",
       "      <td>0</td>\n",
       "      <td>0</td>\n",
       "      <td>0</td>\n",
       "      <td>3</td>\n",
       "      <td>2006</td>\n",
       "      <td>1</td>\n",
       "      <td>2</td>\n",
       "      <td>12.027191</td>\n",
       "    </tr>\n",
       "    <tr>\n",
       "      <th>730</th>\n",
       "      <td>731</td>\n",
       "      <td>120</td>\n",
       "      <td>0</td>\n",
       "      <td>39.0</td>\n",
       "      <td>5389</td>\n",
       "      <td>0</td>\n",
       "      <td>0</td>\n",
       "      <td>1</td>\n",
       "      <td>0</td>\n",
       "      <td>0</td>\n",
       "      <td>...</td>\n",
       "      <td>0</td>\n",
       "      <td>0</td>\n",
       "      <td>0</td>\n",
       "      <td>0</td>\n",
       "      <td>0</td>\n",
       "      <td>3</td>\n",
       "      <td>2010</td>\n",
       "      <td>0</td>\n",
       "      <td>0</td>\n",
       "      <td>12.373708</td>\n",
       "    </tr>\n",
       "    <tr>\n",
       "      <th>862</th>\n",
       "      <td>863</td>\n",
       "      <td>20</td>\n",
       "      <td>0</td>\n",
       "      <td>81.0</td>\n",
       "      <td>9672</td>\n",
       "      <td>0</td>\n",
       "      <td>0</td>\n",
       "      <td>0</td>\n",
       "      <td>0</td>\n",
       "      <td>0</td>\n",
       "      <td>...</td>\n",
       "      <td>0</td>\n",
       "      <td>0</td>\n",
       "      <td>3</td>\n",
       "      <td>0</td>\n",
       "      <td>0</td>\n",
       "      <td>5</td>\n",
       "      <td>2010</td>\n",
       "      <td>0</td>\n",
       "      <td>0</td>\n",
       "      <td>11.931642</td>\n",
       "    </tr>\n",
       "    <tr>\n",
       "      <th>966</th>\n",
       "      <td>967</td>\n",
       "      <td>50</td>\n",
       "      <td>0</td>\n",
       "      <td>130.0</td>\n",
       "      <td>9600</td>\n",
       "      <td>0</td>\n",
       "      <td>0</td>\n",
       "      <td>1</td>\n",
       "      <td>3</td>\n",
       "      <td>0</td>\n",
       "      <td>...</td>\n",
       "      <td>0</td>\n",
       "      <td>0</td>\n",
       "      <td>0</td>\n",
       "      <td>0</td>\n",
       "      <td>0</td>\n",
       "      <td>6</td>\n",
       "      <td>2009</td>\n",
       "      <td>0</td>\n",
       "      <td>0</td>\n",
       "      <td>11.982935</td>\n",
       "    </tr>\n",
       "  </tbody>\n",
       "</table>\n",
       "<p>5 rows × 81 columns</p>\n",
       "</div>"
      ],
      "text/plain": [
       "      Id  MSSubClass  MSZoning  LotFrontage  LotArea  Street  Alley  LotShape  \\\n",
       "420  421          90         1         78.0     7060       0      0         0   \n",
       "219  220         120         0         43.0     3010       0      0         0   \n",
       "730  731         120         0         39.0     5389       0      0         1   \n",
       "862  863          20         0         81.0     9672       0      0         0   \n",
       "966  967          50         0        130.0     9600       0      0         1   \n",
       "\n",
       "     LandContour  Utilities  ...  PoolArea  PoolQC  Fence  MiscFeature  \\\n",
       "420            0          0  ...         0       0      0            0   \n",
       "219            0          0  ...         0       0      0            0   \n",
       "730            0          0  ...         0       0      0            0   \n",
       "862            0          0  ...         0       0      3            0   \n",
       "966            3          0  ...         0       0      0            0   \n",
       "\n",
       "     MiscVal  MoSold  YrSold  SaleType  SaleCondition  SalePrice  \n",
       "420        0      11    2008         0              4  12.237092  \n",
       "219        0       3    2006         1              2  12.027191  \n",
       "730        0       3    2010         0              0  12.373708  \n",
       "862        0       5    2010         0              0  11.931642  \n",
       "966        0       6    2009         0              0  11.982935  \n",
       "\n",
       "[5 rows x 81 columns]"
      ]
     },
     "execution_count": 16,
     "metadata": {},
     "output_type": "execute_result"
    }
   ],
   "source": [
    "df_train['SalePrice'] = df_train['SalePrice'].apply(one_plus_log)\n",
    "df_val['SalePrice'] = df_val['SalePrice'].apply(one_plus_log)\n",
    "df_val.head()"
   ]
  },
  {
   "cell_type": "markdown",
   "id": "2cf4339a",
   "metadata": {},
   "source": [
    "# Apply models"
   ]
  },
  {
   "cell_type": "code",
   "execution_count": 17,
   "id": "c986fb08",
   "metadata": {
    "ExecuteTime": {
     "end_time": "2022-03-10T10:42:29.499476Z",
     "start_time": "2022-03-10T10:42:29.497594Z"
    }
   },
   "outputs": [],
   "source": [
    "def rmse(y, y_hat):\n",
    "    return mean_squared_error(y, y_hat) ** 0.5"
   ]
  },
  {
   "cell_type": "code",
   "execution_count": 18,
   "id": "5225e2d7",
   "metadata": {
    "ExecuteTime": {
     "end_time": "2022-03-10T10:42:29.503897Z",
     "start_time": "2022-03-10T10:42:29.500460Z"
    }
   },
   "outputs": [
    {
     "data": {
      "text/plain": [
       "['MSSubClass', 'MSZoning', 'LotFrontage', 'LotArea', 'Street']"
      ]
     },
     "execution_count": 18,
     "metadata": {},
     "output_type": "execute_result"
    }
   ],
   "source": [
    "cols_x = list(df_train.drop(columns=['Id', 'SalePrice']).columns)\n",
    "cols_y = 'SalePrice'\n",
    "cols_x[:5]"
   ]
  },
  {
   "cell_type": "code",
   "execution_count": 19,
   "id": "dcdbf02d",
   "metadata": {
    "ExecuteTime": {
     "end_time": "2022-03-10T10:42:29.859408Z",
     "start_time": "2022-03-10T10:42:29.504686Z"
    }
   },
   "outputs": [
    {
     "name": "stdout",
     "output_type": "stream",
     "text": [
      "Train RMSE 0.0541279991366629\n",
      "Test RMSE 0.1549131882259671\n"
     ]
    }
   ],
   "source": [
    "rf = RandomForestRegressor(n_jobs=-1, random_state=27)\n",
    "rf.fit(df_train[cols_x], df_train[cols_y])\n",
    "\n",
    "y_train_hat = rf.predict(df_train[cols_x])\n",
    "y_val_hat = rf.predict(df_val[cols_x])\n",
    "\n",
    "print('Train RMSE', rmse(y_train_hat, df_train[cols_y]))\n",
    "print('Test RMSE', rmse(y_val_hat, df_val[cols_y]))"
   ]
  },
  {
   "cell_type": "markdown",
   "id": "f2e329b4",
   "metadata": {},
   "source": [
    "Tune min_samples_leaf"
   ]
  },
  {
   "cell_type": "code",
   "execution_count": 20,
   "id": "bb6bb536",
   "metadata": {
    "ExecuteTime": {
     "end_time": "2022-03-10T10:42:35.474099Z",
     "start_time": "2022-03-10T10:42:35.208169Z"
    }
   },
   "outputs": [
    {
     "name": "stdout",
     "output_type": "stream",
     "text": [
      "Train RMSE 0.07583009616886126\n",
      "Test RMSE 0.15659825493704185\n"
     ]
    }
   ],
   "source": [
    "rf = RandomForestRegressor(n_jobs=-1, random_state=27, min_samples_leaf=3)\n",
    "rf.fit(df_train[cols_x], df_train[cols_y])\n",
    "\n",
    "y_train_hat = rf.predict(df_train[cols_x])\n",
    "y_val_hat = rf.predict(df_val[cols_x])\n",
    "\n",
    "print('Train RMSE', rmse(y_train_hat, df_train[cols_y]))\n",
    "print('Test RMSE', rmse(y_val_hat, df_val[cols_y]))"
   ]
  },
  {
   "cell_type": "code",
   "execution_count": 21,
   "id": "ca80263e",
   "metadata": {
    "ExecuteTime": {
     "end_time": "2022-03-10T10:42:43.312939Z",
     "start_time": "2022-03-10T10:42:43.072680Z"
    }
   },
   "outputs": [
    {
     "name": "stdout",
     "output_type": "stream",
     "text": [
      "Train RMSE 0.09446323972049972\n",
      "Test RMSE 0.15874848590369614\n"
     ]
    }
   ],
   "source": [
    "rf = RandomForestRegressor(n_jobs=-1, random_state=27, min_samples_leaf=5)\n",
    "rf.fit(df_train[cols_x], df_train[cols_y])\n",
    "\n",
    "y_train_hat = rf.predict(df_train[cols_x])\n",
    "y_val_hat = rf.predict(df_val[cols_x])\n",
    "\n",
    "print('Train RMSE', rmse(y_train_hat, df_train[cols_y]))\n",
    "print('Test RMSE', rmse(y_val_hat, df_val[cols_y]))"
   ]
  },
  {
   "cell_type": "code",
   "execution_count": 22,
   "id": "bd596ac9",
   "metadata": {
    "ExecuteTime": {
     "end_time": "2022-03-10T10:42:57.033640Z",
     "start_time": "2022-03-10T10:42:56.805671Z"
    }
   },
   "outputs": [
    {
     "name": "stdout",
     "output_type": "stream",
     "text": [
      "Train RMSE 0.10621170282567155\n",
      "Test RMSE 0.16063924095848803\n"
     ]
    }
   ],
   "source": [
    "rf = RandomForestRegressor(n_jobs=-1, random_state=27, min_samples_leaf=7)\n",
    "rf.fit(df_train[cols_x], df_train[cols_y])\n",
    "\n",
    "y_train_hat = rf.predict(df_train[cols_x])\n",
    "y_val_hat = rf.predict(df_val[cols_x])\n",
    "\n",
    "print('Train RMSE', rmse(y_train_hat, df_train[cols_y]))\n",
    "print('Test RMSE', rmse(y_val_hat, df_val[cols_y]))"
   ]
  },
  {
   "cell_type": "markdown",
   "id": "cca05cd9",
   "metadata": {},
   "source": [
    "3 it is <br>\n",
    "Optimize max_features"
   ]
  },
  {
   "cell_type": "code",
   "execution_count": 23,
   "id": "9f2df5c5",
   "metadata": {
    "ExecuteTime": {
     "end_time": "2022-03-10T10:44:12.114438Z",
     "start_time": "2022-03-10T10:44:11.943786Z"
    }
   },
   "outputs": [
    {
     "name": "stdout",
     "output_type": "stream",
     "text": [
      "Train RMSE 0.05510209164219831\n",
      "Test RMSE 0.154205422779658\n"
     ]
    }
   ],
   "source": [
    "rf = RandomForestRegressor(n_jobs=-1, random_state=27, max_features=0.1)\n",
    "rf.fit(df_train[cols_x], df_train[cols_y])\n",
    "\n",
    "y_train_hat = rf.predict(df_train[cols_x])\n",
    "y_val_hat = rf.predict(df_val[cols_x])\n",
    "\n",
    "print('Train RMSE', rmse(y_train_hat, df_train[cols_y]))\n",
    "print('Test RMSE', rmse(y_val_hat, df_val[cols_y]))"
   ]
  },
  {
   "cell_type": "code",
   "execution_count": 26,
   "id": "2d16033c",
   "metadata": {
    "ExecuteTime": {
     "end_time": "2022-03-10T10:44:32.856006Z",
     "start_time": "2022-03-10T10:44:32.695650Z"
    }
   },
   "outputs": [
    {
     "name": "stdout",
     "output_type": "stream",
     "text": [
      "Train RMSE 0.057268573119745945\n",
      "Test RMSE 0.16009596671956433\n"
     ]
    }
   ],
   "source": [
    "rf = RandomForestRegressor(n_jobs=-1, random_state=27, max_features=0.05)\n",
    "rf.fit(df_train[cols_x], df_train[cols_y])\n",
    "\n",
    "y_train_hat = rf.predict(df_train[cols_x])\n",
    "y_val_hat = rf.predict(df_val[cols_x])\n",
    "\n",
    "print('Train RMSE', rmse(y_train_hat, df_train[cols_y]))\n",
    "print('Test RMSE', rmse(y_val_hat, df_val[cols_y]))"
   ]
  },
  {
   "cell_type": "code",
   "execution_count": 27,
   "id": "11084d42",
   "metadata": {
    "ExecuteTime": {
     "end_time": "2022-03-10T10:44:44.193466Z",
     "start_time": "2022-03-10T10:44:43.953536Z"
    }
   },
   "outputs": [
    {
     "name": "stdout",
     "output_type": "stream",
     "text": [
      "Train RMSE 0.05253452751681316\n",
      "Test RMSE 0.15168977748278445\n"
     ]
    }
   ],
   "source": [
    "rf = RandomForestRegressor(n_jobs=-1, random_state=27, max_features=0.5)\n",
    "rf.fit(df_train[cols_x], df_train[cols_y])\n",
    "\n",
    "y_train_hat = rf.predict(df_train[cols_x])\n",
    "y_val_hat = rf.predict(df_val[cols_x])\n",
    "\n",
    "print('Train RMSE', rmse(y_train_hat, df_train[cols_y]))\n",
    "print('Test RMSE', rmse(y_val_hat, df_val[cols_y]))"
   ]
  },
  {
   "cell_type": "code",
   "execution_count": 28,
   "id": "22fc721e",
   "metadata": {
    "ExecuteTime": {
     "end_time": "2022-03-10T10:44:54.225321Z",
     "start_time": "2022-03-10T10:44:54.026998Z"
    }
   },
   "outputs": [
    {
     "name": "stdout",
     "output_type": "stream",
     "text": [
      "Train RMSE 0.05382278502301724\n",
      "Test RMSE 0.14753612001645794\n"
     ]
    }
   ],
   "source": [
    "rf = RandomForestRegressor(n_jobs=-1, random_state=27, max_features=0.25)\n",
    "rf.fit(df_train[cols_x], df_train[cols_y])\n",
    "\n",
    "y_train_hat = rf.predict(df_train[cols_x])\n",
    "y_val_hat = rf.predict(df_val[cols_x])\n",
    "\n",
    "print('Train RMSE', rmse(y_train_hat, df_train[cols_y]))\n",
    "print('Test RMSE', rmse(y_val_hat, df_val[cols_y]))"
   ]
  },
  {
   "cell_type": "code",
   "execution_count": 35,
   "id": "0b0f5120",
   "metadata": {
    "ExecuteTime": {
     "end_time": "2022-03-10T10:45:35.808230Z",
     "start_time": "2022-03-10T10:45:35.614860Z"
    }
   },
   "outputs": [
    {
     "name": "stdout",
     "output_type": "stream",
     "text": [
      "Train RMSE 0.052809777759314065\n",
      "Test RMSE 0.14983352694243646\n"
     ]
    }
   ],
   "source": [
    "rf = RandomForestRegressor(n_jobs=-1, random_state=27, max_features=0.2)\n",
    "rf.fit(df_train[cols_x], df_train[cols_y])\n",
    "\n",
    "y_train_hat = rf.predict(df_train[cols_x])\n",
    "y_val_hat = rf.predict(df_val[cols_x])\n",
    "\n",
    "print('Train RMSE', rmse(y_train_hat, df_train[cols_y]))\n",
    "print('Test RMSE', rmse(y_val_hat, df_val[cols_y]))"
   ]
  },
  {
   "cell_type": "markdown",
   "id": "61b9fd59",
   "metadata": {},
   "source": [
    "0.25 it is"
   ]
  },
  {
   "cell_type": "code",
   "execution_count": 37,
   "id": "82853da2",
   "metadata": {
    "ExecuteTime": {
     "end_time": "2022-03-10T10:47:02.837222Z",
     "start_time": "2022-03-10T10:47:02.357254Z"
    }
   },
   "outputs": [
    {
     "name": "stdout",
     "output_type": "stream",
     "text": [
      "Train RMSE 0.05155085463642987\n",
      "Test RMSE 0.14850119631996997\n"
     ]
    }
   ],
   "source": [
    "rf = RandomForestRegressor(n_jobs=-1, random_state=27, max_features=0.25, n_estimators=300)\n",
    "rf.fit(df_train[cols_x], df_train[cols_y])\n",
    "\n",
    "y_train_hat = rf.predict(df_train[cols_x])\n",
    "y_val_hat = rf.predict(df_val[cols_x])\n",
    "\n",
    "print('Train RMSE', rmse(y_train_hat, df_train[cols_y]))\n",
    "print('Test RMSE', rmse(y_val_hat, df_val[cols_y]))"
   ]
  },
  {
   "cell_type": "markdown",
   "id": "3cf8fa21",
   "metadata": {},
   "source": [
    "# Submission"
   ]
  },
  {
   "cell_type": "code",
   "execution_count": 38,
   "id": "d00da9ca",
   "metadata": {
    "ExecuteTime": {
     "end_time": "2022-03-10T10:47:07.367911Z",
     "start_time": "2022-03-10T10:47:07.324195Z"
    }
   },
   "outputs": [
    {
     "data": {
      "text/html": [
       "<div>\n",
       "<style scoped>\n",
       "    .dataframe tbody tr th:only-of-type {\n",
       "        vertical-align: middle;\n",
       "    }\n",
       "\n",
       "    .dataframe tbody tr th {\n",
       "        vertical-align: top;\n",
       "    }\n",
       "\n",
       "    .dataframe thead th {\n",
       "        text-align: right;\n",
       "    }\n",
       "</style>\n",
       "<table border=\"1\" class=\"dataframe\">\n",
       "  <thead>\n",
       "    <tr style=\"text-align: right;\">\n",
       "      <th></th>\n",
       "      <th>Id</th>\n",
       "      <th>MSSubClass</th>\n",
       "      <th>MSZoning</th>\n",
       "      <th>LotFrontage</th>\n",
       "      <th>LotArea</th>\n",
       "      <th>Street</th>\n",
       "      <th>Alley</th>\n",
       "      <th>LotShape</th>\n",
       "      <th>LandContour</th>\n",
       "      <th>Utilities</th>\n",
       "      <th>...</th>\n",
       "      <th>ScreenPorch</th>\n",
       "      <th>PoolArea</th>\n",
       "      <th>PoolQC</th>\n",
       "      <th>Fence</th>\n",
       "      <th>MiscFeature</th>\n",
       "      <th>MiscVal</th>\n",
       "      <th>MoSold</th>\n",
       "      <th>YrSold</th>\n",
       "      <th>SaleType</th>\n",
       "      <th>SaleCondition</th>\n",
       "    </tr>\n",
       "  </thead>\n",
       "  <tbody>\n",
       "    <tr>\n",
       "      <th>0</th>\n",
       "      <td>1461</td>\n",
       "      <td>20</td>\n",
       "      <td>4</td>\n",
       "      <td>80.0</td>\n",
       "      <td>11622</td>\n",
       "      <td>0</td>\n",
       "      <td>-1</td>\n",
       "      <td>0</td>\n",
       "      <td>0</td>\n",
       "      <td>0</td>\n",
       "      <td>...</td>\n",
       "      <td>120</td>\n",
       "      <td>0</td>\n",
       "      <td>-1</td>\n",
       "      <td>1</td>\n",
       "      <td>-1</td>\n",
       "      <td>0</td>\n",
       "      <td>6</td>\n",
       "      <td>2010</td>\n",
       "      <td>0</td>\n",
       "      <td>0</td>\n",
       "    </tr>\n",
       "    <tr>\n",
       "      <th>1</th>\n",
       "      <td>1462</td>\n",
       "      <td>20</td>\n",
       "      <td>0</td>\n",
       "      <td>81.0</td>\n",
       "      <td>14267</td>\n",
       "      <td>0</td>\n",
       "      <td>-1</td>\n",
       "      <td>1</td>\n",
       "      <td>0</td>\n",
       "      <td>0</td>\n",
       "      <td>...</td>\n",
       "      <td>0</td>\n",
       "      <td>0</td>\n",
       "      <td>-1</td>\n",
       "      <td>-1</td>\n",
       "      <td>2</td>\n",
       "      <td>12500</td>\n",
       "      <td>6</td>\n",
       "      <td>2010</td>\n",
       "      <td>0</td>\n",
       "      <td>0</td>\n",
       "    </tr>\n",
       "    <tr>\n",
       "      <th>2</th>\n",
       "      <td>1463</td>\n",
       "      <td>60</td>\n",
       "      <td>0</td>\n",
       "      <td>74.0</td>\n",
       "      <td>13830</td>\n",
       "      <td>0</td>\n",
       "      <td>-1</td>\n",
       "      <td>1</td>\n",
       "      <td>0</td>\n",
       "      <td>0</td>\n",
       "      <td>...</td>\n",
       "      <td>0</td>\n",
       "      <td>0</td>\n",
       "      <td>-1</td>\n",
       "      <td>1</td>\n",
       "      <td>-1</td>\n",
       "      <td>0</td>\n",
       "      <td>3</td>\n",
       "      <td>2010</td>\n",
       "      <td>0</td>\n",
       "      <td>0</td>\n",
       "    </tr>\n",
       "    <tr>\n",
       "      <th>3</th>\n",
       "      <td>1464</td>\n",
       "      <td>60</td>\n",
       "      <td>0</td>\n",
       "      <td>78.0</td>\n",
       "      <td>9978</td>\n",
       "      <td>0</td>\n",
       "      <td>-1</td>\n",
       "      <td>1</td>\n",
       "      <td>0</td>\n",
       "      <td>0</td>\n",
       "      <td>...</td>\n",
       "      <td>0</td>\n",
       "      <td>0</td>\n",
       "      <td>-1</td>\n",
       "      <td>-1</td>\n",
       "      <td>-1</td>\n",
       "      <td>0</td>\n",
       "      <td>6</td>\n",
       "      <td>2010</td>\n",
       "      <td>0</td>\n",
       "      <td>0</td>\n",
       "    </tr>\n",
       "    <tr>\n",
       "      <th>4</th>\n",
       "      <td>1465</td>\n",
       "      <td>120</td>\n",
       "      <td>0</td>\n",
       "      <td>43.0</td>\n",
       "      <td>5005</td>\n",
       "      <td>0</td>\n",
       "      <td>-1</td>\n",
       "      <td>1</td>\n",
       "      <td>3</td>\n",
       "      <td>0</td>\n",
       "      <td>...</td>\n",
       "      <td>144</td>\n",
       "      <td>0</td>\n",
       "      <td>-1</td>\n",
       "      <td>-1</td>\n",
       "      <td>-1</td>\n",
       "      <td>0</td>\n",
       "      <td>1</td>\n",
       "      <td>2010</td>\n",
       "      <td>0</td>\n",
       "      <td>0</td>\n",
       "    </tr>\n",
       "    <tr>\n",
       "      <th>...</th>\n",
       "      <td>...</td>\n",
       "      <td>...</td>\n",
       "      <td>...</td>\n",
       "      <td>...</td>\n",
       "      <td>...</td>\n",
       "      <td>...</td>\n",
       "      <td>...</td>\n",
       "      <td>...</td>\n",
       "      <td>...</td>\n",
       "      <td>...</td>\n",
       "      <td>...</td>\n",
       "      <td>...</td>\n",
       "      <td>...</td>\n",
       "      <td>...</td>\n",
       "      <td>...</td>\n",
       "      <td>...</td>\n",
       "      <td>...</td>\n",
       "      <td>...</td>\n",
       "      <td>...</td>\n",
       "      <td>...</td>\n",
       "      <td>...</td>\n",
       "    </tr>\n",
       "    <tr>\n",
       "      <th>1454</th>\n",
       "      <td>2915</td>\n",
       "      <td>160</td>\n",
       "      <td>1</td>\n",
       "      <td>21.0</td>\n",
       "      <td>1936</td>\n",
       "      <td>0</td>\n",
       "      <td>-1</td>\n",
       "      <td>0</td>\n",
       "      <td>0</td>\n",
       "      <td>0</td>\n",
       "      <td>...</td>\n",
       "      <td>0</td>\n",
       "      <td>0</td>\n",
       "      <td>-1</td>\n",
       "      <td>-1</td>\n",
       "      <td>-1</td>\n",
       "      <td>0</td>\n",
       "      <td>6</td>\n",
       "      <td>2006</td>\n",
       "      <td>0</td>\n",
       "      <td>0</td>\n",
       "    </tr>\n",
       "    <tr>\n",
       "      <th>1455</th>\n",
       "      <td>2916</td>\n",
       "      <td>160</td>\n",
       "      <td>1</td>\n",
       "      <td>21.0</td>\n",
       "      <td>1894</td>\n",
       "      <td>0</td>\n",
       "      <td>-1</td>\n",
       "      <td>0</td>\n",
       "      <td>0</td>\n",
       "      <td>0</td>\n",
       "      <td>...</td>\n",
       "      <td>0</td>\n",
       "      <td>0</td>\n",
       "      <td>-1</td>\n",
       "      <td>-1</td>\n",
       "      <td>-1</td>\n",
       "      <td>0</td>\n",
       "      <td>4</td>\n",
       "      <td>2006</td>\n",
       "      <td>0</td>\n",
       "      <td>1</td>\n",
       "    </tr>\n",
       "    <tr>\n",
       "      <th>1456</th>\n",
       "      <td>2917</td>\n",
       "      <td>20</td>\n",
       "      <td>0</td>\n",
       "      <td>160.0</td>\n",
       "      <td>20000</td>\n",
       "      <td>0</td>\n",
       "      <td>-1</td>\n",
       "      <td>0</td>\n",
       "      <td>0</td>\n",
       "      <td>0</td>\n",
       "      <td>...</td>\n",
       "      <td>0</td>\n",
       "      <td>0</td>\n",
       "      <td>-1</td>\n",
       "      <td>-1</td>\n",
       "      <td>-1</td>\n",
       "      <td>0</td>\n",
       "      <td>9</td>\n",
       "      <td>2006</td>\n",
       "      <td>0</td>\n",
       "      <td>1</td>\n",
       "    </tr>\n",
       "    <tr>\n",
       "      <th>1457</th>\n",
       "      <td>2918</td>\n",
       "      <td>85</td>\n",
       "      <td>0</td>\n",
       "      <td>62.0</td>\n",
       "      <td>10441</td>\n",
       "      <td>0</td>\n",
       "      <td>-1</td>\n",
       "      <td>0</td>\n",
       "      <td>0</td>\n",
       "      <td>0</td>\n",
       "      <td>...</td>\n",
       "      <td>0</td>\n",
       "      <td>0</td>\n",
       "      <td>-1</td>\n",
       "      <td>1</td>\n",
       "      <td>1</td>\n",
       "      <td>700</td>\n",
       "      <td>7</td>\n",
       "      <td>2006</td>\n",
       "      <td>0</td>\n",
       "      <td>0</td>\n",
       "    </tr>\n",
       "    <tr>\n",
       "      <th>1458</th>\n",
       "      <td>2919</td>\n",
       "      <td>60</td>\n",
       "      <td>0</td>\n",
       "      <td>74.0</td>\n",
       "      <td>9627</td>\n",
       "      <td>0</td>\n",
       "      <td>-1</td>\n",
       "      <td>0</td>\n",
       "      <td>0</td>\n",
       "      <td>0</td>\n",
       "      <td>...</td>\n",
       "      <td>0</td>\n",
       "      <td>0</td>\n",
       "      <td>-1</td>\n",
       "      <td>-1</td>\n",
       "      <td>-1</td>\n",
       "      <td>0</td>\n",
       "      <td>11</td>\n",
       "      <td>2006</td>\n",
       "      <td>0</td>\n",
       "      <td>0</td>\n",
       "    </tr>\n",
       "  </tbody>\n",
       "</table>\n",
       "<p>1459 rows × 80 columns</p>\n",
       "</div>"
      ],
      "text/plain": [
       "        Id  MSSubClass  MSZoning  LotFrontage  LotArea  Street  Alley  \\\n",
       "0     1461          20         4         80.0    11622       0     -1   \n",
       "1     1462          20         0         81.0    14267       0     -1   \n",
       "2     1463          60         0         74.0    13830       0     -1   \n",
       "3     1464          60         0         78.0     9978       0     -1   \n",
       "4     1465         120         0         43.0     5005       0     -1   \n",
       "...    ...         ...       ...          ...      ...     ...    ...   \n",
       "1454  2915         160         1         21.0     1936       0     -1   \n",
       "1455  2916         160         1         21.0     1894       0     -1   \n",
       "1456  2917          20         0        160.0    20000       0     -1   \n",
       "1457  2918          85         0         62.0    10441       0     -1   \n",
       "1458  2919          60         0         74.0     9627       0     -1   \n",
       "\n",
       "      LotShape  LandContour  Utilities  ...  ScreenPorch  PoolArea  PoolQC  \\\n",
       "0            0            0          0  ...          120         0      -1   \n",
       "1            1            0          0  ...            0         0      -1   \n",
       "2            1            0          0  ...            0         0      -1   \n",
       "3            1            0          0  ...            0         0      -1   \n",
       "4            1            3          0  ...          144         0      -1   \n",
       "...        ...          ...        ...  ...          ...       ...     ...   \n",
       "1454         0            0          0  ...            0         0      -1   \n",
       "1455         0            0          0  ...            0         0      -1   \n",
       "1456         0            0          0  ...            0         0      -1   \n",
       "1457         0            0          0  ...            0         0      -1   \n",
       "1458         0            0          0  ...            0         0      -1   \n",
       "\n",
       "      Fence  MiscFeature  MiscVal  MoSold  YrSold  SaleType  SaleCondition  \n",
       "0         1           -1        0       6    2010         0              0  \n",
       "1        -1            2    12500       6    2010         0              0  \n",
       "2         1           -1        0       3    2010         0              0  \n",
       "3        -1           -1        0       6    2010         0              0  \n",
       "4        -1           -1        0       1    2010         0              0  \n",
       "...     ...          ...      ...     ...     ...       ...            ...  \n",
       "1454     -1           -1        0       6    2006         0              0  \n",
       "1455     -1           -1        0       4    2006         0              1  \n",
       "1456     -1           -1        0       9    2006         0              1  \n",
       "1457      1            1      700       7    2006         0              0  \n",
       "1458     -1           -1        0      11    2006         0              0  \n",
       "\n",
       "[1459 rows x 80 columns]"
      ]
     },
     "execution_count": 38,
     "metadata": {},
     "output_type": "execute_result"
    }
   ],
   "source": [
    "df_test = pd.read_csv('data/ready/test.csv')\n",
    "df_test"
   ]
  },
  {
   "cell_type": "code",
   "execution_count": 39,
   "id": "3e6a697f",
   "metadata": {
    "ExecuteTime": {
     "end_time": "2022-03-10T10:47:09.423410Z",
     "start_time": "2022-03-10T10:47:09.356602Z"
    }
   },
   "outputs": [],
   "source": [
    "df_test['SalePrice'] = rf.predict(df_test[cols_x])"
   ]
  },
  {
   "cell_type": "code",
   "execution_count": 40,
   "id": "c335af53",
   "metadata": {
    "ExecuteTime": {
     "end_time": "2022-03-10T10:47:09.512980Z",
     "start_time": "2022-03-10T10:47:09.507312Z"
    }
   },
   "outputs": [],
   "source": [
    "df_submission = df_test[['Id', 'SalePrice']]\n",
    "df_submission['SalePrice'] = df_submission['SalePrice'].apply(one_plus_log_reverse)"
   ]
  },
  {
   "cell_type": "code",
   "execution_count": 41,
   "id": "2076d076",
   "metadata": {
    "ExecuteTime": {
     "end_time": "2022-03-10T10:47:09.673141Z",
     "start_time": "2022-03-10T10:47:09.664269Z"
    }
   },
   "outputs": [
    {
     "data": {
      "text/html": [
       "<div>\n",
       "<style scoped>\n",
       "    .dataframe tbody tr th:only-of-type {\n",
       "        vertical-align: middle;\n",
       "    }\n",
       "\n",
       "    .dataframe tbody tr th {\n",
       "        vertical-align: top;\n",
       "    }\n",
       "\n",
       "    .dataframe thead th {\n",
       "        text-align: right;\n",
       "    }\n",
       "</style>\n",
       "<table border=\"1\" class=\"dataframe\">\n",
       "  <thead>\n",
       "    <tr style=\"text-align: right;\">\n",
       "      <th></th>\n",
       "      <th>Id</th>\n",
       "      <th>SalePrice</th>\n",
       "    </tr>\n",
       "  </thead>\n",
       "  <tbody>\n",
       "    <tr>\n",
       "      <th>0</th>\n",
       "      <td>1461</td>\n",
       "      <td>123415.928421</td>\n",
       "    </tr>\n",
       "    <tr>\n",
       "      <th>1</th>\n",
       "      <td>1462</td>\n",
       "      <td>152986.978545</td>\n",
       "    </tr>\n",
       "    <tr>\n",
       "      <th>2</th>\n",
       "      <td>1463</td>\n",
       "      <td>181400.087268</td>\n",
       "    </tr>\n",
       "    <tr>\n",
       "      <th>3</th>\n",
       "      <td>1464</td>\n",
       "      <td>185660.751864</td>\n",
       "    </tr>\n",
       "    <tr>\n",
       "      <th>4</th>\n",
       "      <td>1465</td>\n",
       "      <td>190778.624298</td>\n",
       "    </tr>\n",
       "    <tr>\n",
       "      <th>...</th>\n",
       "      <td>...</td>\n",
       "      <td>...</td>\n",
       "    </tr>\n",
       "    <tr>\n",
       "      <th>1454</th>\n",
       "      <td>2915</td>\n",
       "      <td>86576.551136</td>\n",
       "    </tr>\n",
       "    <tr>\n",
       "      <th>1455</th>\n",
       "      <td>2916</td>\n",
       "      <td>86301.616818</td>\n",
       "    </tr>\n",
       "    <tr>\n",
       "      <th>1456</th>\n",
       "      <td>2917</td>\n",
       "      <td>160121.052389</td>\n",
       "    </tr>\n",
       "    <tr>\n",
       "      <th>1457</th>\n",
       "      <td>2918</td>\n",
       "      <td>123348.383955</td>\n",
       "    </tr>\n",
       "    <tr>\n",
       "      <th>1458</th>\n",
       "      <td>2919</td>\n",
       "      <td>239068.425070</td>\n",
       "    </tr>\n",
       "  </tbody>\n",
       "</table>\n",
       "<p>1459 rows × 2 columns</p>\n",
       "</div>"
      ],
      "text/plain": [
       "        Id      SalePrice\n",
       "0     1461  123415.928421\n",
       "1     1462  152986.978545\n",
       "2     1463  181400.087268\n",
       "3     1464  185660.751864\n",
       "4     1465  190778.624298\n",
       "...    ...            ...\n",
       "1454  2915   86576.551136\n",
       "1455  2916   86301.616818\n",
       "1456  2917  160121.052389\n",
       "1457  2918  123348.383955\n",
       "1458  2919  239068.425070\n",
       "\n",
       "[1459 rows x 2 columns]"
      ]
     },
     "execution_count": 41,
     "metadata": {},
     "output_type": "execute_result"
    }
   ],
   "source": [
    "df_submission"
   ]
  },
  {
   "cell_type": "code",
   "execution_count": 42,
   "id": "1a9d7cdf",
   "metadata": {
    "ExecuteTime": {
     "end_time": "2022-03-10T10:47:09.854397Z",
     "start_time": "2022-03-10T10:47:09.839681Z"
    }
   },
   "outputs": [],
   "source": [
    "df_submission.to_csv('data/results/rf_submission.csv', index=False)"
   ]
  },
  {
   "cell_type": "code",
   "execution_count": null,
   "id": "785965ab",
   "metadata": {},
   "outputs": [],
   "source": []
  }
 ],
 "metadata": {
  "kernelspec": {
   "display_name": "Python 3 (ipykernel)",
   "language": "python",
   "name": "python3"
  },
  "language_info": {
   "codemirror_mode": {
    "name": "ipython",
    "version": 3
   },
   "file_extension": ".py",
   "mimetype": "text/x-python",
   "name": "python",
   "nbconvert_exporter": "python",
   "pygments_lexer": "ipython3",
   "version": "3.9.7"
  },
  "toc": {
   "base_numbering": 1,
   "nav_menu": {},
   "number_sections": true,
   "sideBar": true,
   "skip_h1_title": false,
   "title_cell": "Table of Contents",
   "title_sidebar": "Contents",
   "toc_cell": false,
   "toc_position": {},
   "toc_section_display": true,
   "toc_window_display": false
  },
  "varInspector": {
   "cols": {
    "lenName": 16,
    "lenType": 16,
    "lenVar": 40
   },
   "kernels_config": {
    "python": {
     "delete_cmd_postfix": "",
     "delete_cmd_prefix": "del ",
     "library": "var_list.py",
     "varRefreshCmd": "print(var_dic_list())"
    },
    "r": {
     "delete_cmd_postfix": ") ",
     "delete_cmd_prefix": "rm(",
     "library": "var_list.r",
     "varRefreshCmd": "cat(var_dic_list()) "
    }
   },
   "types_to_exclude": [
    "module",
    "function",
    "builtin_function_or_method",
    "instance",
    "_Feature"
   ],
   "window_display": false
  }
 },
 "nbformat": 4,
 "nbformat_minor": 5
}
