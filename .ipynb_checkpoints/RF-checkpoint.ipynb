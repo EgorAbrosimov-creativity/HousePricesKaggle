{
 "cells": [
  {
   "cell_type": "markdown",
   "id": "4671e167",
   "metadata": {},
   "source": [
    "## Links\n",
    "https://towardsdatascience.com/interpreting-random-forest-and-other-black-box-models-like-xgboost-80f9cc4a3c38"
   ]
  },
  {
   "cell_type": "markdown",
   "id": "ad012a38",
   "metadata": {},
   "source": [
    "# Imports"
   ]
  },
  {
   "cell_type": "code",
   "execution_count": 2,
   "id": "f1a5f069",
   "metadata": {
    "ExecuteTime": {
     "end_time": "2022-03-09T15:33:12.004129Z",
     "start_time": "2022-03-09T15:33:11.735717Z"
    }
   },
   "outputs": [],
   "source": [
    "import pandas as pd"
   ]
  },
  {
   "cell_type": "code",
   "execution_count": 3,
   "id": "5920632a",
   "metadata": {
    "ExecuteTime": {
     "end_time": "2022-03-09T15:33:12.341762Z",
     "start_time": "2022-03-09T15:33:12.005225Z"
    }
   },
   "outputs": [],
   "source": [
    "from sklearn.model_selection import train_test_split"
   ]
  },
  {
   "cell_type": "code",
   "execution_count": 4,
   "id": "0af9502d",
   "metadata": {
    "ExecuteTime": {
     "end_time": "2022-03-09T15:33:12.465339Z",
     "start_time": "2022-03-09T15:33:12.342523Z"
    }
   },
   "outputs": [],
   "source": [
    "from sklearn.ensemble import RandomForestRegressor\n",
    "from sklearn.metrics import mean_squared_error\n",
    "from sklearn.inspection import permutation_importance\n"
   ]
  },
  {
   "cell_type": "code",
   "execution_count": 5,
   "id": "3e1aad03",
   "metadata": {
    "ExecuteTime": {
     "end_time": "2022-03-09T15:33:12.571955Z",
     "start_time": "2022-03-09T15:33:12.466805Z"
    }
   },
   "outputs": [
    {
     "name": "stdout",
     "output_type": "stream",
     "text": [
      "3.5.1\n"
     ]
    }
   ],
   "source": [
    "import matplotlib\n",
    "print(matplotlib.__version__)"
   ]
  },
  {
   "cell_type": "code",
   "execution_count": 6,
   "id": "8f902915",
   "metadata": {
    "ExecuteTime": {
     "end_time": "2022-03-09T15:33:13.021954Z",
     "start_time": "2022-03-09T15:33:12.572832Z"
    }
   },
   "outputs": [],
   "source": [
    "import matplotlib.pyplot as plt\n",
    "from treeinterpreter import treeinterpreter as ti\n",
    "from pdpbox import pdp\n",
    "\n",
    "import waterfall_chart "
   ]
  },
  {
   "cell_type": "code",
   "execution_count": 7,
   "id": "7a5f69fb",
   "metadata": {
    "ExecuteTime": {
     "end_time": "2022-03-09T15:33:13.024401Z",
     "start_time": "2022-03-09T15:33:13.022863Z"
    }
   },
   "outputs": [],
   "source": [
    "#!pip install treeinterpreter"
   ]
  },
  {
   "cell_type": "code",
   "execution_count": 8,
   "id": "1b9a731f",
   "metadata": {
    "ExecuteTime": {
     "end_time": "2022-03-09T15:33:13.026562Z",
     "start_time": "2022-03-09T15:33:13.025215Z"
    }
   },
   "outputs": [],
   "source": [
    "#!pip install pdpbox"
   ]
  },
  {
   "cell_type": "code",
   "execution_count": 9,
   "id": "6c4c74fc",
   "metadata": {
    "ExecuteTime": {
     "end_time": "2022-03-09T15:33:13.028673Z",
     "start_time": "2022-03-09T15:33:13.027227Z"
    }
   },
   "outputs": [],
   "source": [
    "#!conda remove matplotlib\n",
    "#! conda install matplotlib==3.1.1"
   ]
  },
  {
   "cell_type": "markdown",
   "id": "2c414d78",
   "metadata": {},
   "source": [
    "# Load data"
   ]
  },
  {
   "cell_type": "code",
   "execution_count": 10,
   "id": "ca0631a1",
   "metadata": {
    "ExecuteTime": {
     "end_time": "2022-03-09T15:33:13.040700Z",
     "start_time": "2022-03-09T15:33:13.029344Z"
    }
   },
   "outputs": [],
   "source": [
    "df = pd.read_csv('data/ready/train.csv')"
   ]
  },
  {
   "cell_type": "markdown",
   "id": "328bd716",
   "metadata": {},
   "source": [
    "# Split data"
   ]
  },
  {
   "cell_type": "code",
   "execution_count": 11,
   "id": "0c80e248",
   "metadata": {
    "ExecuteTime": {
     "end_time": "2022-03-09T15:33:13.048270Z",
     "start_time": "2022-03-09T15:33:13.043117Z"
    }
   },
   "outputs": [
    {
     "data": {
      "text/plain": [
       "((1168, 81), (292, 81))"
      ]
     },
     "execution_count": 11,
     "metadata": {},
     "output_type": "execute_result"
    }
   ],
   "source": [
    "df_train, df_val = train_test_split(df, test_size=0.2)\n",
    "df_train.shape, df_val.shape"
   ]
  },
  {
   "cell_type": "code",
   "execution_count": 88,
   "id": "86b65cf9",
   "metadata": {
    "ExecuteTime": {
     "end_time": "2022-03-09T15:27:43.435763Z",
     "start_time": "2022-03-09T15:27:43.430384Z"
    }
   },
   "outputs": [],
   "source": [
    "x_train, y_train = df_train.drop('SalePrice', axis=1), df_train[['SalePrice', 'Id']]\n",
    "x_val, y_val = df_val.drop('SalePrice', axis=1), df_val[['SalePrice', 'Id']]"
   ]
  },
  {
   "cell_type": "code",
   "execution_count": 89,
   "id": "90d09bf9",
   "metadata": {
    "ExecuteTime": {
     "end_time": "2022-03-09T15:27:43.446899Z",
     "start_time": "2022-03-09T15:27:43.436927Z"
    }
   },
   "outputs": [
    {
     "data": {
      "text/html": [
       "<div>\n",
       "<style scoped>\n",
       "    .dataframe tbody tr th:only-of-type {\n",
       "        vertical-align: middle;\n",
       "    }\n",
       "\n",
       "    .dataframe tbody tr th {\n",
       "        vertical-align: top;\n",
       "    }\n",
       "\n",
       "    .dataframe thead th {\n",
       "        text-align: right;\n",
       "    }\n",
       "</style>\n",
       "<table border=\"1\" class=\"dataframe\">\n",
       "  <thead>\n",
       "    <tr style=\"text-align: right;\">\n",
       "      <th></th>\n",
       "      <th>Id</th>\n",
       "      <th>MSSubClass</th>\n",
       "      <th>MSZoning</th>\n",
       "      <th>LotFrontage</th>\n",
       "      <th>LotArea</th>\n",
       "      <th>Street</th>\n",
       "      <th>Alley</th>\n",
       "      <th>LotShape</th>\n",
       "      <th>LandContour</th>\n",
       "      <th>Utilities</th>\n",
       "      <th>...</th>\n",
       "      <th>ScreenPorch</th>\n",
       "      <th>PoolArea</th>\n",
       "      <th>PoolQC</th>\n",
       "      <th>Fence</th>\n",
       "      <th>MiscFeature</th>\n",
       "      <th>MiscVal</th>\n",
       "      <th>MoSold</th>\n",
       "      <th>YrSold</th>\n",
       "      <th>SaleType</th>\n",
       "      <th>SaleCondition</th>\n",
       "    </tr>\n",
       "  </thead>\n",
       "  <tbody>\n",
       "    <tr>\n",
       "      <th>420</th>\n",
       "      <td>421</td>\n",
       "      <td>90</td>\n",
       "      <td>1</td>\n",
       "      <td>78.0</td>\n",
       "      <td>7060</td>\n",
       "      <td>0</td>\n",
       "      <td>0</td>\n",
       "      <td>0</td>\n",
       "      <td>0</td>\n",
       "      <td>0</td>\n",
       "      <td>...</td>\n",
       "      <td>0</td>\n",
       "      <td>0</td>\n",
       "      <td>0</td>\n",
       "      <td>0</td>\n",
       "      <td>0</td>\n",
       "      <td>0</td>\n",
       "      <td>11</td>\n",
       "      <td>2008</td>\n",
       "      <td>0</td>\n",
       "      <td>4</td>\n",
       "    </tr>\n",
       "    <tr>\n",
       "      <th>66</th>\n",
       "      <td>67</td>\n",
       "      <td>20</td>\n",
       "      <td>0</td>\n",
       "      <td>-1.0</td>\n",
       "      <td>19900</td>\n",
       "      <td>0</td>\n",
       "      <td>0</td>\n",
       "      <td>0</td>\n",
       "      <td>0</td>\n",
       "      <td>0</td>\n",
       "      <td>...</td>\n",
       "      <td>0</td>\n",
       "      <td>0</td>\n",
       "      <td>0</td>\n",
       "      <td>0</td>\n",
       "      <td>0</td>\n",
       "      <td>0</td>\n",
       "      <td>7</td>\n",
       "      <td>2010</td>\n",
       "      <td>0</td>\n",
       "      <td>0</td>\n",
       "    </tr>\n",
       "    <tr>\n",
       "      <th>437</th>\n",
       "      <td>438</td>\n",
       "      <td>45</td>\n",
       "      <td>1</td>\n",
       "      <td>50.0</td>\n",
       "      <td>6000</td>\n",
       "      <td>0</td>\n",
       "      <td>0</td>\n",
       "      <td>0</td>\n",
       "      <td>0</td>\n",
       "      <td>0</td>\n",
       "      <td>...</td>\n",
       "      <td>0</td>\n",
       "      <td>0</td>\n",
       "      <td>0</td>\n",
       "      <td>0</td>\n",
       "      <td>0</td>\n",
       "      <td>0</td>\n",
       "      <td>1</td>\n",
       "      <td>2009</td>\n",
       "      <td>0</td>\n",
       "      <td>0</td>\n",
       "    </tr>\n",
       "    <tr>\n",
       "      <th>25</th>\n",
       "      <td>26</td>\n",
       "      <td>20</td>\n",
       "      <td>0</td>\n",
       "      <td>110.0</td>\n",
       "      <td>14230</td>\n",
       "      <td>0</td>\n",
       "      <td>0</td>\n",
       "      <td>0</td>\n",
       "      <td>0</td>\n",
       "      <td>0</td>\n",
       "      <td>...</td>\n",
       "      <td>0</td>\n",
       "      <td>0</td>\n",
       "      <td>0</td>\n",
       "      <td>0</td>\n",
       "      <td>0</td>\n",
       "      <td>0</td>\n",
       "      <td>7</td>\n",
       "      <td>2009</td>\n",
       "      <td>0</td>\n",
       "      <td>0</td>\n",
       "    </tr>\n",
       "    <tr>\n",
       "      <th>876</th>\n",
       "      <td>877</td>\n",
       "      <td>20</td>\n",
       "      <td>0</td>\n",
       "      <td>94.0</td>\n",
       "      <td>25286</td>\n",
       "      <td>0</td>\n",
       "      <td>0</td>\n",
       "      <td>0</td>\n",
       "      <td>3</td>\n",
       "      <td>0</td>\n",
       "      <td>...</td>\n",
       "      <td>0</td>\n",
       "      <td>0</td>\n",
       "      <td>0</td>\n",
       "      <td>0</td>\n",
       "      <td>0</td>\n",
       "      <td>0</td>\n",
       "      <td>1</td>\n",
       "      <td>2007</td>\n",
       "      <td>0</td>\n",
       "      <td>0</td>\n",
       "    </tr>\n",
       "  </tbody>\n",
       "</table>\n",
       "<p>5 rows × 80 columns</p>\n",
       "</div>"
      ],
      "text/plain": [
       "      Id  MSSubClass  MSZoning  LotFrontage  LotArea  Street  Alley  LotShape  \\\n",
       "420  421          90         1         78.0     7060       0      0         0   \n",
       "66    67          20         0         -1.0    19900       0      0         0   \n",
       "437  438          45         1         50.0     6000       0      0         0   \n",
       "25    26          20         0        110.0    14230       0      0         0   \n",
       "876  877          20         0         94.0    25286       0      0         0   \n",
       "\n",
       "     LandContour  Utilities  ...  ScreenPorch  PoolArea  PoolQC  Fence  \\\n",
       "420            0          0  ...            0         0       0      0   \n",
       "66             0          0  ...            0         0       0      0   \n",
       "437            0          0  ...            0         0       0      0   \n",
       "25             0          0  ...            0         0       0      0   \n",
       "876            3          0  ...            0         0       0      0   \n",
       "\n",
       "     MiscFeature  MiscVal  MoSold  YrSold  SaleType  SaleCondition  \n",
       "420            0        0      11    2008         0              4  \n",
       "66             0        0       7    2010         0              0  \n",
       "437            0        0       1    2009         0              0  \n",
       "25             0        0       7    2009         0              0  \n",
       "876            0        0       1    2007         0              0  \n",
       "\n",
       "[5 rows x 80 columns]"
      ]
     },
     "execution_count": 89,
     "metadata": {},
     "output_type": "execute_result"
    }
   ],
   "source": [
    "x_train.head()"
   ]
  },
  {
   "cell_type": "code",
   "execution_count": 12,
   "id": "d56b50f4",
   "metadata": {
    "ExecuteTime": {
     "end_time": "2022-03-09T15:33:13.516781Z",
     "start_time": "2022-03-09T15:33:13.506348Z"
    }
   },
   "outputs": [
    {
     "data": {
      "text/html": [
       "<div>\n",
       "<style scoped>\n",
       "    .dataframe tbody tr th:only-of-type {\n",
       "        vertical-align: middle;\n",
       "    }\n",
       "\n",
       "    .dataframe tbody tr th {\n",
       "        vertical-align: top;\n",
       "    }\n",
       "\n",
       "    .dataframe thead th {\n",
       "        text-align: right;\n",
       "    }\n",
       "</style>\n",
       "<table border=\"1\" class=\"dataframe\">\n",
       "  <thead>\n",
       "    <tr style=\"text-align: right;\">\n",
       "      <th></th>\n",
       "      <th>Id</th>\n",
       "      <th>MSSubClass</th>\n",
       "      <th>MSZoning</th>\n",
       "      <th>LotFrontage</th>\n",
       "      <th>LotArea</th>\n",
       "      <th>Street</th>\n",
       "      <th>Alley</th>\n",
       "      <th>LotShape</th>\n",
       "      <th>LandContour</th>\n",
       "      <th>Utilities</th>\n",
       "      <th>...</th>\n",
       "      <th>PoolArea</th>\n",
       "      <th>PoolQC</th>\n",
       "      <th>Fence</th>\n",
       "      <th>MiscFeature</th>\n",
       "      <th>MiscVal</th>\n",
       "      <th>MoSold</th>\n",
       "      <th>YrSold</th>\n",
       "      <th>SaleType</th>\n",
       "      <th>SaleCondition</th>\n",
       "      <th>SalePrice</th>\n",
       "    </tr>\n",
       "  </thead>\n",
       "  <tbody>\n",
       "    <tr>\n",
       "      <th>355</th>\n",
       "      <td>356</td>\n",
       "      <td>20</td>\n",
       "      <td>0</td>\n",
       "      <td>105.0</td>\n",
       "      <td>11249</td>\n",
       "      <td>0</td>\n",
       "      <td>0</td>\n",
       "      <td>2</td>\n",
       "      <td>0</td>\n",
       "      <td>0</td>\n",
       "      <td>...</td>\n",
       "      <td>0</td>\n",
       "      <td>0</td>\n",
       "      <td>0</td>\n",
       "      <td>0</td>\n",
       "      <td>0</td>\n",
       "      <td>8</td>\n",
       "      <td>2007</td>\n",
       "      <td>0</td>\n",
       "      <td>0</td>\n",
       "      <td>177500</td>\n",
       "    </tr>\n",
       "    <tr>\n",
       "      <th>1309</th>\n",
       "      <td>1310</td>\n",
       "      <td>20</td>\n",
       "      <td>0</td>\n",
       "      <td>-1.0</td>\n",
       "      <td>7153</td>\n",
       "      <td>0</td>\n",
       "      <td>0</td>\n",
       "      <td>0</td>\n",
       "      <td>0</td>\n",
       "      <td>0</td>\n",
       "      <td>...</td>\n",
       "      <td>0</td>\n",
       "      <td>0</td>\n",
       "      <td>2</td>\n",
       "      <td>0</td>\n",
       "      <td>0</td>\n",
       "      <td>6</td>\n",
       "      <td>2008</td>\n",
       "      <td>0</td>\n",
       "      <td>0</td>\n",
       "      <td>179200</td>\n",
       "    </tr>\n",
       "    <tr>\n",
       "      <th>678</th>\n",
       "      <td>679</td>\n",
       "      <td>20</td>\n",
       "      <td>0</td>\n",
       "      <td>80.0</td>\n",
       "      <td>11844</td>\n",
       "      <td>0</td>\n",
       "      <td>0</td>\n",
       "      <td>1</td>\n",
       "      <td>0</td>\n",
       "      <td>0</td>\n",
       "      <td>...</td>\n",
       "      <td>0</td>\n",
       "      <td>0</td>\n",
       "      <td>0</td>\n",
       "      <td>0</td>\n",
       "      <td>0</td>\n",
       "      <td>7</td>\n",
       "      <td>2009</td>\n",
       "      <td>1</td>\n",
       "      <td>2</td>\n",
       "      <td>372500</td>\n",
       "    </tr>\n",
       "    <tr>\n",
       "      <th>322</th>\n",
       "      <td>323</td>\n",
       "      <td>60</td>\n",
       "      <td>0</td>\n",
       "      <td>86.0</td>\n",
       "      <td>10380</td>\n",
       "      <td>0</td>\n",
       "      <td>0</td>\n",
       "      <td>1</td>\n",
       "      <td>0</td>\n",
       "      <td>0</td>\n",
       "      <td>...</td>\n",
       "      <td>0</td>\n",
       "      <td>0</td>\n",
       "      <td>1</td>\n",
       "      <td>0</td>\n",
       "      <td>0</td>\n",
       "      <td>8</td>\n",
       "      <td>2007</td>\n",
       "      <td>0</td>\n",
       "      <td>0</td>\n",
       "      <td>301000</td>\n",
       "    </tr>\n",
       "    <tr>\n",
       "      <th>77</th>\n",
       "      <td>78</td>\n",
       "      <td>50</td>\n",
       "      <td>1</td>\n",
       "      <td>50.0</td>\n",
       "      <td>8635</td>\n",
       "      <td>0</td>\n",
       "      <td>0</td>\n",
       "      <td>0</td>\n",
       "      <td>0</td>\n",
       "      <td>0</td>\n",
       "      <td>...</td>\n",
       "      <td>0</td>\n",
       "      <td>0</td>\n",
       "      <td>1</td>\n",
       "      <td>0</td>\n",
       "      <td>0</td>\n",
       "      <td>1</td>\n",
       "      <td>2008</td>\n",
       "      <td>0</td>\n",
       "      <td>0</td>\n",
       "      <td>127000</td>\n",
       "    </tr>\n",
       "    <tr>\n",
       "      <th>...</th>\n",
       "      <td>...</td>\n",
       "      <td>...</td>\n",
       "      <td>...</td>\n",
       "      <td>...</td>\n",
       "      <td>...</td>\n",
       "      <td>...</td>\n",
       "      <td>...</td>\n",
       "      <td>...</td>\n",
       "      <td>...</td>\n",
       "      <td>...</td>\n",
       "      <td>...</td>\n",
       "      <td>...</td>\n",
       "      <td>...</td>\n",
       "      <td>...</td>\n",
       "      <td>...</td>\n",
       "      <td>...</td>\n",
       "      <td>...</td>\n",
       "      <td>...</td>\n",
       "      <td>...</td>\n",
       "      <td>...</td>\n",
       "      <td>...</td>\n",
       "    </tr>\n",
       "    <tr>\n",
       "      <th>1256</th>\n",
       "      <td>1257</td>\n",
       "      <td>20</td>\n",
       "      <td>0</td>\n",
       "      <td>91.0</td>\n",
       "      <td>14303</td>\n",
       "      <td>0</td>\n",
       "      <td>0</td>\n",
       "      <td>1</td>\n",
       "      <td>0</td>\n",
       "      <td>0</td>\n",
       "      <td>...</td>\n",
       "      <td>0</td>\n",
       "      <td>0</td>\n",
       "      <td>0</td>\n",
       "      <td>0</td>\n",
       "      <td>0</td>\n",
       "      <td>8</td>\n",
       "      <td>2008</td>\n",
       "      <td>0</td>\n",
       "      <td>0</td>\n",
       "      <td>301500</td>\n",
       "    </tr>\n",
       "    <tr>\n",
       "      <th>276</th>\n",
       "      <td>277</td>\n",
       "      <td>20</td>\n",
       "      <td>0</td>\n",
       "      <td>129.0</td>\n",
       "      <td>9196</td>\n",
       "      <td>0</td>\n",
       "      <td>0</td>\n",
       "      <td>1</td>\n",
       "      <td>0</td>\n",
       "      <td>0</td>\n",
       "      <td>...</td>\n",
       "      <td>0</td>\n",
       "      <td>0</td>\n",
       "      <td>0</td>\n",
       "      <td>0</td>\n",
       "      <td>0</td>\n",
       "      <td>4</td>\n",
       "      <td>2010</td>\n",
       "      <td>0</td>\n",
       "      <td>0</td>\n",
       "      <td>201000</td>\n",
       "    </tr>\n",
       "    <tr>\n",
       "      <th>886</th>\n",
       "      <td>887</td>\n",
       "      <td>90</td>\n",
       "      <td>0</td>\n",
       "      <td>70.0</td>\n",
       "      <td>8393</td>\n",
       "      <td>0</td>\n",
       "      <td>0</td>\n",
       "      <td>0</td>\n",
       "      <td>0</td>\n",
       "      <td>0</td>\n",
       "      <td>...</td>\n",
       "      <td>0</td>\n",
       "      <td>0</td>\n",
       "      <td>0</td>\n",
       "      <td>0</td>\n",
       "      <td>0</td>\n",
       "      <td>6</td>\n",
       "      <td>2006</td>\n",
       "      <td>0</td>\n",
       "      <td>5</td>\n",
       "      <td>145000</td>\n",
       "    </tr>\n",
       "    <tr>\n",
       "      <th>1156</th>\n",
       "      <td>1157</td>\n",
       "      <td>80</td>\n",
       "      <td>0</td>\n",
       "      <td>85.0</td>\n",
       "      <td>9350</td>\n",
       "      <td>0</td>\n",
       "      <td>0</td>\n",
       "      <td>0</td>\n",
       "      <td>0</td>\n",
       "      <td>0</td>\n",
       "      <td>...</td>\n",
       "      <td>0</td>\n",
       "      <td>0</td>\n",
       "      <td>1</td>\n",
       "      <td>0</td>\n",
       "      <td>0</td>\n",
       "      <td>10</td>\n",
       "      <td>2008</td>\n",
       "      <td>0</td>\n",
       "      <td>0</td>\n",
       "      <td>179900</td>\n",
       "    </tr>\n",
       "    <tr>\n",
       "      <th>758</th>\n",
       "      <td>759</td>\n",
       "      <td>160</td>\n",
       "      <td>3</td>\n",
       "      <td>24.0</td>\n",
       "      <td>2280</td>\n",
       "      <td>0</td>\n",
       "      <td>2</td>\n",
       "      <td>0</td>\n",
       "      <td>0</td>\n",
       "      <td>0</td>\n",
       "      <td>...</td>\n",
       "      <td>0</td>\n",
       "      <td>0</td>\n",
       "      <td>0</td>\n",
       "      <td>0</td>\n",
       "      <td>0</td>\n",
       "      <td>8</td>\n",
       "      <td>2008</td>\n",
       "      <td>0</td>\n",
       "      <td>0</td>\n",
       "      <td>179400</td>\n",
       "    </tr>\n",
       "  </tbody>\n",
       "</table>\n",
       "<p>1168 rows × 81 columns</p>\n",
       "</div>"
      ],
      "text/plain": [
       "        Id  MSSubClass  MSZoning  LotFrontage  LotArea  Street  Alley  \\\n",
       "355    356          20         0        105.0    11249       0      0   \n",
       "1309  1310          20         0         -1.0     7153       0      0   \n",
       "678    679          20         0         80.0    11844       0      0   \n",
       "322    323          60         0         86.0    10380       0      0   \n",
       "77      78          50         1         50.0     8635       0      0   \n",
       "...    ...         ...       ...          ...      ...     ...    ...   \n",
       "1256  1257          20         0         91.0    14303       0      0   \n",
       "276    277          20         0        129.0     9196       0      0   \n",
       "886    887          90         0         70.0     8393       0      0   \n",
       "1156  1157          80         0         85.0     9350       0      0   \n",
       "758    759         160         3         24.0     2280       0      2   \n",
       "\n",
       "      LotShape  LandContour  Utilities  ...  PoolArea  PoolQC  Fence  \\\n",
       "355          2            0          0  ...         0       0      0   \n",
       "1309         0            0          0  ...         0       0      2   \n",
       "678          1            0          0  ...         0       0      0   \n",
       "322          1            0          0  ...         0       0      1   \n",
       "77           0            0          0  ...         0       0      1   \n",
       "...        ...          ...        ...  ...       ...     ...    ...   \n",
       "1256         1            0          0  ...         0       0      0   \n",
       "276          1            0          0  ...         0       0      0   \n",
       "886          0            0          0  ...         0       0      0   \n",
       "1156         0            0          0  ...         0       0      1   \n",
       "758          0            0          0  ...         0       0      0   \n",
       "\n",
       "      MiscFeature  MiscVal  MoSold  YrSold  SaleType  SaleCondition  SalePrice  \n",
       "355             0        0       8    2007         0              0     177500  \n",
       "1309            0        0       6    2008         0              0     179200  \n",
       "678             0        0       7    2009         1              2     372500  \n",
       "322             0        0       8    2007         0              0     301000  \n",
       "77              0        0       1    2008         0              0     127000  \n",
       "...           ...      ...     ...     ...       ...            ...        ...  \n",
       "1256            0        0       8    2008         0              0     301500  \n",
       "276             0        0       4    2010         0              0     201000  \n",
       "886             0        0       6    2006         0              5     145000  \n",
       "1156            0        0      10    2008         0              0     179900  \n",
       "758             0        0       8    2008         0              0     179400  \n",
       "\n",
       "[1168 rows x 81 columns]"
      ]
     },
     "execution_count": 12,
     "metadata": {},
     "output_type": "execute_result"
    }
   ],
   "source": [
    "df_train"
   ]
  },
  {
   "cell_type": "markdown",
   "id": "f5d8d475",
   "metadata": {},
   "source": [
    "# Logit target"
   ]
  },
  {
   "cell_type": "code",
   "execution_count": 13,
   "id": "5effcf29",
   "metadata": {
    "ExecuteTime": {
     "end_time": "2022-03-09T15:33:16.610670Z",
     "start_time": "2022-03-09T15:33:16.606198Z"
    }
   },
   "outputs": [],
   "source": [
    "def one_plus_log(x):\n",
    "    return np.log(1 + x)\n",
    "\n",
    "def one_plus_log_reverse(x):\n",
    "    return np.exp(x) - 1"
   ]
  },
  {
   "cell_type": "code",
   "execution_count": 14,
   "id": "2e04fd17",
   "metadata": {
    "ExecuteTime": {
     "end_time": "2022-03-09T15:33:34.560171Z",
     "start_time": "2022-03-09T15:33:34.528644Z"
    }
   },
   "outputs": [
    {
     "data": {
      "text/html": [
       "<div>\n",
       "<style scoped>\n",
       "    .dataframe tbody tr th:only-of-type {\n",
       "        vertical-align: middle;\n",
       "    }\n",
       "\n",
       "    .dataframe tbody tr th {\n",
       "        vertical-align: top;\n",
       "    }\n",
       "\n",
       "    .dataframe thead th {\n",
       "        text-align: right;\n",
       "    }\n",
       "</style>\n",
       "<table border=\"1\" class=\"dataframe\">\n",
       "  <thead>\n",
       "    <tr style=\"text-align: right;\">\n",
       "      <th></th>\n",
       "      <th>Id</th>\n",
       "      <th>MSSubClass</th>\n",
       "      <th>MSZoning</th>\n",
       "      <th>LotFrontage</th>\n",
       "      <th>LotArea</th>\n",
       "      <th>Street</th>\n",
       "      <th>Alley</th>\n",
       "      <th>LotShape</th>\n",
       "      <th>LandContour</th>\n",
       "      <th>Utilities</th>\n",
       "      <th>...</th>\n",
       "      <th>PoolArea</th>\n",
       "      <th>PoolQC</th>\n",
       "      <th>Fence</th>\n",
       "      <th>MiscFeature</th>\n",
       "      <th>MiscVal</th>\n",
       "      <th>MoSold</th>\n",
       "      <th>YrSold</th>\n",
       "      <th>SaleType</th>\n",
       "      <th>SaleCondition</th>\n",
       "      <th>SalePrice</th>\n",
       "    </tr>\n",
       "  </thead>\n",
       "  <tbody>\n",
       "    <tr>\n",
       "      <th>1048</th>\n",
       "      <td>1049</td>\n",
       "      <td>20</td>\n",
       "      <td>0</td>\n",
       "      <td>100.0</td>\n",
       "      <td>21750</td>\n",
       "      <td>0</td>\n",
       "      <td>0</td>\n",
       "      <td>0</td>\n",
       "      <td>0</td>\n",
       "      <td>0</td>\n",
       "      <td>...</td>\n",
       "      <td>0</td>\n",
       "      <td>0</td>\n",
       "      <td>3</td>\n",
       "      <td>0</td>\n",
       "      <td>0</td>\n",
       "      <td>11</td>\n",
       "      <td>2009</td>\n",
       "      <td>0</td>\n",
       "      <td>0</td>\n",
       "      <td>11.652696</td>\n",
       "    </tr>\n",
       "    <tr>\n",
       "      <th>787</th>\n",
       "      <td>788</td>\n",
       "      <td>60</td>\n",
       "      <td>0</td>\n",
       "      <td>76.0</td>\n",
       "      <td>10142</td>\n",
       "      <td>0</td>\n",
       "      <td>0</td>\n",
       "      <td>1</td>\n",
       "      <td>0</td>\n",
       "      <td>0</td>\n",
       "      <td>...</td>\n",
       "      <td>0</td>\n",
       "      <td>0</td>\n",
       "      <td>0</td>\n",
       "      <td>0</td>\n",
       "      <td>0</td>\n",
       "      <td>1</td>\n",
       "      <td>2010</td>\n",
       "      <td>0</td>\n",
       "      <td>0</td>\n",
       "      <td>12.358798</td>\n",
       "    </tr>\n",
       "    <tr>\n",
       "      <th>402</th>\n",
       "      <td>403</td>\n",
       "      <td>30</td>\n",
       "      <td>0</td>\n",
       "      <td>60.0</td>\n",
       "      <td>10200</td>\n",
       "      <td>0</td>\n",
       "      <td>0</td>\n",
       "      <td>0</td>\n",
       "      <td>0</td>\n",
       "      <td>0</td>\n",
       "      <td>...</td>\n",
       "      <td>0</td>\n",
       "      <td>0</td>\n",
       "      <td>3</td>\n",
       "      <td>0</td>\n",
       "      <td>0</td>\n",
       "      <td>8</td>\n",
       "      <td>2008</td>\n",
       "      <td>0</td>\n",
       "      <td>0</td>\n",
       "      <td>11.589896</td>\n",
       "    </tr>\n",
       "    <tr>\n",
       "      <th>352</th>\n",
       "      <td>353</td>\n",
       "      <td>50</td>\n",
       "      <td>0</td>\n",
       "      <td>60.0</td>\n",
       "      <td>9084</td>\n",
       "      <td>0</td>\n",
       "      <td>0</td>\n",
       "      <td>0</td>\n",
       "      <td>0</td>\n",
       "      <td>0</td>\n",
       "      <td>...</td>\n",
       "      <td>0</td>\n",
       "      <td>0</td>\n",
       "      <td>0</td>\n",
       "      <td>0</td>\n",
       "      <td>0</td>\n",
       "      <td>3</td>\n",
       "      <td>2008</td>\n",
       "      <td>6</td>\n",
       "      <td>0</td>\n",
       "      <td>11.461643</td>\n",
       "    </tr>\n",
       "    <tr>\n",
       "      <th>415</th>\n",
       "      <td>416</td>\n",
       "      <td>20</td>\n",
       "      <td>0</td>\n",
       "      <td>73.0</td>\n",
       "      <td>8899</td>\n",
       "      <td>0</td>\n",
       "      <td>0</td>\n",
       "      <td>1</td>\n",
       "      <td>0</td>\n",
       "      <td>0</td>\n",
       "      <td>...</td>\n",
       "      <td>0</td>\n",
       "      <td>0</td>\n",
       "      <td>0</td>\n",
       "      <td>0</td>\n",
       "      <td>0</td>\n",
       "      <td>8</td>\n",
       "      <td>2007</td>\n",
       "      <td>1</td>\n",
       "      <td>2</td>\n",
       "      <td>12.106998</td>\n",
       "    </tr>\n",
       "  </tbody>\n",
       "</table>\n",
       "<p>5 rows × 81 columns</p>\n",
       "</div>"
      ],
      "text/plain": [
       "        Id  MSSubClass  MSZoning  LotFrontage  LotArea  Street  Alley  \\\n",
       "1048  1049          20         0        100.0    21750       0      0   \n",
       "787    788          60         0         76.0    10142       0      0   \n",
       "402    403          30         0         60.0    10200       0      0   \n",
       "352    353          50         0         60.0     9084       0      0   \n",
       "415    416          20         0         73.0     8899       0      0   \n",
       "\n",
       "      LotShape  LandContour  Utilities  ...  PoolArea  PoolQC  Fence  \\\n",
       "1048         0            0          0  ...         0       0      3   \n",
       "787          1            0          0  ...         0       0      0   \n",
       "402          0            0          0  ...         0       0      3   \n",
       "352          0            0          0  ...         0       0      0   \n",
       "415          1            0          0  ...         0       0      0   \n",
       "\n",
       "      MiscFeature  MiscVal  MoSold  YrSold  SaleType  SaleCondition  SalePrice  \n",
       "1048            0        0      11    2009         0              0  11.652696  \n",
       "787             0        0       1    2010         0              0  12.358798  \n",
       "402             0        0       8    2008         0              0  11.589896  \n",
       "352             0        0       3    2008         6              0  11.461643  \n",
       "415             0        0       8    2007         1              2  12.106998  \n",
       "\n",
       "[5 rows x 81 columns]"
      ]
     },
     "execution_count": 14,
     "metadata": {},
     "output_type": "execute_result"
    }
   ],
   "source": [
    "df_train['SalePrice'] = df_train['SalePrice'].apply(one_plus_log)\n",
    "df_val['SalePrice'] = df_val['SalePrice'].apply(one_plus_log)\n",
    "df_val.head()"
   ]
  },
  {
   "cell_type": "markdown",
   "id": "2cf4339a",
   "metadata": {},
   "source": [
    "# Apply models"
   ]
  },
  {
   "cell_type": "code",
   "execution_count": 15,
   "id": "c986fb08",
   "metadata": {
    "ExecuteTime": {
     "end_time": "2022-03-09T15:33:45.789860Z",
     "start_time": "2022-03-09T15:33:45.784297Z"
    }
   },
   "outputs": [],
   "source": [
    "def rmse(y, y_hat):\n",
    "    return mean_squared_error(y, y_hat) ** 0.5"
   ]
  },
  {
   "cell_type": "markdown",
   "id": "407aeef6",
   "metadata": {},
   "source": []
  },
  {
   "cell_type": "code",
   "execution_count": null,
   "id": "ee1d0943",
   "metadata": {},
   "outputs": [],
   "source": [
    "test = pd.read_csv(;)"
   ]
  },
  {
   "cell_type": "markdown",
   "id": "09be97f7",
   "metadata": {},
   "source": [
    "# Predict"
   ]
  },
  {
   "cell_type": "markdown",
   "id": "cbb97b93",
   "metadata": {},
   "source": [
    "Идеи:\n",
    "- пройти пайплайн как тут\n",
    "- доизучать фичи\n",
    "- поотбрасывать юзлес фичи\n",
    "- корреляция спирмана - изучить вопросик\n",
    "- сабмит предсказания лучшей модели на кагл\n",
    "- вверху функция one_plus_log - преобразуй таргет и подбери модель\n",
    "- Потом предикшон суешь в one_plus_log_reverse"
   ]
  },
  {
   "cell_type": "markdown",
   "id": "b62a33da",
   "metadata": {},
   "source": [
    "Выводы:\n",
    "- Лучшая модель на трейне дала 26к, на валидации 29485.\n",
    "- Убрали выбросы и не помогло\n",
    "- Конечные фичи проанализировали не все\n",
    "- Посмотрели на худшие кейсы - недопрогнозируем"
   ]
  },
  {
   "cell_type": "code",
   "execution_count": null,
   "id": "1fd8bc64",
   "metadata": {},
   "outputs": [],
   "source": []
  },
  {
   "cell_type": "code",
   "execution_count": 174,
   "id": "318ee527",
   "metadata": {},
   "outputs": [
    {
     "name": "stdout",
     "output_type": "stream",
     "text": [
      "Train RMSE 21021.030318958365\n",
      "Test RMSE 36140.072156797374\n"
     ]
    }
   ],
   "source": [
    "rf = RandomForestRegressor(n_jobs=-1, min_samples_leaf=10, max_features=0.6, random_state=27)\n",
    "rf.fit(x_train_clean[to_keep], y_train_clean)\n",
    "\n",
    "y_train_hat = rf.predict(x_train_clean[to_keep])\n",
    "y_val_hat = rf.predict(x_val[to_keep])\n",
    "\n",
    "print('Train RMSE', rmse(y_train_clean, y_train_hat))\n",
    "print('Test RMSE', rmse(y_val, y_val_hat))"
   ]
  },
  {
   "cell_type": "code",
   "execution_count": 171,
   "id": "e640d269",
   "metadata": {},
   "outputs": [],
   "source": [
    "x_train_clean, y_train_clean = df_train_clean.drop(columns=['SalePrice']), df_train_clean['SalePrice']"
   ]
  }
 ],
 "metadata": {
  "kernelspec": {
   "display_name": "Python 3 (ipykernel)",
   "language": "python",
   "name": "python3"
  },
  "language_info": {
   "codemirror_mode": {
    "name": "ipython",
    "version": 3
   },
   "file_extension": ".py",
   "mimetype": "text/x-python",
   "name": "python",
   "nbconvert_exporter": "python",
   "pygments_lexer": "ipython3",
   "version": "3.9.7"
  },
  "toc": {
   "base_numbering": 1,
   "nav_menu": {},
   "number_sections": true,
   "sideBar": true,
   "skip_h1_title": false,
   "title_cell": "Table of Contents",
   "title_sidebar": "Contents",
   "toc_cell": false,
   "toc_position": {},
   "toc_section_display": true,
   "toc_window_display": false
  },
  "varInspector": {
   "cols": {
    "lenName": 16,
    "lenType": 16,
    "lenVar": 40
   },
   "kernels_config": {
    "python": {
     "delete_cmd_postfix": "",
     "delete_cmd_prefix": "del ",
     "library": "var_list.py",
     "varRefreshCmd": "print(var_dic_list())"
    },
    "r": {
     "delete_cmd_postfix": ") ",
     "delete_cmd_prefix": "rm(",
     "library": "var_list.r",
     "varRefreshCmd": "cat(var_dic_list()) "
    }
   },
   "types_to_exclude": [
    "module",
    "function",
    "builtin_function_or_method",
    "instance",
    "_Feature"
   ],
   "window_display": false
  }
 },
 "nbformat": 4,
 "nbformat_minor": 5
}
