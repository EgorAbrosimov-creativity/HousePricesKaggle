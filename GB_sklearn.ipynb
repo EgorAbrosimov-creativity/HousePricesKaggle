{
 "cells": [
  {
   "cell_type": "markdown",
   "id": "e6789b39",
   "metadata": {},
   "source": [
    "# Imports"
   ]
  },
  {
   "cell_type": "code",
   "execution_count": 2,
   "id": "5de307b5",
   "metadata": {
    "ExecuteTime": {
     "end_time": "2022-03-10T13:06:42.787233Z",
     "start_time": "2022-03-10T13:06:42.783261Z"
    }
   },
   "outputs": [],
   "source": [
    "import pandas as pd\n",
    "from sklearn.ensemble import GradientBoostingRegressor\n",
    "from sklearn.model_selection import train_test_split\n",
    "\n",
    "from sklearn.metrics import mean_squared_error"
   ]
  },
  {
   "cell_type": "markdown",
   "id": "e906f5a7",
   "metadata": {},
   "source": [
    "# Load data"
   ]
  },
  {
   "cell_type": "code",
   "execution_count": 3,
   "id": "996ba437",
   "metadata": {
    "ExecuteTime": {
     "end_time": "2022-03-10T13:06:48.949347Z",
     "start_time": "2022-03-10T13:06:48.888390Z"
    }
   },
   "outputs": [
    {
     "data": {
      "text/html": [
       "<div>\n",
       "<style scoped>\n",
       "    .dataframe tbody tr th:only-of-type {\n",
       "        vertical-align: middle;\n",
       "    }\n",
       "\n",
       "    .dataframe tbody tr th {\n",
       "        vertical-align: top;\n",
       "    }\n",
       "\n",
       "    .dataframe thead th {\n",
       "        text-align: right;\n",
       "    }\n",
       "</style>\n",
       "<table border=\"1\" class=\"dataframe\">\n",
       "  <thead>\n",
       "    <tr style=\"text-align: right;\">\n",
       "      <th></th>\n",
       "      <th>Id</th>\n",
       "      <th>MSSubClass</th>\n",
       "      <th>MSZoning</th>\n",
       "      <th>LotFrontage</th>\n",
       "      <th>LotArea</th>\n",
       "      <th>Street</th>\n",
       "      <th>Alley</th>\n",
       "      <th>LotShape</th>\n",
       "      <th>LandContour</th>\n",
       "      <th>Utilities</th>\n",
       "      <th>...</th>\n",
       "      <th>PoolArea</th>\n",
       "      <th>PoolQC</th>\n",
       "      <th>Fence</th>\n",
       "      <th>MiscFeature</th>\n",
       "      <th>MiscVal</th>\n",
       "      <th>MoSold</th>\n",
       "      <th>YrSold</th>\n",
       "      <th>SaleType</th>\n",
       "      <th>SaleCondition</th>\n",
       "      <th>SalePrice</th>\n",
       "    </tr>\n",
       "  </thead>\n",
       "  <tbody>\n",
       "    <tr>\n",
       "      <th>0</th>\n",
       "      <td>1</td>\n",
       "      <td>60</td>\n",
       "      <td>0</td>\n",
       "      <td>65.0</td>\n",
       "      <td>8450</td>\n",
       "      <td>0</td>\n",
       "      <td>0</td>\n",
       "      <td>0</td>\n",
       "      <td>0</td>\n",
       "      <td>0</td>\n",
       "      <td>...</td>\n",
       "      <td>0</td>\n",
       "      <td>0</td>\n",
       "      <td>0</td>\n",
       "      <td>0</td>\n",
       "      <td>0</td>\n",
       "      <td>2</td>\n",
       "      <td>2008</td>\n",
       "      <td>0</td>\n",
       "      <td>0</td>\n",
       "      <td>208500</td>\n",
       "    </tr>\n",
       "    <tr>\n",
       "      <th>1</th>\n",
       "      <td>2</td>\n",
       "      <td>20</td>\n",
       "      <td>0</td>\n",
       "      <td>80.0</td>\n",
       "      <td>9600</td>\n",
       "      <td>0</td>\n",
       "      <td>0</td>\n",
       "      <td>0</td>\n",
       "      <td>0</td>\n",
       "      <td>0</td>\n",
       "      <td>...</td>\n",
       "      <td>0</td>\n",
       "      <td>0</td>\n",
       "      <td>0</td>\n",
       "      <td>0</td>\n",
       "      <td>0</td>\n",
       "      <td>5</td>\n",
       "      <td>2007</td>\n",
       "      <td>0</td>\n",
       "      <td>0</td>\n",
       "      <td>181500</td>\n",
       "    </tr>\n",
       "    <tr>\n",
       "      <th>2</th>\n",
       "      <td>3</td>\n",
       "      <td>60</td>\n",
       "      <td>0</td>\n",
       "      <td>68.0</td>\n",
       "      <td>11250</td>\n",
       "      <td>0</td>\n",
       "      <td>0</td>\n",
       "      <td>1</td>\n",
       "      <td>0</td>\n",
       "      <td>0</td>\n",
       "      <td>...</td>\n",
       "      <td>0</td>\n",
       "      <td>0</td>\n",
       "      <td>0</td>\n",
       "      <td>0</td>\n",
       "      <td>0</td>\n",
       "      <td>9</td>\n",
       "      <td>2008</td>\n",
       "      <td>0</td>\n",
       "      <td>0</td>\n",
       "      <td>223500</td>\n",
       "    </tr>\n",
       "    <tr>\n",
       "      <th>3</th>\n",
       "      <td>4</td>\n",
       "      <td>70</td>\n",
       "      <td>0</td>\n",
       "      <td>60.0</td>\n",
       "      <td>9550</td>\n",
       "      <td>0</td>\n",
       "      <td>0</td>\n",
       "      <td>1</td>\n",
       "      <td>0</td>\n",
       "      <td>0</td>\n",
       "      <td>...</td>\n",
       "      <td>0</td>\n",
       "      <td>0</td>\n",
       "      <td>0</td>\n",
       "      <td>0</td>\n",
       "      <td>0</td>\n",
       "      <td>2</td>\n",
       "      <td>2006</td>\n",
       "      <td>0</td>\n",
       "      <td>1</td>\n",
       "      <td>140000</td>\n",
       "    </tr>\n",
       "    <tr>\n",
       "      <th>4</th>\n",
       "      <td>5</td>\n",
       "      <td>60</td>\n",
       "      <td>0</td>\n",
       "      <td>84.0</td>\n",
       "      <td>14260</td>\n",
       "      <td>0</td>\n",
       "      <td>0</td>\n",
       "      <td>1</td>\n",
       "      <td>0</td>\n",
       "      <td>0</td>\n",
       "      <td>...</td>\n",
       "      <td>0</td>\n",
       "      <td>0</td>\n",
       "      <td>0</td>\n",
       "      <td>0</td>\n",
       "      <td>0</td>\n",
       "      <td>12</td>\n",
       "      <td>2008</td>\n",
       "      <td>0</td>\n",
       "      <td>0</td>\n",
       "      <td>250000</td>\n",
       "    </tr>\n",
       "    <tr>\n",
       "      <th>...</th>\n",
       "      <td>...</td>\n",
       "      <td>...</td>\n",
       "      <td>...</td>\n",
       "      <td>...</td>\n",
       "      <td>...</td>\n",
       "      <td>...</td>\n",
       "      <td>...</td>\n",
       "      <td>...</td>\n",
       "      <td>...</td>\n",
       "      <td>...</td>\n",
       "      <td>...</td>\n",
       "      <td>...</td>\n",
       "      <td>...</td>\n",
       "      <td>...</td>\n",
       "      <td>...</td>\n",
       "      <td>...</td>\n",
       "      <td>...</td>\n",
       "      <td>...</td>\n",
       "      <td>...</td>\n",
       "      <td>...</td>\n",
       "      <td>...</td>\n",
       "    </tr>\n",
       "    <tr>\n",
       "      <th>1455</th>\n",
       "      <td>1456</td>\n",
       "      <td>60</td>\n",
       "      <td>0</td>\n",
       "      <td>62.0</td>\n",
       "      <td>7917</td>\n",
       "      <td>0</td>\n",
       "      <td>0</td>\n",
       "      <td>0</td>\n",
       "      <td>0</td>\n",
       "      <td>0</td>\n",
       "      <td>...</td>\n",
       "      <td>0</td>\n",
       "      <td>0</td>\n",
       "      <td>0</td>\n",
       "      <td>0</td>\n",
       "      <td>0</td>\n",
       "      <td>8</td>\n",
       "      <td>2007</td>\n",
       "      <td>0</td>\n",
       "      <td>0</td>\n",
       "      <td>175000</td>\n",
       "    </tr>\n",
       "    <tr>\n",
       "      <th>1456</th>\n",
       "      <td>1457</td>\n",
       "      <td>20</td>\n",
       "      <td>0</td>\n",
       "      <td>85.0</td>\n",
       "      <td>13175</td>\n",
       "      <td>0</td>\n",
       "      <td>0</td>\n",
       "      <td>0</td>\n",
       "      <td>0</td>\n",
       "      <td>0</td>\n",
       "      <td>...</td>\n",
       "      <td>0</td>\n",
       "      <td>0</td>\n",
       "      <td>1</td>\n",
       "      <td>0</td>\n",
       "      <td>0</td>\n",
       "      <td>2</td>\n",
       "      <td>2010</td>\n",
       "      <td>0</td>\n",
       "      <td>0</td>\n",
       "      <td>210000</td>\n",
       "    </tr>\n",
       "    <tr>\n",
       "      <th>1457</th>\n",
       "      <td>1458</td>\n",
       "      <td>70</td>\n",
       "      <td>0</td>\n",
       "      <td>66.0</td>\n",
       "      <td>9042</td>\n",
       "      <td>0</td>\n",
       "      <td>0</td>\n",
       "      <td>0</td>\n",
       "      <td>0</td>\n",
       "      <td>0</td>\n",
       "      <td>...</td>\n",
       "      <td>0</td>\n",
       "      <td>0</td>\n",
       "      <td>3</td>\n",
       "      <td>1</td>\n",
       "      <td>2500</td>\n",
       "      <td>5</td>\n",
       "      <td>2010</td>\n",
       "      <td>0</td>\n",
       "      <td>0</td>\n",
       "      <td>266500</td>\n",
       "    </tr>\n",
       "    <tr>\n",
       "      <th>1458</th>\n",
       "      <td>1459</td>\n",
       "      <td>20</td>\n",
       "      <td>0</td>\n",
       "      <td>68.0</td>\n",
       "      <td>9717</td>\n",
       "      <td>0</td>\n",
       "      <td>0</td>\n",
       "      <td>0</td>\n",
       "      <td>0</td>\n",
       "      <td>0</td>\n",
       "      <td>...</td>\n",
       "      <td>0</td>\n",
       "      <td>0</td>\n",
       "      <td>0</td>\n",
       "      <td>0</td>\n",
       "      <td>0</td>\n",
       "      <td>4</td>\n",
       "      <td>2010</td>\n",
       "      <td>0</td>\n",
       "      <td>0</td>\n",
       "      <td>142125</td>\n",
       "    </tr>\n",
       "    <tr>\n",
       "      <th>1459</th>\n",
       "      <td>1460</td>\n",
       "      <td>20</td>\n",
       "      <td>0</td>\n",
       "      <td>75.0</td>\n",
       "      <td>9937</td>\n",
       "      <td>0</td>\n",
       "      <td>0</td>\n",
       "      <td>0</td>\n",
       "      <td>0</td>\n",
       "      <td>0</td>\n",
       "      <td>...</td>\n",
       "      <td>0</td>\n",
       "      <td>0</td>\n",
       "      <td>0</td>\n",
       "      <td>0</td>\n",
       "      <td>0</td>\n",
       "      <td>6</td>\n",
       "      <td>2008</td>\n",
       "      <td>0</td>\n",
       "      <td>0</td>\n",
       "      <td>147500</td>\n",
       "    </tr>\n",
       "  </tbody>\n",
       "</table>\n",
       "<p>1460 rows × 81 columns</p>\n",
       "</div>"
      ],
      "text/plain": [
       "        Id  MSSubClass  MSZoning  LotFrontage  LotArea  Street  Alley  \\\n",
       "0        1          60         0         65.0     8450       0      0   \n",
       "1        2          20         0         80.0     9600       0      0   \n",
       "2        3          60         0         68.0    11250       0      0   \n",
       "3        4          70         0         60.0     9550       0      0   \n",
       "4        5          60         0         84.0    14260       0      0   \n",
       "...    ...         ...       ...          ...      ...     ...    ...   \n",
       "1455  1456          60         0         62.0     7917       0      0   \n",
       "1456  1457          20         0         85.0    13175       0      0   \n",
       "1457  1458          70         0         66.0     9042       0      0   \n",
       "1458  1459          20         0         68.0     9717       0      0   \n",
       "1459  1460          20         0         75.0     9937       0      0   \n",
       "\n",
       "      LotShape  LandContour  Utilities  ...  PoolArea  PoolQC  Fence  \\\n",
       "0            0            0          0  ...         0       0      0   \n",
       "1            0            0          0  ...         0       0      0   \n",
       "2            1            0          0  ...         0       0      0   \n",
       "3            1            0          0  ...         0       0      0   \n",
       "4            1            0          0  ...         0       0      0   \n",
       "...        ...          ...        ...  ...       ...     ...    ...   \n",
       "1455         0            0          0  ...         0       0      0   \n",
       "1456         0            0          0  ...         0       0      1   \n",
       "1457         0            0          0  ...         0       0      3   \n",
       "1458         0            0          0  ...         0       0      0   \n",
       "1459         0            0          0  ...         0       0      0   \n",
       "\n",
       "      MiscFeature  MiscVal  MoSold  YrSold  SaleType  SaleCondition  SalePrice  \n",
       "0               0        0       2    2008         0              0     208500  \n",
       "1               0        0       5    2007         0              0     181500  \n",
       "2               0        0       9    2008         0              0     223500  \n",
       "3               0        0       2    2006         0              1     140000  \n",
       "4               0        0      12    2008         0              0     250000  \n",
       "...           ...      ...     ...     ...       ...            ...        ...  \n",
       "1455            0        0       8    2007         0              0     175000  \n",
       "1456            0        0       2    2010         0              0     210000  \n",
       "1457            1     2500       5    2010         0              0     266500  \n",
       "1458            0        0       4    2010         0              0     142125  \n",
       "1459            0        0       6    2008         0              0     147500  \n",
       "\n",
       "[1460 rows x 81 columns]"
      ]
     },
     "execution_count": 3,
     "metadata": {},
     "output_type": "execute_result"
    }
   ],
   "source": [
    "df = pd.read_csv('data/ready/train.csv')\n",
    "df"
   ]
  },
  {
   "cell_type": "markdown",
   "id": "d9cdb02d",
   "metadata": {},
   "source": [
    "# Train-val split"
   ]
  },
  {
   "cell_type": "code",
   "execution_count": 4,
   "id": "40a9a30a",
   "metadata": {
    "ExecuteTime": {
     "end_time": "2022-03-10T13:07:18.382723Z",
     "start_time": "2022-03-10T13:07:18.371897Z"
    }
   },
   "outputs": [
    {
     "data": {
      "text/plain": [
       "((1168, 81), (292, 81))"
      ]
     },
     "execution_count": 4,
     "metadata": {},
     "output_type": "execute_result"
    }
   ],
   "source": [
    "df_train, df_val = train_test_split(df, test_size=0.2)\n",
    "df_train.shape, df_val.shape"
   ]
  },
  {
   "cell_type": "code",
   "execution_count": 5,
   "id": "cbd4fca0",
   "metadata": {
    "ExecuteTime": {
     "end_time": "2022-03-10T13:07:25.515574Z",
     "start_time": "2022-03-10T13:07:25.506729Z"
    }
   },
   "outputs": [
    {
     "data": {
      "text/plain": [
       "['MSSubClass', 'MSZoning', 'LotFrontage', 'LotArea', 'Street']"
      ]
     },
     "execution_count": 5,
     "metadata": {},
     "output_type": "execute_result"
    }
   ],
   "source": [
    "cols_x = list(df_train.drop(columns=['Id', 'SalePrice']).columns)\n",
    "cols_y = 'SalePrice'\n",
    "cols_x[:5]"
   ]
  },
  {
   "cell_type": "markdown",
   "id": "11e8dcba",
   "metadata": {},
   "source": [
    "# Logit target"
   ]
  },
  {
   "cell_type": "code",
   "execution_count": 6,
   "id": "a1cc263d",
   "metadata": {
    "ExecuteTime": {
     "end_time": "2022-03-10T13:07:45.986296Z",
     "start_time": "2022-03-10T13:07:45.946815Z"
    }
   },
   "outputs": [
    {
     "name": "stderr",
     "output_type": "stream",
     "text": [
      "/var/folders/yl/z922qgpd7wq35049r7_cn54m0000gn/T/ipykernel_93513/3151798132.py:7: SettingWithCopyWarning: \n",
      "A value is trying to be set on a copy of a slice from a DataFrame.\n",
      "Try using .loc[row_indexer,col_indexer] = value instead\n",
      "\n",
      "See the caveats in the documentation: https://pandas.pydata.org/pandas-docs/stable/user_guide/indexing.html#returning-a-view-versus-a-copy\n",
      "  df_train['SalePrice'] = df_train['SalePrice'].apply(one_plus_log)\n",
      "/var/folders/yl/z922qgpd7wq35049r7_cn54m0000gn/T/ipykernel_93513/3151798132.py:8: SettingWithCopyWarning: \n",
      "A value is trying to be set on a copy of a slice from a DataFrame.\n",
      "Try using .loc[row_indexer,col_indexer] = value instead\n",
      "\n",
      "See the caveats in the documentation: https://pandas.pydata.org/pandas-docs/stable/user_guide/indexing.html#returning-a-view-versus-a-copy\n",
      "  df_val['SalePrice'] = df_val['SalePrice'].apply(one_plus_log)\n"
     ]
    },
    {
     "data": {
      "text/html": [
       "<div>\n",
       "<style scoped>\n",
       "    .dataframe tbody tr th:only-of-type {\n",
       "        vertical-align: middle;\n",
       "    }\n",
       "\n",
       "    .dataframe tbody tr th {\n",
       "        vertical-align: top;\n",
       "    }\n",
       "\n",
       "    .dataframe thead th {\n",
       "        text-align: right;\n",
       "    }\n",
       "</style>\n",
       "<table border=\"1\" class=\"dataframe\">\n",
       "  <thead>\n",
       "    <tr style=\"text-align: right;\">\n",
       "      <th></th>\n",
       "      <th>Id</th>\n",
       "      <th>MSSubClass</th>\n",
       "      <th>MSZoning</th>\n",
       "      <th>LotFrontage</th>\n",
       "      <th>LotArea</th>\n",
       "      <th>Street</th>\n",
       "      <th>Alley</th>\n",
       "      <th>LotShape</th>\n",
       "      <th>LandContour</th>\n",
       "      <th>Utilities</th>\n",
       "      <th>...</th>\n",
       "      <th>PoolArea</th>\n",
       "      <th>PoolQC</th>\n",
       "      <th>Fence</th>\n",
       "      <th>MiscFeature</th>\n",
       "      <th>MiscVal</th>\n",
       "      <th>MoSold</th>\n",
       "      <th>YrSold</th>\n",
       "      <th>SaleType</th>\n",
       "      <th>SaleCondition</th>\n",
       "      <th>SalePrice</th>\n",
       "    </tr>\n",
       "  </thead>\n",
       "  <tbody>\n",
       "    <tr>\n",
       "      <th>383</th>\n",
       "      <td>384</td>\n",
       "      <td>45</td>\n",
       "      <td>4</td>\n",
       "      <td>60.0</td>\n",
       "      <td>9000</td>\n",
       "      <td>0</td>\n",
       "      <td>0</td>\n",
       "      <td>0</td>\n",
       "      <td>0</td>\n",
       "      <td>0</td>\n",
       "      <td>...</td>\n",
       "      <td>0</td>\n",
       "      <td>0</td>\n",
       "      <td>0</td>\n",
       "      <td>0</td>\n",
       "      <td>0</td>\n",
       "      <td>10</td>\n",
       "      <td>2009</td>\n",
       "      <td>0</td>\n",
       "      <td>0</td>\n",
       "      <td>11.238502</td>\n",
       "    </tr>\n",
       "    <tr>\n",
       "      <th>1334</th>\n",
       "      <td>1335</td>\n",
       "      <td>160</td>\n",
       "      <td>1</td>\n",
       "      <td>24.0</td>\n",
       "      <td>2368</td>\n",
       "      <td>0</td>\n",
       "      <td>0</td>\n",
       "      <td>0</td>\n",
       "      <td>0</td>\n",
       "      <td>0</td>\n",
       "      <td>...</td>\n",
       "      <td>0</td>\n",
       "      <td>0</td>\n",
       "      <td>0</td>\n",
       "      <td>0</td>\n",
       "      <td>0</td>\n",
       "      <td>5</td>\n",
       "      <td>2009</td>\n",
       "      <td>0</td>\n",
       "      <td>0</td>\n",
       "      <td>11.736077</td>\n",
       "    </tr>\n",
       "    <tr>\n",
       "      <th>981</th>\n",
       "      <td>982</td>\n",
       "      <td>60</td>\n",
       "      <td>0</td>\n",
       "      <td>98.0</td>\n",
       "      <td>12203</td>\n",
       "      <td>0</td>\n",
       "      <td>0</td>\n",
       "      <td>1</td>\n",
       "      <td>0</td>\n",
       "      <td>0</td>\n",
       "      <td>...</td>\n",
       "      <td>0</td>\n",
       "      <td>0</td>\n",
       "      <td>0</td>\n",
       "      <td>0</td>\n",
       "      <td>0</td>\n",
       "      <td>7</td>\n",
       "      <td>2009</td>\n",
       "      <td>0</td>\n",
       "      <td>0</td>\n",
       "      <td>12.724869</td>\n",
       "    </tr>\n",
       "    <tr>\n",
       "      <th>934</th>\n",
       "      <td>935</td>\n",
       "      <td>20</td>\n",
       "      <td>0</td>\n",
       "      <td>313.0</td>\n",
       "      <td>27650</td>\n",
       "      <td>0</td>\n",
       "      <td>0</td>\n",
       "      <td>2</td>\n",
       "      <td>3</td>\n",
       "      <td>0</td>\n",
       "      <td>...</td>\n",
       "      <td>0</td>\n",
       "      <td>0</td>\n",
       "      <td>0</td>\n",
       "      <td>0</td>\n",
       "      <td>0</td>\n",
       "      <td>11</td>\n",
       "      <td>2008</td>\n",
       "      <td>0</td>\n",
       "      <td>0</td>\n",
       "      <td>12.396697</td>\n",
       "    </tr>\n",
       "    <tr>\n",
       "      <th>856</th>\n",
       "      <td>857</td>\n",
       "      <td>80</td>\n",
       "      <td>0</td>\n",
       "      <td>-1.0</td>\n",
       "      <td>10970</td>\n",
       "      <td>0</td>\n",
       "      <td>0</td>\n",
       "      <td>1</td>\n",
       "      <td>2</td>\n",
       "      <td>0</td>\n",
       "      <td>...</td>\n",
       "      <td>0</td>\n",
       "      <td>0</td>\n",
       "      <td>1</td>\n",
       "      <td>0</td>\n",
       "      <td>0</td>\n",
       "      <td>10</td>\n",
       "      <td>2008</td>\n",
       "      <td>0</td>\n",
       "      <td>0</td>\n",
       "      <td>11.898195</td>\n",
       "    </tr>\n",
       "  </tbody>\n",
       "</table>\n",
       "<p>5 rows × 81 columns</p>\n",
       "</div>"
      ],
      "text/plain": [
       "        Id  MSSubClass  MSZoning  LotFrontage  LotArea  Street  Alley  \\\n",
       "383    384          45         4         60.0     9000       0      0   \n",
       "1334  1335         160         1         24.0     2368       0      0   \n",
       "981    982          60         0         98.0    12203       0      0   \n",
       "934    935          20         0        313.0    27650       0      0   \n",
       "856    857          80         0         -1.0    10970       0      0   \n",
       "\n",
       "      LotShape  LandContour  Utilities  ...  PoolArea  PoolQC  Fence  \\\n",
       "383          0            0          0  ...         0       0      0   \n",
       "1334         0            0          0  ...         0       0      0   \n",
       "981          1            0          0  ...         0       0      0   \n",
       "934          2            3          0  ...         0       0      0   \n",
       "856          1            2          0  ...         0       0      1   \n",
       "\n",
       "      MiscFeature  MiscVal  MoSold  YrSold  SaleType  SaleCondition  SalePrice  \n",
       "383             0        0      10    2009         0              0  11.238502  \n",
       "1334            0        0       5    2009         0              0  11.736077  \n",
       "981             0        0       7    2009         0              0  12.724869  \n",
       "934             0        0      11    2008         0              0  12.396697  \n",
       "856             0        0      10    2008         0              0  11.898195  \n",
       "\n",
       "[5 rows x 81 columns]"
      ]
     },
     "execution_count": 6,
     "metadata": {},
     "output_type": "execute_result"
    }
   ],
   "source": [
    "def one_plus_log(x):\n",
    "    return np.log(1 + x)\n",
    "\n",
    "def one_plus_log_reverse(x):\n",
    "    return np.exp(x) - 1\n",
    "\n",
    "df_train['SalePrice'] = df_train['SalePrice'].apply(one_plus_log)\n",
    "df_val['SalePrice'] = df_val['SalePrice'].apply(one_plus_log)\n",
    "df_val.head()"
   ]
  },
  {
   "cell_type": "markdown",
   "id": "f6ced7e7",
   "metadata": {},
   "source": [
    "# Apply model"
   ]
  },
  {
   "cell_type": "code",
   "execution_count": 7,
   "id": "3e79ec42",
   "metadata": {
    "ExecuteTime": {
     "end_time": "2022-03-10T13:07:56.474431Z",
     "start_time": "2022-03-10T13:07:56.470089Z"
    }
   },
   "outputs": [],
   "source": [
    "def rmse(y, y_hat):\n",
    "    return mean_squared_error(y, y_hat) ** 0.5"
   ]
  },
  {
   "cell_type": "markdown",
   "id": "44166fa9",
   "metadata": {},
   "source": [
    "min samples leaf"
   ]
  },
  {
   "cell_type": "code",
   "execution_count": 19,
   "id": "d72948e6",
   "metadata": {
    "ExecuteTime": {
     "end_time": "2022-03-10T13:10:58.296106Z",
     "start_time": "2022-03-10T13:10:57.854768Z"
    }
   },
   "outputs": [
    {
     "name": "stdout",
     "output_type": "stream",
     "text": [
      "Train RMSE 0.0808155624751703\n",
      "Test RMSE 0.11338020778163703\n"
     ]
    }
   ],
   "source": [
    "gb = GradientBoostingRegressor(random_state=27, min_samples_leaf=1)\n",
    "\n",
    "gb.fit(df_train[cols_x], df_train[cols_y])\n",
    "\n",
    "y_train_hat = gb.predict(df_train[cols_x])\n",
    "y_val_hat = gb.predict(df_val[cols_x])\n",
    "\n",
    "print('Train RMSE', rmse(y_train_hat, df_train[cols_y]))\n",
    "print('Test RMSE', rmse(y_val_hat, df_val[cols_y]))"
   ]
  },
  {
   "cell_type": "code",
   "execution_count": 20,
   "id": "e4e54c32",
   "metadata": {
    "ExecuteTime": {
     "end_time": "2022-03-10T13:10:59.541867Z",
     "start_time": "2022-03-10T13:10:59.102350Z"
    }
   },
   "outputs": [
    {
     "name": "stdout",
     "output_type": "stream",
     "text": [
      "Train RMSE 0.08271302609386146\n",
      "Test RMSE 0.11532430733242154\n"
     ]
    }
   ],
   "source": [
    "gb = GradientBoostingRegressor(random_state=27, min_samples_leaf=3)\n",
    "\n",
    "gb.fit(df_train[cols_x], df_train[cols_y])\n",
    "\n",
    "y_train_hat = gb.predict(df_train[cols_x])\n",
    "y_val_hat = gb.predict(df_val[cols_x])\n",
    "\n",
    "print('Train RMSE', rmse(y_train_hat, df_train[cols_y]))\n",
    "print('Test RMSE', rmse(y_val_hat, df_val[cols_y]))"
   ]
  },
  {
   "cell_type": "code",
   "execution_count": 21,
   "id": "691df522",
   "metadata": {
    "ExecuteTime": {
     "end_time": "2022-03-10T13:11:01.772421Z",
     "start_time": "2022-03-10T13:11:01.333004Z"
    }
   },
   "outputs": [
    {
     "name": "stdout",
     "output_type": "stream",
     "text": [
      "Train RMSE 0.08544690175726018\n",
      "Test RMSE 0.11467528942963325\n"
     ]
    }
   ],
   "source": [
    "gb = GradientBoostingRegressor(random_state=27, min_samples_leaf=5)\n",
    "\n",
    "gb.fit(df_train[cols_x], df_train[cols_y])\n",
    "\n",
    "y_train_hat = gb.predict(df_train[cols_x])\n",
    "y_val_hat = gb.predict(df_val[cols_x])\n",
    "\n",
    "print('Train RMSE', rmse(y_train_hat, df_train[cols_y]))\n",
    "print('Test RMSE', rmse(y_val_hat, df_val[cols_y]))"
   ]
  },
  {
   "cell_type": "code",
   "execution_count": 22,
   "id": "55bb5a7f",
   "metadata": {
    "ExecuteTime": {
     "end_time": "2022-03-10T13:11:04.095239Z",
     "start_time": "2022-03-10T13:11:03.661301Z"
    }
   },
   "outputs": [
    {
     "name": "stdout",
     "output_type": "stream",
     "text": [
      "Train RMSE 0.08848056814652173\n",
      "Test RMSE 0.11340724535834193\n"
     ]
    }
   ],
   "source": [
    "gb = GradientBoostingRegressor(random_state=27, min_samples_leaf=10)\n",
    "\n",
    "gb.fit(df_train[cols_x], df_train[cols_y])\n",
    "\n",
    "y_train_hat = gb.predict(df_train[cols_x])\n",
    "y_val_hat = gb.predict(df_val[cols_x])\n",
    "\n",
    "print('Train RMSE', rmse(y_train_hat, df_train[cols_y]))\n",
    "print('Test RMSE', rmse(y_val_hat, df_val[cols_y]))"
   ]
  },
  {
   "cell_type": "code",
   "execution_count": 23,
   "id": "56afe69d",
   "metadata": {
    "ExecuteTime": {
     "end_time": "2022-03-10T13:11:05.629887Z",
     "start_time": "2022-03-10T13:11:05.195699Z"
    }
   },
   "outputs": [
    {
     "name": "stdout",
     "output_type": "stream",
     "text": [
      "Train RMSE 0.09475310001653588\n",
      "Test RMSE 0.11645856951952153\n"
     ]
    }
   ],
   "source": [
    "gb = GradientBoostingRegressor(random_state=27, min_samples_leaf=20)\n",
    "\n",
    "gb.fit(df_train[cols_x], df_train[cols_y])\n",
    "\n",
    "y_train_hat = gb.predict(df_train[cols_x])\n",
    "y_val_hat = gb.predict(df_val[cols_x])\n",
    "\n",
    "print('Train RMSE', rmse(y_train_hat, df_train[cols_y]))\n",
    "print('Test RMSE', rmse(y_val_hat, df_val[cols_y]))"
   ]
  },
  {
   "cell_type": "code",
   "execution_count": 24,
   "id": "c4c866ed",
   "metadata": {
    "ExecuteTime": {
     "end_time": "2022-03-10T13:11:07.847716Z",
     "start_time": "2022-03-10T13:11:07.428330Z"
    }
   },
   "outputs": [
    {
     "name": "stdout",
     "output_type": "stream",
     "text": [
      "Train RMSE 0.10618286687969794\n",
      "Test RMSE 0.11913746074228353\n"
     ]
    }
   ],
   "source": [
    "gb = GradientBoostingRegressor(random_state=27, min_samples_leaf=50)\n",
    "\n",
    "gb.fit(df_train[cols_x], df_train[cols_y])\n",
    "\n",
    "y_train_hat = gb.predict(df_train[cols_x])\n",
    "y_val_hat = gb.predict(df_val[cols_x])\n",
    "\n",
    "print('Train RMSE', rmse(y_train_hat, df_train[cols_y]))\n",
    "print('Test RMSE', rmse(y_val_hat, df_val[cols_y]))"
   ]
  },
  {
   "cell_type": "markdown",
   "id": "9a22cf9f",
   "metadata": {},
   "source": [
    "max features"
   ]
  },
  {
   "cell_type": "code",
   "execution_count": 25,
   "id": "ad922b15",
   "metadata": {
    "ExecuteTime": {
     "end_time": "2022-03-10T13:11:43.390072Z",
     "start_time": "2022-03-10T13:11:43.291810Z"
    }
   },
   "outputs": [
    {
     "name": "stdout",
     "output_type": "stream",
     "text": [
      "Train RMSE 0.10252681334231276\n",
      "Test RMSE 0.11655362179114714\n"
     ]
    }
   ],
   "source": [
    "gb = GradientBoostingRegressor(random_state=27, min_samples_leaf=10, max_features=0.1)\n",
    "\n",
    "gb.fit(df_train[cols_x], df_train[cols_y])\n",
    "\n",
    "y_train_hat = gb.predict(df_train[cols_x])\n",
    "y_val_hat = gb.predict(df_val[cols_x])\n",
    "\n",
    "print('Train RMSE', rmse(y_train_hat, df_train[cols_y]))\n",
    "print('Test RMSE', rmse(y_val_hat, df_val[cols_y]))"
   ]
  },
  {
   "cell_type": "code",
   "execution_count": 26,
   "id": "ebf3ab30",
   "metadata": {
    "ExecuteTime": {
     "end_time": "2022-03-10T13:11:52.647830Z",
     "start_time": "2022-03-10T13:11:52.472882Z"
    }
   },
   "outputs": [
    {
     "name": "stdout",
     "output_type": "stream",
     "text": [
      "Train RMSE 0.09330138318350573\n",
      "Test RMSE 0.1163532755522098\n"
     ]
    }
   ],
   "source": [
    "gb = GradientBoostingRegressor(random_state=27, min_samples_leaf=10, max_features=0.3)\n",
    "\n",
    "gb.fit(df_train[cols_x], df_train[cols_y])\n",
    "\n",
    "y_train_hat = gb.predict(df_train[cols_x])\n",
    "y_val_hat = gb.predict(df_val[cols_x])\n",
    "\n",
    "print('Train RMSE', rmse(y_train_hat, df_train[cols_y]))\n",
    "print('Test RMSE', rmse(y_val_hat, df_val[cols_y]))"
   ]
  },
  {
   "cell_type": "code",
   "execution_count": 27,
   "id": "c1d02084",
   "metadata": {
    "ExecuteTime": {
     "end_time": "2022-03-10T13:12:01.020594Z",
     "start_time": "2022-03-10T13:12:00.771629Z"
    }
   },
   "outputs": [
    {
     "name": "stdout",
     "output_type": "stream",
     "text": [
      "Train RMSE 0.09148460605661687\n",
      "Test RMSE 0.11653947658534985\n"
     ]
    }
   ],
   "source": [
    "gb = GradientBoostingRegressor(random_state=27, min_samples_leaf=10, max_features=0.5)\n",
    "\n",
    "gb.fit(df_train[cols_x], df_train[cols_y])\n",
    "\n",
    "y_train_hat = gb.predict(df_train[cols_x])\n",
    "y_val_hat = gb.predict(df_val[cols_x])\n",
    "\n",
    "print('Train RMSE', rmse(y_train_hat, df_train[cols_y]))\n",
    "print('Test RMSE', rmse(y_val_hat, df_val[cols_y]))"
   ]
  },
  {
   "cell_type": "code",
   "execution_count": 28,
   "id": "7d40932c",
   "metadata": {
    "ExecuteTime": {
     "end_time": "2022-03-10T13:12:07.762569Z",
     "start_time": "2022-03-10T13:12:07.438041Z"
    }
   },
   "outputs": [
    {
     "name": "stdout",
     "output_type": "stream",
     "text": [
      "Train RMSE 0.09026066859565629\n",
      "Test RMSE 0.11451581248017013\n"
     ]
    }
   ],
   "source": [
    "gb = GradientBoostingRegressor(random_state=27, min_samples_leaf=10, max_features=0.7)\n",
    "\n",
    "gb.fit(df_train[cols_x], df_train[cols_y])\n",
    "\n",
    "y_train_hat = gb.predict(df_train[cols_x])\n",
    "y_val_hat = gb.predict(df_val[cols_x])\n",
    "\n",
    "print('Train RMSE', rmse(y_train_hat, df_train[cols_y]))\n",
    "print('Test RMSE', rmse(y_val_hat, df_val[cols_y]))"
   ]
  },
  {
   "cell_type": "code",
   "execution_count": 29,
   "id": "64c6bc49",
   "metadata": {
    "ExecuteTime": {
     "end_time": "2022-03-10T13:12:14.571344Z",
     "start_time": "2022-03-10T13:12:14.173075Z"
    }
   },
   "outputs": [
    {
     "name": "stdout",
     "output_type": "stream",
     "text": [
      "Train RMSE 0.09096352614605889\n",
      "Test RMSE 0.11460189483372248\n"
     ]
    }
   ],
   "source": [
    "gb = GradientBoostingRegressor(random_state=27, min_samples_leaf=10, max_features=0.9)\n",
    "\n",
    "gb.fit(df_train[cols_x], df_train[cols_y])\n",
    "\n",
    "y_train_hat = gb.predict(df_train[cols_x])\n",
    "y_val_hat = gb.predict(df_val[cols_x])\n",
    "\n",
    "print('Train RMSE', rmse(y_train_hat, df_train[cols_y]))\n",
    "print('Test RMSE', rmse(y_val_hat, df_val[cols_y]))"
   ]
  },
  {
   "cell_type": "code",
   "execution_count": 31,
   "id": "87924fcc",
   "metadata": {
    "ExecuteTime": {
     "end_time": "2022-03-10T13:12:28.525116Z",
     "start_time": "2022-03-10T13:12:28.089300Z"
    }
   },
   "outputs": [
    {
     "name": "stdout",
     "output_type": "stream",
     "text": [
      "Train RMSE 0.08848056814652173\n",
      "Test RMSE 0.11340724535834193\n"
     ]
    }
   ],
   "source": [
    "gb = GradientBoostingRegressor(random_state=27, min_samples_leaf=10, max_features=1.)\n",
    "\n",
    "gb.fit(df_train[cols_x], df_train[cols_y])\n",
    "\n",
    "y_train_hat = gb.predict(df_train[cols_x])\n",
    "y_val_hat = gb.predict(df_val[cols_x])\n",
    "\n",
    "print('Train RMSE', rmse(y_train_hat, df_train[cols_y]))\n",
    "print('Test RMSE', rmse(y_val_hat, df_val[cols_y]))"
   ]
  },
  {
   "cell_type": "markdown",
   "id": "aaeca5fc",
   "metadata": {},
   "source": [
    "learning rate"
   ]
  },
  {
   "cell_type": "code",
   "execution_count": 38,
   "id": "fc76081c",
   "metadata": {
    "ExecuteTime": {
     "end_time": "2022-03-10T13:15:33.873947Z",
     "start_time": "2022-03-10T13:15:33.437552Z"
    }
   },
   "outputs": [
    {
     "name": "stdout",
     "output_type": "stream",
     "text": [
      "Train RMSE 0.08848056814652173\n",
      "Test RMSE 0.11340724535834193\n"
     ]
    }
   ],
   "source": [
    "gb = GradientBoostingRegressor(random_state=27, min_samples_leaf=10, max_features=1., learning_rate=0.1)\n",
    "\n",
    "gb.fit(df_train[cols_x], df_train[cols_y])\n",
    "\n",
    "y_train_hat = gb.predict(df_train[cols_x])\n",
    "y_val_hat = gb.predict(df_val[cols_x])\n",
    "\n",
    "print('Train RMSE', rmse(y_train_hat, df_train[cols_y]))\n",
    "print('Test RMSE', rmse(y_val_hat, df_val[cols_y]))"
   ]
  },
  {
   "cell_type": "code",
   "execution_count": 39,
   "id": "7c317476",
   "metadata": {
    "ExecuteTime": {
     "end_time": "2022-03-10T13:15:37.573253Z",
     "start_time": "2022-03-10T13:15:37.138117Z"
    }
   },
   "outputs": [
    {
     "name": "stdout",
     "output_type": "stream",
     "text": [
      "Train RMSE 0.22549611426358124\n",
      "Test RMSE 0.22040105962266132\n"
     ]
    }
   ],
   "source": [
    "gb = GradientBoostingRegressor(random_state=27, min_samples_leaf=10, max_features=1., learning_rate=0.01)\n",
    "\n",
    "gb.fit(df_train[cols_x], df_train[cols_y])\n",
    "\n",
    "y_train_hat = gb.predict(df_train[cols_x])\n",
    "y_val_hat = gb.predict(df_val[cols_x])\n",
    "\n",
    "print('Train RMSE', rmse(y_train_hat, df_train[cols_y]))\n",
    "print('Test RMSE', rmse(y_val_hat, df_val[cols_y]))"
   ]
  },
  {
   "cell_type": "code",
   "execution_count": 40,
   "id": "4d293b6e",
   "metadata": {
    "ExecuteTime": {
     "end_time": "2022-03-10T13:15:42.040496Z",
     "start_time": "2022-03-10T13:15:41.606149Z"
    }
   },
   "outputs": [
    {
     "name": "stdout",
     "output_type": "stream",
     "text": [
      "Train RMSE 0.06101384646434209\n",
      "Test RMSE 0.12720378289701376\n"
     ]
    }
   ],
   "source": [
    "gb = GradientBoostingRegressor(random_state=27, min_samples_leaf=10, max_features=1., learning_rate=0.3)\n",
    "\n",
    "gb.fit(df_train[cols_x], df_train[cols_y])\n",
    "\n",
    "y_train_hat = gb.predict(df_train[cols_x])\n",
    "y_val_hat = gb.predict(df_val[cols_x])\n",
    "\n",
    "print('Train RMSE', rmse(y_train_hat, df_train[cols_y]))\n",
    "print('Test RMSE', rmse(y_val_hat, df_val[cols_y]))"
   ]
  },
  {
   "cell_type": "code",
   "execution_count": 41,
   "id": "41f250f4",
   "metadata": {
    "ExecuteTime": {
     "end_time": "2022-03-10T13:15:46.897799Z",
     "start_time": "2022-03-10T13:15:46.459677Z"
    }
   },
   "outputs": [
    {
     "name": "stdout",
     "output_type": "stream",
     "text": [
      "Train RMSE 0.06974664352620964\n",
      "Test RMSE 0.11600111747327001\n"
     ]
    }
   ],
   "source": [
    "gb = GradientBoostingRegressor(random_state=27, min_samples_leaf=10, max_features=1., learning_rate=0.2)\n",
    "\n",
    "gb.fit(df_train[cols_x], df_train[cols_y])\n",
    "\n",
    "y_train_hat = gb.predict(df_train[cols_x])\n",
    "y_val_hat = gb.predict(df_val[cols_x])\n",
    "\n",
    "print('Train RMSE', rmse(y_train_hat, df_train[cols_y]))\n",
    "print('Test RMSE', rmse(y_val_hat, df_val[cols_y]))"
   ]
  },
  {
   "cell_type": "code",
   "execution_count": 42,
   "id": "40fd82c5",
   "metadata": {
    "ExecuteTime": {
     "end_time": "2022-03-10T13:15:51.167343Z",
     "start_time": "2022-03-10T13:15:50.730368Z"
    }
   },
   "outputs": [
    {
     "name": "stdout",
     "output_type": "stream",
     "text": [
      "Train RMSE 0.10792812473477738\n",
      "Test RMSE 0.1205587307906662\n"
     ]
    }
   ],
   "source": [
    "gb = GradientBoostingRegressor(random_state=27, min_samples_leaf=10, max_features=1., learning_rate=0.05)\n",
    "\n",
    "gb.fit(df_train[cols_x], df_train[cols_y])\n",
    "\n",
    "y_train_hat = gb.predict(df_train[cols_x])\n",
    "y_val_hat = gb.predict(df_val[cols_x])\n",
    "\n",
    "print('Train RMSE', rmse(y_train_hat, df_train[cols_y]))\n",
    "print('Test RMSE', rmse(y_val_hat, df_val[cols_y]))"
   ]
  },
  {
   "cell_type": "markdown",
   "id": "e2418801",
   "metadata": {},
   "source": [
    "cpp alpha"
   ]
  },
  {
   "cell_type": "code",
   "execution_count": 44,
   "id": "a111e136",
   "metadata": {
    "ExecuteTime": {
     "end_time": "2022-03-10T13:17:34.228604Z",
     "start_time": "2022-03-10T13:17:33.800541Z"
    }
   },
   "outputs": [
    {
     "name": "stdout",
     "output_type": "stream",
     "text": [
      "Train RMSE 0.4020433455353874\n",
      "Test RMSE 0.38841976873972806\n"
     ]
    }
   ],
   "source": [
    "gb = GradientBoostingRegressor(random_state=27\n",
    "                               , min_samples_leaf=10, max_features=1.\n",
    "                               , learning_rate=0.1, ccp_alpha=0.5)\n",
    "\n",
    "gb.fit(df_train[cols_x], df_train[cols_y])\n",
    "\n",
    "y_train_hat = gb.predict(df_train[cols_x])\n",
    "y_val_hat = gb.predict(df_val[cols_x])\n",
    "\n",
    "print('Train RMSE', rmse(y_train_hat, df_train[cols_y]))\n",
    "print('Test RMSE', rmse(y_val_hat, df_val[cols_y]))"
   ]
  },
  {
   "cell_type": "code",
   "execution_count": 45,
   "id": "27ccc00d",
   "metadata": {
    "ExecuteTime": {
     "end_time": "2022-03-10T13:17:42.575816Z",
     "start_time": "2022-03-10T13:17:42.141271Z"
    }
   },
   "outputs": [
    {
     "name": "stdout",
     "output_type": "stream",
     "text": [
      "Train RMSE 0.23900526808807324\n",
      "Test RMSE 0.22543767553151717\n"
     ]
    }
   ],
   "source": [
    "gb = GradientBoostingRegressor(random_state=27\n",
    "                               , min_samples_leaf=10, max_features=1.\n",
    "                               , learning_rate=0.1, ccp_alpha=0.01)\n",
    "\n",
    "gb.fit(df_train[cols_x], df_train[cols_y])\n",
    "\n",
    "y_train_hat = gb.predict(df_train[cols_x])\n",
    "y_val_hat = gb.predict(df_val[cols_x])\n",
    "\n",
    "print('Train RMSE', rmse(y_train_hat, df_train[cols_y]))\n",
    "print('Test RMSE', rmse(y_val_hat, df_val[cols_y]))"
   ]
  },
  {
   "cell_type": "code",
   "execution_count": 49,
   "id": "b4c3ebd0",
   "metadata": {
    "ExecuteTime": {
     "end_time": "2022-03-10T13:18:07.477599Z",
     "start_time": "2022-03-10T13:18:07.042840Z"
    }
   },
   "outputs": [
    {
     "name": "stdout",
     "output_type": "stream",
     "text": [
      "Train RMSE 0.10243139436124449\n",
      "Test RMSE 0.11751672816355171\n"
     ]
    }
   ],
   "source": [
    "gb = GradientBoostingRegressor(random_state=27\n",
    "                               , min_samples_leaf=10, max_features=1.\n",
    "                               , learning_rate=0.1, ccp_alpha=0.0001)\n",
    "\n",
    "gb.fit(df_train[cols_x], df_train[cols_y])\n",
    "\n",
    "y_train_hat = gb.predict(df_train[cols_x])\n",
    "y_val_hat = gb.predict(df_val[cols_x])\n",
    "\n",
    "print('Train RMSE', rmse(y_train_hat, df_train[cols_y]))\n",
    "print('Test RMSE', rmse(y_val_hat, df_val[cols_y]))"
   ]
  },
  {
   "cell_type": "markdown",
   "id": "067a5980",
   "metadata": {},
   "source": [
    "# Predict test set"
   ]
  },
  {
   "cell_type": "code",
   "execution_count": 50,
   "id": "cff60ac8",
   "metadata": {
    "ExecuteTime": {
     "end_time": "2022-03-10T13:19:52.122040Z",
     "start_time": "2022-03-10T13:19:52.076984Z"
    }
   },
   "outputs": [
    {
     "data": {
      "text/html": [
       "<div>\n",
       "<style scoped>\n",
       "    .dataframe tbody tr th:only-of-type {\n",
       "        vertical-align: middle;\n",
       "    }\n",
       "\n",
       "    .dataframe tbody tr th {\n",
       "        vertical-align: top;\n",
       "    }\n",
       "\n",
       "    .dataframe thead th {\n",
       "        text-align: right;\n",
       "    }\n",
       "</style>\n",
       "<table border=\"1\" class=\"dataframe\">\n",
       "  <thead>\n",
       "    <tr style=\"text-align: right;\">\n",
       "      <th></th>\n",
       "      <th>Id</th>\n",
       "      <th>MSSubClass</th>\n",
       "      <th>MSZoning</th>\n",
       "      <th>LotFrontage</th>\n",
       "      <th>LotArea</th>\n",
       "      <th>Street</th>\n",
       "      <th>Alley</th>\n",
       "      <th>LotShape</th>\n",
       "      <th>LandContour</th>\n",
       "      <th>Utilities</th>\n",
       "      <th>...</th>\n",
       "      <th>ScreenPorch</th>\n",
       "      <th>PoolArea</th>\n",
       "      <th>PoolQC</th>\n",
       "      <th>Fence</th>\n",
       "      <th>MiscFeature</th>\n",
       "      <th>MiscVal</th>\n",
       "      <th>MoSold</th>\n",
       "      <th>YrSold</th>\n",
       "      <th>SaleType</th>\n",
       "      <th>SaleCondition</th>\n",
       "    </tr>\n",
       "  </thead>\n",
       "  <tbody>\n",
       "    <tr>\n",
       "      <th>0</th>\n",
       "      <td>1461</td>\n",
       "      <td>20</td>\n",
       "      <td>4</td>\n",
       "      <td>80.0</td>\n",
       "      <td>11622</td>\n",
       "      <td>0</td>\n",
       "      <td>-1</td>\n",
       "      <td>0</td>\n",
       "      <td>0</td>\n",
       "      <td>0</td>\n",
       "      <td>...</td>\n",
       "      <td>120</td>\n",
       "      <td>0</td>\n",
       "      <td>-1</td>\n",
       "      <td>1</td>\n",
       "      <td>-1</td>\n",
       "      <td>0</td>\n",
       "      <td>6</td>\n",
       "      <td>2010</td>\n",
       "      <td>0</td>\n",
       "      <td>0</td>\n",
       "    </tr>\n",
       "    <tr>\n",
       "      <th>1</th>\n",
       "      <td>1462</td>\n",
       "      <td>20</td>\n",
       "      <td>0</td>\n",
       "      <td>81.0</td>\n",
       "      <td>14267</td>\n",
       "      <td>0</td>\n",
       "      <td>-1</td>\n",
       "      <td>1</td>\n",
       "      <td>0</td>\n",
       "      <td>0</td>\n",
       "      <td>...</td>\n",
       "      <td>0</td>\n",
       "      <td>0</td>\n",
       "      <td>-1</td>\n",
       "      <td>-1</td>\n",
       "      <td>2</td>\n",
       "      <td>12500</td>\n",
       "      <td>6</td>\n",
       "      <td>2010</td>\n",
       "      <td>0</td>\n",
       "      <td>0</td>\n",
       "    </tr>\n",
       "    <tr>\n",
       "      <th>2</th>\n",
       "      <td>1463</td>\n",
       "      <td>60</td>\n",
       "      <td>0</td>\n",
       "      <td>74.0</td>\n",
       "      <td>13830</td>\n",
       "      <td>0</td>\n",
       "      <td>-1</td>\n",
       "      <td>1</td>\n",
       "      <td>0</td>\n",
       "      <td>0</td>\n",
       "      <td>...</td>\n",
       "      <td>0</td>\n",
       "      <td>0</td>\n",
       "      <td>-1</td>\n",
       "      <td>1</td>\n",
       "      <td>-1</td>\n",
       "      <td>0</td>\n",
       "      <td>3</td>\n",
       "      <td>2010</td>\n",
       "      <td>0</td>\n",
       "      <td>0</td>\n",
       "    </tr>\n",
       "    <tr>\n",
       "      <th>3</th>\n",
       "      <td>1464</td>\n",
       "      <td>60</td>\n",
       "      <td>0</td>\n",
       "      <td>78.0</td>\n",
       "      <td>9978</td>\n",
       "      <td>0</td>\n",
       "      <td>-1</td>\n",
       "      <td>1</td>\n",
       "      <td>0</td>\n",
       "      <td>0</td>\n",
       "      <td>...</td>\n",
       "      <td>0</td>\n",
       "      <td>0</td>\n",
       "      <td>-1</td>\n",
       "      <td>-1</td>\n",
       "      <td>-1</td>\n",
       "      <td>0</td>\n",
       "      <td>6</td>\n",
       "      <td>2010</td>\n",
       "      <td>0</td>\n",
       "      <td>0</td>\n",
       "    </tr>\n",
       "    <tr>\n",
       "      <th>4</th>\n",
       "      <td>1465</td>\n",
       "      <td>120</td>\n",
       "      <td>0</td>\n",
       "      <td>43.0</td>\n",
       "      <td>5005</td>\n",
       "      <td>0</td>\n",
       "      <td>-1</td>\n",
       "      <td>1</td>\n",
       "      <td>3</td>\n",
       "      <td>0</td>\n",
       "      <td>...</td>\n",
       "      <td>144</td>\n",
       "      <td>0</td>\n",
       "      <td>-1</td>\n",
       "      <td>-1</td>\n",
       "      <td>-1</td>\n",
       "      <td>0</td>\n",
       "      <td>1</td>\n",
       "      <td>2010</td>\n",
       "      <td>0</td>\n",
       "      <td>0</td>\n",
       "    </tr>\n",
       "    <tr>\n",
       "      <th>...</th>\n",
       "      <td>...</td>\n",
       "      <td>...</td>\n",
       "      <td>...</td>\n",
       "      <td>...</td>\n",
       "      <td>...</td>\n",
       "      <td>...</td>\n",
       "      <td>...</td>\n",
       "      <td>...</td>\n",
       "      <td>...</td>\n",
       "      <td>...</td>\n",
       "      <td>...</td>\n",
       "      <td>...</td>\n",
       "      <td>...</td>\n",
       "      <td>...</td>\n",
       "      <td>...</td>\n",
       "      <td>...</td>\n",
       "      <td>...</td>\n",
       "      <td>...</td>\n",
       "      <td>...</td>\n",
       "      <td>...</td>\n",
       "      <td>...</td>\n",
       "    </tr>\n",
       "    <tr>\n",
       "      <th>1454</th>\n",
       "      <td>2915</td>\n",
       "      <td>160</td>\n",
       "      <td>1</td>\n",
       "      <td>21.0</td>\n",
       "      <td>1936</td>\n",
       "      <td>0</td>\n",
       "      <td>-1</td>\n",
       "      <td>0</td>\n",
       "      <td>0</td>\n",
       "      <td>0</td>\n",
       "      <td>...</td>\n",
       "      <td>0</td>\n",
       "      <td>0</td>\n",
       "      <td>-1</td>\n",
       "      <td>-1</td>\n",
       "      <td>-1</td>\n",
       "      <td>0</td>\n",
       "      <td>6</td>\n",
       "      <td>2006</td>\n",
       "      <td>0</td>\n",
       "      <td>0</td>\n",
       "    </tr>\n",
       "    <tr>\n",
       "      <th>1455</th>\n",
       "      <td>2916</td>\n",
       "      <td>160</td>\n",
       "      <td>1</td>\n",
       "      <td>21.0</td>\n",
       "      <td>1894</td>\n",
       "      <td>0</td>\n",
       "      <td>-1</td>\n",
       "      <td>0</td>\n",
       "      <td>0</td>\n",
       "      <td>0</td>\n",
       "      <td>...</td>\n",
       "      <td>0</td>\n",
       "      <td>0</td>\n",
       "      <td>-1</td>\n",
       "      <td>-1</td>\n",
       "      <td>-1</td>\n",
       "      <td>0</td>\n",
       "      <td>4</td>\n",
       "      <td>2006</td>\n",
       "      <td>0</td>\n",
       "      <td>1</td>\n",
       "    </tr>\n",
       "    <tr>\n",
       "      <th>1456</th>\n",
       "      <td>2917</td>\n",
       "      <td>20</td>\n",
       "      <td>0</td>\n",
       "      <td>160.0</td>\n",
       "      <td>20000</td>\n",
       "      <td>0</td>\n",
       "      <td>-1</td>\n",
       "      <td>0</td>\n",
       "      <td>0</td>\n",
       "      <td>0</td>\n",
       "      <td>...</td>\n",
       "      <td>0</td>\n",
       "      <td>0</td>\n",
       "      <td>-1</td>\n",
       "      <td>-1</td>\n",
       "      <td>-1</td>\n",
       "      <td>0</td>\n",
       "      <td>9</td>\n",
       "      <td>2006</td>\n",
       "      <td>0</td>\n",
       "      <td>1</td>\n",
       "    </tr>\n",
       "    <tr>\n",
       "      <th>1457</th>\n",
       "      <td>2918</td>\n",
       "      <td>85</td>\n",
       "      <td>0</td>\n",
       "      <td>62.0</td>\n",
       "      <td>10441</td>\n",
       "      <td>0</td>\n",
       "      <td>-1</td>\n",
       "      <td>0</td>\n",
       "      <td>0</td>\n",
       "      <td>0</td>\n",
       "      <td>...</td>\n",
       "      <td>0</td>\n",
       "      <td>0</td>\n",
       "      <td>-1</td>\n",
       "      <td>1</td>\n",
       "      <td>1</td>\n",
       "      <td>700</td>\n",
       "      <td>7</td>\n",
       "      <td>2006</td>\n",
       "      <td>0</td>\n",
       "      <td>0</td>\n",
       "    </tr>\n",
       "    <tr>\n",
       "      <th>1458</th>\n",
       "      <td>2919</td>\n",
       "      <td>60</td>\n",
       "      <td>0</td>\n",
       "      <td>74.0</td>\n",
       "      <td>9627</td>\n",
       "      <td>0</td>\n",
       "      <td>-1</td>\n",
       "      <td>0</td>\n",
       "      <td>0</td>\n",
       "      <td>0</td>\n",
       "      <td>...</td>\n",
       "      <td>0</td>\n",
       "      <td>0</td>\n",
       "      <td>-1</td>\n",
       "      <td>-1</td>\n",
       "      <td>-1</td>\n",
       "      <td>0</td>\n",
       "      <td>11</td>\n",
       "      <td>2006</td>\n",
       "      <td>0</td>\n",
       "      <td>0</td>\n",
       "    </tr>\n",
       "  </tbody>\n",
       "</table>\n",
       "<p>1459 rows × 80 columns</p>\n",
       "</div>"
      ],
      "text/plain": [
       "        Id  MSSubClass  MSZoning  LotFrontage  LotArea  Street  Alley  \\\n",
       "0     1461          20         4         80.0    11622       0     -1   \n",
       "1     1462          20         0         81.0    14267       0     -1   \n",
       "2     1463          60         0         74.0    13830       0     -1   \n",
       "3     1464          60         0         78.0     9978       0     -1   \n",
       "4     1465         120         0         43.0     5005       0     -1   \n",
       "...    ...         ...       ...          ...      ...     ...    ...   \n",
       "1454  2915         160         1         21.0     1936       0     -1   \n",
       "1455  2916         160         1         21.0     1894       0     -1   \n",
       "1456  2917          20         0        160.0    20000       0     -1   \n",
       "1457  2918          85         0         62.0    10441       0     -1   \n",
       "1458  2919          60         0         74.0     9627       0     -1   \n",
       "\n",
       "      LotShape  LandContour  Utilities  ...  ScreenPorch  PoolArea  PoolQC  \\\n",
       "0            0            0          0  ...          120         0      -1   \n",
       "1            1            0          0  ...            0         0      -1   \n",
       "2            1            0          0  ...            0         0      -1   \n",
       "3            1            0          0  ...            0         0      -1   \n",
       "4            1            3          0  ...          144         0      -1   \n",
       "...        ...          ...        ...  ...          ...       ...     ...   \n",
       "1454         0            0          0  ...            0         0      -1   \n",
       "1455         0            0          0  ...            0         0      -1   \n",
       "1456         0            0          0  ...            0         0      -1   \n",
       "1457         0            0          0  ...            0         0      -1   \n",
       "1458         0            0          0  ...            0         0      -1   \n",
       "\n",
       "      Fence  MiscFeature  MiscVal  MoSold  YrSold  SaleType  SaleCondition  \n",
       "0         1           -1        0       6    2010         0              0  \n",
       "1        -1            2    12500       6    2010         0              0  \n",
       "2         1           -1        0       3    2010         0              0  \n",
       "3        -1           -1        0       6    2010         0              0  \n",
       "4        -1           -1        0       1    2010         0              0  \n",
       "...     ...          ...      ...     ...     ...       ...            ...  \n",
       "1454     -1           -1        0       6    2006         0              0  \n",
       "1455     -1           -1        0       4    2006         0              1  \n",
       "1456     -1           -1        0       9    2006         0              1  \n",
       "1457      1            1      700       7    2006         0              0  \n",
       "1458     -1           -1        0      11    2006         0              0  \n",
       "\n",
       "[1459 rows x 80 columns]"
      ]
     },
     "execution_count": 50,
     "metadata": {},
     "output_type": "execute_result"
    }
   ],
   "source": [
    "df_test = pd.read_csv('data/ready/test.csv')\n",
    "df_test"
   ]
  },
  {
   "cell_type": "code",
   "execution_count": 52,
   "id": "9aae8ad7",
   "metadata": {
    "ExecuteTime": {
     "end_time": "2022-03-10T13:21:57.148579Z",
     "start_time": "2022-03-10T13:21:57.134625Z"
    }
   },
   "outputs": [],
   "source": [
    "df['SalePrice'] = df['SalePrice'].apply(one_plus_log)"
   ]
  },
  {
   "cell_type": "code",
   "execution_count": 53,
   "id": "98b10b4e",
   "metadata": {
    "ExecuteTime": {
     "end_time": "2022-03-10T13:21:58.854506Z",
     "start_time": "2022-03-10T13:21:58.325757Z"
    }
   },
   "outputs": [
    {
     "data": {
      "text/html": [
       "<div>\n",
       "<style scoped>\n",
       "    .dataframe tbody tr th:only-of-type {\n",
       "        vertical-align: middle;\n",
       "    }\n",
       "\n",
       "    .dataframe tbody tr th {\n",
       "        vertical-align: top;\n",
       "    }\n",
       "\n",
       "    .dataframe thead th {\n",
       "        text-align: right;\n",
       "    }\n",
       "</style>\n",
       "<table border=\"1\" class=\"dataframe\">\n",
       "  <thead>\n",
       "    <tr style=\"text-align: right;\">\n",
       "      <th></th>\n",
       "      <th>Id</th>\n",
       "      <th>SalePrice</th>\n",
       "    </tr>\n",
       "  </thead>\n",
       "  <tbody>\n",
       "    <tr>\n",
       "      <th>0</th>\n",
       "      <td>1461</td>\n",
       "      <td>11.688879</td>\n",
       "    </tr>\n",
       "    <tr>\n",
       "      <th>1</th>\n",
       "      <td>1462</td>\n",
       "      <td>11.938192</td>\n",
       "    </tr>\n",
       "    <tr>\n",
       "      <th>2</th>\n",
       "      <td>1463</td>\n",
       "      <td>12.088112</td>\n",
       "    </tr>\n",
       "    <tr>\n",
       "      <th>3</th>\n",
       "      <td>1464</td>\n",
       "      <td>12.149397</td>\n",
       "    </tr>\n",
       "    <tr>\n",
       "      <th>4</th>\n",
       "      <td>1465</td>\n",
       "      <td>12.161981</td>\n",
       "    </tr>\n",
       "    <tr>\n",
       "      <th>...</th>\n",
       "      <td>...</td>\n",
       "      <td>...</td>\n",
       "    </tr>\n",
       "    <tr>\n",
       "      <th>1454</th>\n",
       "      <td>2915</td>\n",
       "      <td>11.312756</td>\n",
       "    </tr>\n",
       "    <tr>\n",
       "      <th>1455</th>\n",
       "      <td>2916</td>\n",
       "      <td>11.313046</td>\n",
       "    </tr>\n",
       "    <tr>\n",
       "      <th>1456</th>\n",
       "      <td>2917</td>\n",
       "      <td>12.100013</td>\n",
       "    </tr>\n",
       "    <tr>\n",
       "      <th>1457</th>\n",
       "      <td>2918</td>\n",
       "      <td>11.719498</td>\n",
       "    </tr>\n",
       "    <tr>\n",
       "      <th>1458</th>\n",
       "      <td>2919</td>\n",
       "      <td>12.375696</td>\n",
       "    </tr>\n",
       "  </tbody>\n",
       "</table>\n",
       "<p>1459 rows × 2 columns</p>\n",
       "</div>"
      ],
      "text/plain": [
       "        Id  SalePrice\n",
       "0     1461  11.688879\n",
       "1     1462  11.938192\n",
       "2     1463  12.088112\n",
       "3     1464  12.149397\n",
       "4     1465  12.161981\n",
       "...    ...        ...\n",
       "1454  2915  11.312756\n",
       "1455  2916  11.313046\n",
       "1456  2917  12.100013\n",
       "1457  2918  11.719498\n",
       "1458  2919  12.375696\n",
       "\n",
       "[1459 rows x 2 columns]"
      ]
     },
     "execution_count": 53,
     "metadata": {},
     "output_type": "execute_result"
    }
   ],
   "source": [
    "gb = GradientBoostingRegressor(random_state=27, min_samples_leaf=10, max_features=1., learning_rate=0.1)\n",
    "\n",
    "gb.fit(df[cols_x], df[cols_y])\n",
    "\n",
    "df_test['SalePrice'] = gb.predict(df_test[cols_x])\n",
    "df_submission = df_test[['Id', 'SalePrice']]\n",
    "\n",
    "df_submission"
   ]
  },
  {
   "cell_type": "code",
   "execution_count": 54,
   "id": "289c70ad",
   "metadata": {
    "ExecuteTime": {
     "end_time": "2022-03-10T13:22:50.727891Z",
     "start_time": "2022-03-10T13:22:50.703269Z"
    }
   },
   "outputs": [
    {
     "name": "stderr",
     "output_type": "stream",
     "text": [
      "/var/folders/yl/z922qgpd7wq35049r7_cn54m0000gn/T/ipykernel_93513/3176596026.py:1: SettingWithCopyWarning: \n",
      "A value is trying to be set on a copy of a slice from a DataFrame.\n",
      "Try using .loc[row_indexer,col_indexer] = value instead\n",
      "\n",
      "See the caveats in the documentation: https://pandas.pydata.org/pandas-docs/stable/user_guide/indexing.html#returning-a-view-versus-a-copy\n",
      "  df_submission['SalePrice'] = df_submission['SalePrice'].apply(one_plus_log_reverse)\n"
     ]
    },
    {
     "data": {
      "text/html": [
       "<div>\n",
       "<style scoped>\n",
       "    .dataframe tbody tr th:only-of-type {\n",
       "        vertical-align: middle;\n",
       "    }\n",
       "\n",
       "    .dataframe tbody tr th {\n",
       "        vertical-align: top;\n",
       "    }\n",
       "\n",
       "    .dataframe thead th {\n",
       "        text-align: right;\n",
       "    }\n",
       "</style>\n",
       "<table border=\"1\" class=\"dataframe\">\n",
       "  <thead>\n",
       "    <tr style=\"text-align: right;\">\n",
       "      <th></th>\n",
       "      <th>Id</th>\n",
       "      <th>SalePrice</th>\n",
       "    </tr>\n",
       "  </thead>\n",
       "  <tbody>\n",
       "    <tr>\n",
       "      <th>0</th>\n",
       "      <td>1461</td>\n",
       "      <td>119237.271681</td>\n",
       "    </tr>\n",
       "    <tr>\n",
       "      <th>1</th>\n",
       "      <td>1462</td>\n",
       "      <td>152998.820872</td>\n",
       "    </tr>\n",
       "    <tr>\n",
       "      <th>2</th>\n",
       "      <td>1463</td>\n",
       "      <td>177745.167917</td>\n",
       "    </tr>\n",
       "    <tr>\n",
       "      <th>3</th>\n",
       "      <td>1464</td>\n",
       "      <td>188979.177761</td>\n",
       "    </tr>\n",
       "    <tr>\n",
       "      <th>4</th>\n",
       "      <td>1465</td>\n",
       "      <td>191372.284130</td>\n",
       "    </tr>\n",
       "    <tr>\n",
       "      <th>...</th>\n",
       "      <td>...</td>\n",
       "      <td>...</td>\n",
       "    </tr>\n",
       "    <tr>\n",
       "      <th>1454</th>\n",
       "      <td>2915</td>\n",
       "      <td>81858.229192</td>\n",
       "    </tr>\n",
       "    <tr>\n",
       "      <th>1455</th>\n",
       "      <td>2916</td>\n",
       "      <td>81881.908111</td>\n",
       "    </tr>\n",
       "    <tr>\n",
       "      <th>1456</th>\n",
       "      <td>2917</td>\n",
       "      <td>179873.204925</td>\n",
       "    </tr>\n",
       "    <tr>\n",
       "      <th>1457</th>\n",
       "      <td>2918</td>\n",
       "      <td>122944.667499</td>\n",
       "    </tr>\n",
       "    <tr>\n",
       "      <th>1458</th>\n",
       "      <td>2919</td>\n",
       "      <td>236970.622980</td>\n",
       "    </tr>\n",
       "  </tbody>\n",
       "</table>\n",
       "<p>1459 rows × 2 columns</p>\n",
       "</div>"
      ],
      "text/plain": [
       "        Id      SalePrice\n",
       "0     1461  119237.271681\n",
       "1     1462  152998.820872\n",
       "2     1463  177745.167917\n",
       "3     1464  188979.177761\n",
       "4     1465  191372.284130\n",
       "...    ...            ...\n",
       "1454  2915   81858.229192\n",
       "1455  2916   81881.908111\n",
       "1456  2917  179873.204925\n",
       "1457  2918  122944.667499\n",
       "1458  2919  236970.622980\n",
       "\n",
       "[1459 rows x 2 columns]"
      ]
     },
     "execution_count": 54,
     "metadata": {},
     "output_type": "execute_result"
    }
   ],
   "source": [
    "df_submission['SalePrice'] = df_submission['SalePrice'].apply(one_plus_log_reverse)\n",
    "df_submission"
   ]
  },
  {
   "cell_type": "code",
   "execution_count": 55,
   "id": "8ee9dc1e",
   "metadata": {
    "ExecuteTime": {
     "end_time": "2022-03-10T13:23:18.594022Z",
     "start_time": "2022-03-10T13:23:18.580638Z"
    }
   },
   "outputs": [],
   "source": [
    "df_submission.to_csv('data/results/gb_sklearn.csv', index=False)"
   ]
  },
  {
   "cell_type": "code",
   "execution_count": null,
   "id": "4ff7ae53",
   "metadata": {},
   "outputs": [],
   "source": []
  }
 ],
 "metadata": {
  "kernelspec": {
   "display_name": "uni",
   "language": "python",
   "name": "uni"
  },
  "language_info": {
   "codemirror_mode": {
    "name": "ipython",
    "version": 3
   },
   "file_extension": ".py",
   "mimetype": "text/x-python",
   "name": "python",
   "nbconvert_exporter": "python",
   "pygments_lexer": "ipython3",
   "version": "3.9.7"
  },
  "toc": {
   "base_numbering": 1,
   "nav_menu": {},
   "number_sections": true,
   "sideBar": true,
   "skip_h1_title": false,
   "title_cell": "Table of Contents",
   "title_sidebar": "Contents",
   "toc_cell": false,
   "toc_position": {},
   "toc_section_display": true,
   "toc_window_display": false
  },
  "varInspector": {
   "cols": {
    "lenName": 16,
    "lenType": 16,
    "lenVar": 40
   },
   "kernels_config": {
    "python": {
     "delete_cmd_postfix": "",
     "delete_cmd_prefix": "del ",
     "library": "var_list.py",
     "varRefreshCmd": "print(var_dic_list())"
    },
    "r": {
     "delete_cmd_postfix": ") ",
     "delete_cmd_prefix": "rm(",
     "library": "var_list.r",
     "varRefreshCmd": "cat(var_dic_list()) "
    }
   },
   "types_to_exclude": [
    "module",
    "function",
    "builtin_function_or_method",
    "instance",
    "_Feature"
   ],
   "window_display": false
  }
 },
 "nbformat": 4,
 "nbformat_minor": 5
}
